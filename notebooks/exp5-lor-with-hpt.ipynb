{
 "cells": [
  {
   "cell_type": "code",
   "execution_count": 1,
   "id": "f8660c93",
   "metadata": {},
   "outputs": [
    {
     "name": "stderr",
     "output_type": "stream",
     "text": [
      "c:\\Users\\satya\\OneDrive\\Desktop\\youtube-comment-senitment-analysis\\.venv\\Lib\\site-packages\\tqdm\\auto.py:21: TqdmWarning: IProgress not found. Please update jupyter and ipywidgets. See https://ipywidgets.readthedocs.io/en/stable/user_install.html\n",
      "  from .autonotebook import tqdm as notebook_tqdm\n"
     ]
    },
    {
     "data": {
      "text/html": [
       "<pre style=\"white-space:pre;overflow-x:auto;line-height:normal;font-family:Menlo,'DejaVu Sans Mono',consolas,'Courier New',monospace\">Accessing as satyajeetrai007\n",
       "</pre>\n"
      ],
      "text/plain": [
       "Accessing as satyajeetrai007\n"
      ]
     },
     "metadata": {},
     "output_type": "display_data"
    },
    {
     "data": {
      "text/html": [
       "<pre style=\"white-space:pre;overflow-x:auto;line-height:normal;font-family:Menlo,'DejaVu Sans Mono',consolas,'Courier New',monospace\">Initialized MLflow to track repo <span style=\"color: #008000; text-decoration-color: #008000\">\"satyajeetrai007/Youtube-Comment-Sentiment-Analysis\"</span>\n",
       "</pre>\n"
      ],
      "text/plain": [
       "Initialized MLflow to track repo \u001b[32m\"satyajeetrai007/Youtube-Comment-Sentiment-Analysis\"\u001b[0m\n"
      ]
     },
     "metadata": {},
     "output_type": "display_data"
    },
    {
     "data": {
      "text/html": [
       "<pre style=\"white-space:pre;overflow-x:auto;line-height:normal;font-family:Menlo,'DejaVu Sans Mono',consolas,'Courier New',monospace\">Repository satyajeetrai007/Youtube-Comment-Sentiment-Analysis initialized!\n",
       "</pre>\n"
      ],
      "text/plain": [
       "Repository satyajeetrai007/Youtube-Comment-Sentiment-Analysis initialized!\n"
      ]
     },
     "metadata": {},
     "output_type": "display_data"
    },
    {
     "data": {
      "text/plain": [
       "(36243, 2)"
      ]
     },
     "execution_count": 1,
     "metadata": {},
     "output_type": "execute_result"
    }
   ],
   "source": [
    "import pickle\n",
    "import pandas as pd\n",
    "from sklearn.feature_extraction.text import TfidfVectorizer\n",
    "from sklearn.model_selection import train_test_split\n",
    "from sklearn.linear_model import LogisticRegression\n",
    "from sklearn.metrics import accuracy_score, classification_report\n",
    "from imblearn.over_sampling import SMOTE\n",
    "import mlflow\n",
    "import mlflow.sklearn\n",
    "import optuna\n",
    "import dagshub\n",
    "\n",
    "dagshub.init(repo_owner='satyajeetrai007', repo_name='Youtube-Comment-Sentiment-Analysis', mlflow=True)\n",
    "mlflow.set_experiment(\"Algorithms with HyperParameter tuning\")\n",
    "\n",
    "df = pd.read_csv('data_preprocessed.csv').dropna().drop_duplicates()\n",
    "df.shape"
   ]
  },
  {
   "cell_type": "code",
   "execution_count": 2,
   "id": "742f32a1",
   "metadata": {},
   "outputs": [
    {
     "name": "stderr",
     "output_type": "stream",
     "text": [
      "[I 2025-08-26 21:00:27,385] A new study created in memory with name: no-name-2aac6c7a-8a86-4c1f-9b05-353a3e0304cb\n",
      "c:\\Users\\satya\\OneDrive\\Desktop\\youtube-comment-senitment-analysis\\.venv\\Lib\\site-packages\\sklearn\\linear_model\\_logistic.py:1296: FutureWarning: Using the 'liblinear' solver for multiclass classification is deprecated. An error will be raised in 1.8. Either use another solver which supports the multinomial loss or wrap the estimator in a OneVsRestClassifier to keep applying a one-versus-rest scheme.\n",
      "  warnings.warn(\n",
      "[I 2025-08-26 21:00:27,998] Trial 0 finished with value: 0.6411702127659574 and parameters: {'C': 0.0006981603367181546, 'penalty': 'l2'}. Best is trial 0 with value: 0.6411702127659574.\n",
      "c:\\Users\\satya\\OneDrive\\Desktop\\youtube-comment-senitment-analysis\\.venv\\Lib\\site-packages\\sklearn\\linear_model\\_logistic.py:1296: FutureWarning: Using the 'liblinear' solver for multiclass classification is deprecated. An error will be raised in 1.8. Either use another solver which supports the multinomial loss or wrap the estimator in a OneVsRestClassifier to keep applying a one-versus-rest scheme.\n",
      "  warnings.warn(\n",
      "[I 2025-08-26 21:00:29,585] Trial 1 finished with value: 0.7386170212765958 and parameters: {'C': 0.09699412029576375, 'penalty': 'l2'}. Best is trial 1 with value: 0.7386170212765958.\n",
      "c:\\Users\\satya\\OneDrive\\Desktop\\youtube-comment-senitment-analysis\\.venv\\Lib\\site-packages\\sklearn\\linear_model\\_logistic.py:1296: FutureWarning: Using the 'liblinear' solver for multiclass classification is deprecated. An error will be raised in 1.8. Either use another solver which supports the multinomial loss or wrap the estimator in a OneVsRestClassifier to keep applying a one-versus-rest scheme.\n",
      "  warnings.warn(\n",
      "[I 2025-08-26 21:00:31,132] Trial 2 finished with value: 0.7337234042553191 and parameters: {'C': 0.08185367134948425, 'penalty': 'l2'}. Best is trial 1 with value: 0.7386170212765958.\n",
      "c:\\Users\\satya\\OneDrive\\Desktop\\youtube-comment-senitment-analysis\\.venv\\Lib\\site-packages\\sklearn\\linear_model\\_logistic.py:1296: FutureWarning: Using the 'liblinear' solver for multiclass classification is deprecated. An error will be raised in 1.8. Either use another solver which supports the multinomial loss or wrap the estimator in a OneVsRestClassifier to keep applying a one-versus-rest scheme.\n",
      "  warnings.warn(\n",
      "[I 2025-08-26 21:00:32,877] Trial 3 finished with value: 0.8278723404255319 and parameters: {'C': 9.79308307675144, 'penalty': 'l1'}. Best is trial 3 with value: 0.8278723404255319.\n",
      "c:\\Users\\satya\\OneDrive\\Desktop\\youtube-comment-senitment-analysis\\.venv\\Lib\\site-packages\\sklearn\\linear_model\\_logistic.py:1296: FutureWarning: Using the 'liblinear' solver for multiclass classification is deprecated. An error will be raised in 1.8. Either use another solver which supports the multinomial loss or wrap the estimator in a OneVsRestClassifier to keep applying a one-versus-rest scheme.\n",
      "  warnings.warn(\n",
      "[I 2025-08-26 21:00:33,493] Trial 4 finished with value: 0.6343617021276595 and parameters: {'C': 0.00019045470204133422, 'penalty': 'l2'}. Best is trial 3 with value: 0.8278723404255319.\n",
      "c:\\Users\\satya\\OneDrive\\Desktop\\youtube-comment-senitment-analysis\\.venv\\Lib\\site-packages\\sklearn\\linear_model\\_logistic.py:1296: FutureWarning: Using the 'liblinear' solver for multiclass classification is deprecated. An error will be raised in 1.8. Either use another solver which supports the multinomial loss or wrap the estimator in a OneVsRestClassifier to keep applying a one-versus-rest scheme.\n",
      "  warnings.warn(\n",
      "[I 2025-08-26 21:00:34,111] Trial 5 finished with value: 0.7004255319148937 and parameters: {'C': 0.07342337168267879, 'penalty': 'l1'}. Best is trial 3 with value: 0.8278723404255319.\n",
      "c:\\Users\\satya\\OneDrive\\Desktop\\youtube-comment-senitment-analysis\\.venv\\Lib\\site-packages\\sklearn\\linear_model\\_logistic.py:1296: FutureWarning: Using the 'liblinear' solver for multiclass classification is deprecated. An error will be raised in 1.8. Either use another solver which supports the multinomial loss or wrap the estimator in a OneVsRestClassifier to keep applying a one-versus-rest scheme.\n",
      "  warnings.warn(\n",
      "[I 2025-08-26 21:00:34,620] Trial 6 finished with value: 0.6363829787234042 and parameters: {'C': 0.00022182811239060185, 'penalty': 'l2'}. Best is trial 3 with value: 0.8278723404255319.\n",
      "c:\\Users\\satya\\OneDrive\\Desktop\\youtube-comment-senitment-analysis\\.venv\\Lib\\site-packages\\sklearn\\linear_model\\_logistic.py:1296: FutureWarning: Using the 'liblinear' solver for multiclass classification is deprecated. An error will be raised in 1.8. Either use another solver which supports the multinomial loss or wrap the estimator in a OneVsRestClassifier to keep applying a one-versus-rest scheme.\n",
      "  warnings.warn(\n",
      "[I 2025-08-26 21:00:35,499] Trial 7 finished with value: 0.8176595744680851 and parameters: {'C': 0.6787089553176284, 'penalty': 'l1'}. Best is trial 3 with value: 0.8278723404255319.\n",
      "c:\\Users\\satya\\OneDrive\\Desktop\\youtube-comment-senitment-analysis\\.venv\\Lib\\site-packages\\sklearn\\linear_model\\_logistic.py:1296: FutureWarning: Using the 'liblinear' solver for multiclass classification is deprecated. An error will be raised in 1.8. Either use another solver which supports the multinomial loss or wrap the estimator in a OneVsRestClassifier to keep applying a one-versus-rest scheme.\n",
      "  warnings.warn(\n",
      "[I 2025-08-26 21:00:35,850] Trial 8 finished with value: 0.5898936170212766 and parameters: {'C': 0.0220063794216635, 'penalty': 'l1'}. Best is trial 3 with value: 0.8278723404255319.\n",
      "c:\\Users\\satya\\OneDrive\\Desktop\\youtube-comment-senitment-analysis\\.venv\\Lib\\site-packages\\sklearn\\linear_model\\_logistic.py:1296: FutureWarning: Using the 'liblinear' solver for multiclass classification is deprecated. An error will be raised in 1.8. Either use another solver which supports the multinomial loss or wrap the estimator in a OneVsRestClassifier to keep applying a one-versus-rest scheme.\n",
      "  warnings.warn(\n",
      "[I 2025-08-26 21:00:36,306] Trial 9 finished with value: 0.64 and parameters: {'C': 0.0005280818295809014, 'penalty': 'l2'}. Best is trial 3 with value: 0.8278723404255319.\n",
      "c:\\Users\\satya\\OneDrive\\Desktop\\youtube-comment-senitment-analysis\\.venv\\Lib\\site-packages\\sklearn\\linear_model\\_logistic.py:1296: FutureWarning: Using the 'liblinear' solver for multiclass classification is deprecated. An error will be raised in 1.8. Either use another solver which supports the multinomial loss or wrap the estimator in a OneVsRestClassifier to keep applying a one-versus-rest scheme.\n",
      "  warnings.warn(\n",
      "[I 2025-08-26 21:00:37,628] Trial 10 finished with value: 0.8264893617021276 and parameters: {'C': 7.068885648584302, 'penalty': 'l1'}. Best is trial 3 with value: 0.8278723404255319.\n",
      "c:\\Users\\satya\\OneDrive\\Desktop\\youtube-comment-senitment-analysis\\.venv\\Lib\\site-packages\\sklearn\\linear_model\\_logistic.py:1296: FutureWarning: Using the 'liblinear' solver for multiclass classification is deprecated. An error will be raised in 1.8. Either use another solver which supports the multinomial loss or wrap the estimator in a OneVsRestClassifier to keep applying a one-versus-rest scheme.\n",
      "  warnings.warn(\n",
      "[I 2025-08-26 21:00:38,790] Trial 11 finished with value: 0.8275531914893617 and parameters: {'C': 8.979251542712591, 'penalty': 'l1'}. Best is trial 3 with value: 0.8278723404255319.\n",
      "c:\\Users\\satya\\OneDrive\\Desktop\\youtube-comment-senitment-analysis\\.venv\\Lib\\site-packages\\sklearn\\linear_model\\_logistic.py:1296: FutureWarning: Using the 'liblinear' solver for multiclass classification is deprecated. An error will be raised in 1.8. Either use another solver which supports the multinomial loss or wrap the estimator in a OneVsRestClassifier to keep applying a one-versus-rest scheme.\n",
      "  warnings.warn(\n",
      "[I 2025-08-26 21:00:40,238] Trial 12 finished with value: 0.8263829787234043 and parameters: {'C': 6.682280410666751, 'penalty': 'l1'}. Best is trial 3 with value: 0.8278723404255319.\n",
      "c:\\Users\\satya\\OneDrive\\Desktop\\youtube-comment-senitment-analysis\\.venv\\Lib\\site-packages\\sklearn\\linear_model\\_logistic.py:1296: FutureWarning: Using the 'liblinear' solver for multiclass classification is deprecated. An error will be raised in 1.8. Either use another solver which supports the multinomial loss or wrap the estimator in a OneVsRestClassifier to keep applying a one-versus-rest scheme.\n",
      "  warnings.warn(\n",
      "[I 2025-08-26 21:00:41,302] Trial 13 finished with value: 0.8226595744680851 and parameters: {'C': 0.9059365239719323, 'penalty': 'l1'}. Best is trial 3 with value: 0.8278723404255319.\n",
      "c:\\Users\\satya\\OneDrive\\Desktop\\youtube-comment-senitment-analysis\\.venv\\Lib\\site-packages\\sklearn\\linear_model\\_logistic.py:1296: FutureWarning: Using the 'liblinear' solver for multiclass classification is deprecated. An error will be raised in 1.8. Either use another solver which supports the multinomial loss or wrap the estimator in a OneVsRestClassifier to keep applying a one-versus-rest scheme.\n",
      "  warnings.warn(\n",
      "[I 2025-08-26 21:00:42,324] Trial 14 finished with value: 0.8247872340425532 and parameters: {'C': 1.2003482442974094, 'penalty': 'l1'}. Best is trial 3 with value: 0.8278723404255319.\n",
      "c:\\Users\\satya\\OneDrive\\Desktop\\youtube-comment-senitment-analysis\\.venv\\Lib\\site-packages\\sklearn\\linear_model\\_logistic.py:1296: FutureWarning: Using the 'liblinear' solver for multiclass classification is deprecated. An error will be raised in 1.8. Either use another solver which supports the multinomial loss or wrap the estimator in a OneVsRestClassifier to keep applying a one-versus-rest scheme.\n",
      "  warnings.warn(\n",
      "[I 2025-08-26 21:00:42,598] Trial 15 finished with value: 0.39393617021276595 and parameters: {'C': 0.007204327430298052, 'penalty': 'l1'}. Best is trial 3 with value: 0.8278723404255319.\n",
      "c:\\Users\\satya\\OneDrive\\Desktop\\youtube-comment-senitment-analysis\\.venv\\Lib\\site-packages\\sklearn\\linear_model\\_logistic.py:1296: FutureWarning: Using the 'liblinear' solver for multiclass classification is deprecated. An error will be raised in 1.8. Either use another solver which supports the multinomial loss or wrap the estimator in a OneVsRestClassifier to keep applying a one-versus-rest scheme.\n",
      "  warnings.warn(\n",
      "[I 2025-08-26 21:00:43,677] Trial 16 finished with value: 0.8277659574468085 and parameters: {'C': 9.751767588310358, 'penalty': 'l1'}. Best is trial 3 with value: 0.8278723404255319.\n",
      "c:\\Users\\satya\\OneDrive\\Desktop\\youtube-comment-senitment-analysis\\.venv\\Lib\\site-packages\\sklearn\\linear_model\\_logistic.py:1296: FutureWarning: Using the 'liblinear' solver for multiclass classification is deprecated. An error will be raised in 1.8. Either use another solver which supports the multinomial loss or wrap the estimator in a OneVsRestClassifier to keep applying a one-versus-rest scheme.\n",
      "  warnings.warn(\n",
      "[I 2025-08-26 21:00:44,893] Trial 17 finished with value: 0.8258510638297872 and parameters: {'C': 2.2712771669787006, 'penalty': 'l1'}. Best is trial 3 with value: 0.8278723404255319.\n",
      "c:\\Users\\satya\\OneDrive\\Desktop\\youtube-comment-senitment-analysis\\.venv\\Lib\\site-packages\\sklearn\\linear_model\\_logistic.py:1296: FutureWarning: Using the 'liblinear' solver for multiclass classification is deprecated. An error will be raised in 1.8. Either use another solver which supports the multinomial loss or wrap the estimator in a OneVsRestClassifier to keep applying a one-versus-rest scheme.\n",
      "  warnings.warn(\n",
      "[I 2025-08-26 21:00:45,631] Trial 18 finished with value: 0.8019148936170213 and parameters: {'C': 0.3487668282480777, 'penalty': 'l1'}. Best is trial 3 with value: 0.8278723404255319.\n",
      "c:\\Users\\satya\\OneDrive\\Desktop\\youtube-comment-senitment-analysis\\.venv\\Lib\\site-packages\\sklearn\\linear_model\\_logistic.py:1296: FutureWarning: Using the 'liblinear' solver for multiclass classification is deprecated. An error will be raised in 1.8. Either use another solver which supports the multinomial loss or wrap the estimator in a OneVsRestClassifier to keep applying a one-versus-rest scheme.\n",
      "  warnings.warn(\n",
      "[I 2025-08-26 21:00:45,904] Trial 19 finished with value: 0.3753191489361702 and parameters: {'C': 0.005931991114090106, 'penalty': 'l1'}. Best is trial 3 with value: 0.8278723404255319.\n",
      "c:\\Users\\satya\\OneDrive\\Desktop\\youtube-comment-senitment-analysis\\.venv\\Lib\\site-packages\\sklearn\\linear_model\\_logistic.py:1296: FutureWarning: Using the 'liblinear' solver for multiclass classification is deprecated. An error will be raised in 1.8. Either use another solver which supports the multinomial loss or wrap the estimator in a OneVsRestClassifier to keep applying a one-versus-rest scheme.\n",
      "  warnings.warn(\n",
      "[I 2025-08-26 21:00:47,122] Trial 20 finished with value: 0.8267021276595745 and parameters: {'C': 2.374814066411574, 'penalty': 'l1'}. Best is trial 3 with value: 0.8278723404255319.\n",
      "c:\\Users\\satya\\OneDrive\\Desktop\\youtube-comment-senitment-analysis\\.venv\\Lib\\site-packages\\sklearn\\linear_model\\_logistic.py:1296: FutureWarning: Using the 'liblinear' solver for multiclass classification is deprecated. An error will be raised in 1.8. Either use another solver which supports the multinomial loss or wrap the estimator in a OneVsRestClassifier to keep applying a one-versus-rest scheme.\n",
      "  warnings.warn(\n",
      "[I 2025-08-26 21:00:48,276] Trial 21 finished with value: 0.8269148936170213 and parameters: {'C': 4.690227715043022, 'penalty': 'l1'}. Best is trial 3 with value: 0.8278723404255319.\n",
      "c:\\Users\\satya\\OneDrive\\Desktop\\youtube-comment-senitment-analysis\\.venv\\Lib\\site-packages\\sklearn\\linear_model\\_logistic.py:1296: FutureWarning: Using the 'liblinear' solver for multiclass classification is deprecated. An error will be raised in 1.8. Either use another solver which supports the multinomial loss or wrap the estimator in a OneVsRestClassifier to keep applying a one-versus-rest scheme.\n",
      "  warnings.warn(\n",
      "[I 2025-08-26 21:00:49,611] Trial 22 finished with value: 0.8274468085106383 and parameters: {'C': 8.664638346110394, 'penalty': 'l1'}. Best is trial 3 with value: 0.8278723404255319.\n",
      "c:\\Users\\satya\\OneDrive\\Desktop\\youtube-comment-senitment-analysis\\.venv\\Lib\\site-packages\\sklearn\\linear_model\\_logistic.py:1296: FutureWarning: Using the 'liblinear' solver for multiclass classification is deprecated. An error will be raised in 1.8. Either use another solver which supports the multinomial loss or wrap the estimator in a OneVsRestClassifier to keep applying a one-versus-rest scheme.\n",
      "  warnings.warn(\n",
      "[I 2025-08-26 21:00:50,322] Trial 23 finished with value: 0.7903191489361702 and parameters: {'C': 0.2598713360619938, 'penalty': 'l1'}. Best is trial 3 with value: 0.8278723404255319.\n",
      "c:\\Users\\satya\\OneDrive\\Desktop\\youtube-comment-senitment-analysis\\.venv\\Lib\\site-packages\\sklearn\\linear_model\\_logistic.py:1296: FutureWarning: Using the 'liblinear' solver for multiclass classification is deprecated. An error will be raised in 1.8. Either use another solver which supports the multinomial loss or wrap the estimator in a OneVsRestClassifier to keep applying a one-versus-rest scheme.\n",
      "  warnings.warn(\n",
      "[I 2025-08-26 21:00:51,367] Trial 24 finished with value: 0.8261702127659575 and parameters: {'C': 2.9632605772759906, 'penalty': 'l1'}. Best is trial 3 with value: 0.8278723404255319.\n",
      "c:\\Users\\satya\\OneDrive\\Desktop\\youtube-comment-senitment-analysis\\.venv\\Lib\\site-packages\\sklearn\\linear_model\\_logistic.py:1296: FutureWarning: Using the 'liblinear' solver for multiclass classification is deprecated. An error will be raised in 1.8. Either use another solver which supports the multinomial loss or wrap the estimator in a OneVsRestClassifier to keep applying a one-versus-rest scheme.\n",
      "  warnings.warn(\n",
      "[I 2025-08-26 21:00:51,965] Trial 25 finished with value: 0.826063829787234 and parameters: {'C': 1.611723961468135, 'penalty': 'l1'}. Best is trial 3 with value: 0.8278723404255319.\n",
      "c:\\Users\\satya\\OneDrive\\Desktop\\youtube-comment-senitment-analysis\\.venv\\Lib\\site-packages\\sklearn\\linear_model\\_logistic.py:1296: FutureWarning: Using the 'liblinear' solver for multiclass classification is deprecated. An error will be raised in 1.8. Either use another solver which supports the multinomial loss or wrap the estimator in a OneVsRestClassifier to keep applying a one-versus-rest scheme.\n",
      "  warnings.warn(\n",
      "[I 2025-08-26 21:00:52,547] Trial 26 finished with value: 0.8061702127659575 and parameters: {'C': 0.418289097202798, 'penalty': 'l1'}. Best is trial 3 with value: 0.8278723404255319.\n",
      "c:\\Users\\satya\\OneDrive\\Desktop\\youtube-comment-senitment-analysis\\.venv\\Lib\\site-packages\\sklearn\\linear_model\\_logistic.py:1296: FutureWarning: Using the 'liblinear' solver for multiclass classification is deprecated. An error will be raised in 1.8. Either use another solver which supports the multinomial loss or wrap the estimator in a OneVsRestClassifier to keep applying a one-versus-rest scheme.\n",
      "  warnings.warn(\n",
      "[I 2025-08-26 21:00:53,765] Trial 27 finished with value: 0.8272340425531914 and parameters: {'C': 8.033154859290011, 'penalty': 'l1'}. Best is trial 3 with value: 0.8278723404255319.\n",
      "c:\\Users\\satya\\OneDrive\\Desktop\\youtube-comment-senitment-analysis\\.venv\\Lib\\site-packages\\sklearn\\linear_model\\_logistic.py:1296: FutureWarning: Using the 'liblinear' solver for multiclass classification is deprecated. An error will be raised in 1.8. Either use another solver which supports the multinomial loss or wrap the estimator in a OneVsRestClassifier to keep applying a one-versus-rest scheme.\n",
      "  warnings.warn(\n",
      "[I 2025-08-26 21:00:54,897] Trial 28 finished with value: 0.826063829787234 and parameters: {'C': 3.0726377250980925, 'penalty': 'l1'}. Best is trial 3 with value: 0.8278723404255319.\n",
      "c:\\Users\\satya\\OneDrive\\Desktop\\youtube-comment-senitment-analysis\\.venv\\Lib\\site-packages\\sklearn\\linear_model\\_logistic.py:1296: FutureWarning: Using the 'liblinear' solver for multiclass classification is deprecated. An error will be raised in 1.8. Either use another solver which supports the multinomial loss or wrap the estimator in a OneVsRestClassifier to keep applying a one-versus-rest scheme.\n",
      "  warnings.warn(\n",
      "[I 2025-08-26 21:00:55,671] Trial 29 finished with value: 0.6498936170212766 and parameters: {'C': 0.004537044795949854, 'penalty': 'l2'}. Best is trial 3 with value: 0.8278723404255319.\n",
      "c:\\Users\\satya\\OneDrive\\Desktop\\youtube-comment-senitment-analysis\\.venv\\Lib\\site-packages\\sklearn\\linear_model\\_logistic.py:1296: FutureWarning: Using the 'liblinear' solver for multiclass classification is deprecated. An error will be raised in 1.8. Either use another solver which supports the multinomial loss or wrap the estimator in a OneVsRestClassifier to keep applying a one-versus-rest scheme.\n",
      "  warnings.warn(\n"
     ]
    },
    {
     "name": "stdout",
     "output_type": "stream",
     "text": [
      "🏃 View run LogisticRegression_SMOTE_TFIDF_Trigrams at: https://dagshub.com/satyajeetrai007/Youtube-Comment-Sentiment-Analysis.mlflow/#/experiments/6/runs/08538ba4445f4f6ea60d64a4ab7f61ee\n",
      "🧪 View experiment at: https://dagshub.com/satyajeetrai007/Youtube-Comment-Sentiment-Analysis.mlflow/#/experiments/6\n"
     ]
    }
   ],
   "source": [
    "# Step 3: TF-IDF vectorizer setup\n",
    "ngram_range = (1, 3)  # Trigram\n",
    "max_features = 2000  # Set max_features to 1000\n",
    "vectorizer = TfidfVectorizer(ngram_range=ngram_range, max_features=max_features)\n",
    "X = vectorizer.fit_transform(df['clean_comment'])\n",
    "y = df['category']\n",
    "\n",
    "# Step 4: Apply SMOTE to handle class imbalance\n",
    "smote = SMOTE(random_state=42)\n",
    "X_resampled, y_resampled = smote.fit_resample(X, y)\n",
    "\n",
    "# Step 5: Train-test split\n",
    "X_train, X_test, y_train, y_test = train_test_split(X_resampled, y_resampled, test_size=0.2, random_state=42, stratify=y_resampled)\n",
    "\n",
    "# Function to log results in MLflow\n",
    "def log_mlflow(model_name, model, X_train, X_test, y_train, y_test):\n",
    "    with mlflow.start_run():\n",
    "        # Log model type\n",
    "        mlflow.set_tag(\"mlflow.runName\", f\"{model_name}_SMOTE_TFIDF_Trigrams\")\n",
    "        mlflow.set_tag(\"experiment_type\", \"algorithm_comparison\")\n",
    "\n",
    "        # Log algorithm name as a parameter\n",
    "        mlflow.log_param(\"algo_name\", model_name)\n",
    "\n",
    "        # Train model\n",
    "        model.fit(X_train, y_train)\n",
    "        y_pred = model.predict(X_test)\n",
    "\n",
    "        # Log accuracy\n",
    "        accuracy = accuracy_score(y_test, y_pred)\n",
    "        mlflow.log_metric(\"accuracy\", accuracy)\n",
    "\n",
    "        # Log classification report\n",
    "        classification_rep = classification_report(y_test, y_pred, output_dict=True)\n",
    "        for label, metrics in classification_rep.items():\n",
    "            if isinstance(metrics, dict):\n",
    "                for metric, value in metrics.items():\n",
    "                    mlflow.log_metric(f\"{label}_{metric}\", value)\n",
    "\n",
    "        with open(f\"{model_name}_model\", \"wb\") as f:\n",
    "            pickle.dump(model, f)\n",
    "\n",
    "        with open(f\"{model_name}_model\", \"rb\") as f:\n",
    "            clf = pickle.load(f)\n",
    "\n",
    "        mlflow.log_artifact(f\"{model_name}_model\", \"model\")\n",
    "\n",
    "\n",
    "# Step 6: Optuna objective function for Logistic Regression\n",
    "def objective_logreg(trial):\n",
    "    C = trial.suggest_float('C', 1e-4, 10.0, log=True)\n",
    "    penalty = trial.suggest_categorical('penalty', ['l1', 'l2'])\n",
    "\n",
    "    # LogisticRegression model setup with balanced class weight\n",
    "    model = LogisticRegression(C=C, penalty=penalty, solver='liblinear', random_state=42)\n",
    "    return accuracy_score(y_test, model.fit(X_train, y_train).predict(X_test))\n",
    "\n",
    "\n",
    "# Step 7: Run Optuna for Logistic Regression, log the best model only\n",
    "def run_optuna_experiment():\n",
    "    study = optuna.create_study(direction=\"maximize\")\n",
    "    study.optimize(objective_logreg, n_trials=30)\n",
    "\n",
    "    # Get the best parameters and log only the best model\n",
    "    best_params = study.best_params\n",
    "    best_model = LogisticRegression(C=best_params['C'], penalty=best_params['penalty'], solver='liblinear', random_state=42)\n",
    "\n",
    "    # Log the best model with MLflow, passing the algo_name as \"LogisticRegression\"\n",
    "    log_mlflow(\"LogisticRegression\", best_model, X_train, X_test, y_train, y_test)\n",
    "\n",
    "# Run the experiment for Logistic Regression\n",
    "run_optuna_experiment()"
   ]
  },
  {
   "cell_type": "code",
   "execution_count": null,
   "id": "f7a46538",
   "metadata": {},
   "outputs": [],
   "source": []
  }
 ],
 "metadata": {
  "kernelspec": {
   "display_name": ".venv",
   "language": "python",
   "name": "python3"
  },
  "language_info": {
   "codemirror_mode": {
    "name": "ipython",
    "version": 3
   },
   "file_extension": ".py",
   "mimetype": "text/x-python",
   "name": "python",
   "nbconvert_exporter": "python",
   "pygments_lexer": "ipython3",
   "version": "3.11.3"
  }
 },
 "nbformat": 4,
 "nbformat_minor": 5
}
