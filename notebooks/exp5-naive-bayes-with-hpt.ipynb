{
 "cells": [
  {
   "cell_type": "code",
   "execution_count": 1,
   "id": "4ecb6689",
   "metadata": {},
   "outputs": [
    {
     "name": "stderr",
     "output_type": "stream",
     "text": [
      "c:\\Users\\satya\\OneDrive\\Desktop\\youtube-comment-senitment-analysis\\.venv\\Lib\\site-packages\\tqdm\\auto.py:21: TqdmWarning: IProgress not found. Please update jupyter and ipywidgets. See https://ipywidgets.readthedocs.io/en/stable/user_install.html\n",
      "  from .autonotebook import tqdm as notebook_tqdm\n"
     ]
    },
    {
     "data": {
      "text/html": [
       "<pre style=\"white-space:pre;overflow-x:auto;line-height:normal;font-family:Menlo,'DejaVu Sans Mono',consolas,'Courier New',monospace\">Accessing as satyajeetrai007\n",
       "</pre>\n"
      ],
      "text/plain": [
       "Accessing as satyajeetrai007\n"
      ]
     },
     "metadata": {},
     "output_type": "display_data"
    },
    {
     "data": {
      "text/html": [
       "<pre style=\"white-space:pre;overflow-x:auto;line-height:normal;font-family:Menlo,'DejaVu Sans Mono',consolas,'Courier New',monospace\">Initialized MLflow to track repo <span style=\"color: #008000; text-decoration-color: #008000\">\"satyajeetrai007/Youtube-Comment-Sentiment-Analysis\"</span>\n",
       "</pre>\n"
      ],
      "text/plain": [
       "Initialized MLflow to track repo \u001b[32m\"satyajeetrai007/Youtube-Comment-Sentiment-Analysis\"\u001b[0m\n"
      ]
     },
     "metadata": {},
     "output_type": "display_data"
    },
    {
     "data": {
      "text/html": [
       "<pre style=\"white-space:pre;overflow-x:auto;line-height:normal;font-family:Menlo,'DejaVu Sans Mono',consolas,'Courier New',monospace\">Repository satyajeetrai007/Youtube-Comment-Sentiment-Analysis initialized!\n",
       "</pre>\n"
      ],
      "text/plain": [
       "Repository satyajeetrai007/Youtube-Comment-Sentiment-Analysis initialized!\n"
      ]
     },
     "metadata": {},
     "output_type": "display_data"
    },
    {
     "data": {
      "text/plain": [
       "(36243, 2)"
      ]
     },
     "execution_count": 1,
     "metadata": {},
     "output_type": "execute_result"
    }
   ],
   "source": [
    "import pandas as pd\n",
    "from sklearn.feature_extraction.text import TfidfVectorizer\n",
    "from sklearn.model_selection import train_test_split\n",
    "from sklearn.naive_bayes import MultinomialNB\n",
    "from sklearn.metrics import accuracy_score, classification_report\n",
    "from imblearn.over_sampling import SMOTE\n",
    "import mlflow\n",
    "import mlflow.sklearn\n",
    "\n",
    "import optuna\n",
    "import dagshub\n",
    "import pickle\n",
    "\n",
    "dagshub.init(repo_owner='satyajeetrai007', repo_name='Youtube-Comment-Sentiment-Analysis', mlflow=True)\n",
    "mlflow.set_experiment(\"Algorithms with HyperParameter tuning\")\n",
    "\n",
    "df = pd.read_csv('data_preprocessed.csv').dropna().drop_duplicates()\n",
    "df.shape"
   ]
  },
  {
   "cell_type": "code",
   "execution_count": 3,
   "id": "c086dbe0",
   "metadata": {},
   "outputs": [
    {
     "name": "stderr",
     "output_type": "stream",
     "text": [
      "[I 2025-08-26 21:07:59,313] A new study created in memory with name: no-name-2721b420-e475-499a-924e-5817712cafae\n",
      "[I 2025-08-26 21:07:59,368] Trial 0 finished with value: 0.7030851063829787 and parameters: {'alpha': 0.8018010094356147}. Best is trial 0 with value: 0.7030851063829787.\n",
      "[I 2025-08-26 21:07:59,383] Trial 1 finished with value: 0.7087234042553191 and parameters: {'alpha': 0.0005443821366788187}. Best is trial 1 with value: 0.7087234042553191.\n",
      "[I 2025-08-26 21:07:59,395] Trial 2 finished with value: 0.7032978723404255 and parameters: {'alpha': 0.742708906022659}. Best is trial 1 with value: 0.7087234042553191.\n",
      "[I 2025-08-26 21:07:59,404] Trial 3 finished with value: 0.7075531914893617 and parameters: {'alpha': 0.02220275364275526}. Best is trial 1 with value: 0.7087234042553191.\n",
      "[I 2025-08-26 21:07:59,415] Trial 4 finished with value: 0.708404255319149 and parameters: {'alpha': 0.004130861917620541}. Best is trial 1 with value: 0.7087234042553191.\n",
      "[I 2025-08-26 21:07:59,424] Trial 5 finished with value: 0.708404255319149 and parameters: {'alpha': 0.0064703344202846815}. Best is trial 1 with value: 0.7087234042553191.\n",
      "[I 2025-08-26 21:07:59,435] Trial 6 finished with value: 0.708404255319149 and parameters: {'alpha': 0.0061628627058196925}. Best is trial 1 with value: 0.7087234042553191.\n",
      "[I 2025-08-26 21:07:59,443] Trial 7 finished with value: 0.7058510638297872 and parameters: {'alpha': 0.19940625830846131}. Best is trial 1 with value: 0.7087234042553191.\n",
      "[I 2025-08-26 21:07:59,451] Trial 8 finished with value: 0.7075531914893617 and parameters: {'alpha': 0.022486862902043814}. Best is trial 1 with value: 0.7087234042553191.\n",
      "[I 2025-08-26 21:07:59,460] Trial 9 finished with value: 0.7068085106382979 and parameters: {'alpha': 0.06444339809773524}. Best is trial 1 with value: 0.7087234042553191.\n",
      "[I 2025-08-26 21:07:59,484] Trial 10 finished with value: 0.7087234042553191 and parameters: {'alpha': 0.00021032604588815625}. Best is trial 1 with value: 0.7087234042553191.\n",
      "[I 2025-08-26 21:07:59,497] Trial 11 finished with value: 0.7087234042553191 and parameters: {'alpha': 0.0001779514342277056}. Best is trial 1 with value: 0.7087234042553191.\n",
      "[I 2025-08-26 21:07:59,508] Trial 12 finished with value: 0.7087234042553191 and parameters: {'alpha': 0.000143785237279069}. Best is trial 1 with value: 0.7087234042553191.\n",
      "[I 2025-08-26 21:07:59,521] Trial 13 finished with value: 0.7087234042553191 and parameters: {'alpha': 0.0006728578337090995}. Best is trial 1 with value: 0.7087234042553191.\n",
      "[I 2025-08-26 21:07:59,535] Trial 14 finished with value: 0.7086170212765958 and parameters: {'alpha': 0.0010524246319559474}. Best is trial 1 with value: 0.7087234042553191.\n",
      "[I 2025-08-26 21:07:59,546] Trial 15 finished with value: 0.7086170212765958 and parameters: {'alpha': 0.0009729378621969683}. Best is trial 1 with value: 0.7087234042553191.\n",
      "[I 2025-08-26 21:07:59,555] Trial 16 finished with value: 0.7087234042553191 and parameters: {'alpha': 0.00037301905702944815}. Best is trial 1 with value: 0.7087234042553191.\n",
      "[I 2025-08-26 21:07:59,564] Trial 17 finished with value: 0.7085106382978723 and parameters: {'alpha': 0.0013994218121944153}. Best is trial 1 with value: 0.7087234042553191.\n",
      "[I 2025-08-26 21:07:59,576] Trial 18 finished with value: 0.7085106382978723 and parameters: {'alpha': 0.0023865199110343956}. Best is trial 1 with value: 0.7087234042553191.\n",
      "[I 2025-08-26 21:07:59,591] Trial 19 finished with value: 0.7087234042553191 and parameters: {'alpha': 0.00010047217898494462}. Best is trial 1 with value: 0.7087234042553191.\n",
      "[I 2025-08-26 21:07:59,608] Trial 20 finished with value: 0.7087234042553191 and parameters: {'alpha': 0.00035331858878364145}. Best is trial 1 with value: 0.7087234042553191.\n",
      "[I 2025-08-26 21:07:59,630] Trial 21 finished with value: 0.7087234042553191 and parameters: {'alpha': 0.0002549815284093392}. Best is trial 1 with value: 0.7087234042553191.\n",
      "[I 2025-08-26 21:07:59,645] Trial 22 finished with value: 0.7087234042553191 and parameters: {'alpha': 0.00013231402452012223}. Best is trial 1 with value: 0.7087234042553191.\n",
      "[I 2025-08-26 21:07:59,664] Trial 23 finished with value: 0.7087234042553191 and parameters: {'alpha': 0.0004324199433425859}. Best is trial 1 with value: 0.7087234042553191.\n",
      "[I 2025-08-26 21:07:59,679] Trial 24 finished with value: 0.7087234042553191 and parameters: {'alpha': 0.0002668925092373659}. Best is trial 1 with value: 0.7087234042553191.\n",
      "[I 2025-08-26 21:07:59,694] Trial 25 finished with value: 0.7085106382978723 and parameters: {'alpha': 0.0021612092143930843}. Best is trial 1 with value: 0.7087234042553191.\n",
      "[I 2025-08-26 21:07:59,712] Trial 26 finished with value: 0.7087234042553191 and parameters: {'alpha': 0.00016572098992389213}. Best is trial 1 with value: 0.7087234042553191.\n",
      "[I 2025-08-26 21:07:59,736] Trial 27 finished with value: 0.7087234042553191 and parameters: {'alpha': 0.0005379942199167928}. Best is trial 1 with value: 0.7087234042553191.\n",
      "[I 2025-08-26 21:07:59,764] Trial 28 finished with value: 0.7087234042553191 and parameters: {'alpha': 0.00021452865202348042}. Best is trial 1 with value: 0.7087234042553191.\n",
      "[I 2025-08-26 21:07:59,783] Trial 29 finished with value: 0.7087234042553191 and parameters: {'alpha': 0.0006990314560198118}. Best is trial 1 with value: 0.7087234042553191.\n"
     ]
    },
    {
     "name": "stdout",
     "output_type": "stream",
     "text": [
      "🏃 View run MultinomialNB_SMOTE_TFIDF_Trigrams at: https://dagshub.com/satyajeetrai007/Youtube-Comment-Sentiment-Analysis.mlflow/#/experiments/6/runs/0c4f8dfb81404c638371a7b6b8a647e9\n",
      "🧪 View experiment at: https://dagshub.com/satyajeetrai007/Youtube-Comment-Sentiment-Analysis.mlflow/#/experiments/6\n"
     ]
    }
   ],
   "source": [
    "# Step 1: (Optional) Remapping - skipped since not strictly needed for Multinomial Naive Bayes\n",
    "\n",
    "# Step 2: Remove rows where the target labels (category) are NaN\n",
    "df = df.dropna(subset=['category'])\n",
    "\n",
    "# Step 3: TF-IDF vectorizer setup\n",
    "ngram_range = (1, 3)  # Trigram\n",
    "max_features = 2000  # Set max_features to 1000\n",
    "vectorizer = TfidfVectorizer(ngram_range=ngram_range, max_features=max_features)\n",
    "X = vectorizer.fit_transform(df['clean_comment'])\n",
    "y = df['category']\n",
    "\n",
    "# Step 4: Apply SMOTE to handle class imbalance\n",
    "smote = SMOTE(random_state=42)\n",
    "X_resampled, y_resampled = smote.fit_resample(X, y)\n",
    "\n",
    "# Step 5: Train-test split\n",
    "X_train, X_test, y_train, y_test = train_test_split(X_resampled, y_resampled, test_size=0.2, random_state=42, stratify=y_resampled)\n",
    "\n",
    "# Function to log results in MLflow\n",
    "def log_mlflow(model_name, model, X_train, X_test, y_train, y_test):\n",
    "    with mlflow.start_run():\n",
    "        # Log model type\n",
    "        mlflow.set_tag(\"mlflow.runName\", f\"{model_name}_SMOTE_TFIDF_Trigrams\")\n",
    "        mlflow.set_tag(\"experiment_type\", \"algorithm_comparison\")\n",
    "\n",
    "        # Log algorithm name as a parameter\n",
    "        mlflow.log_param(\"algo_name\", model_name)\n",
    "\n",
    "        # Train model\n",
    "        model.fit(X_train, y_train)\n",
    "        y_pred = model.predict(X_test)\n",
    "\n",
    "        # Log accuracy\n",
    "        accuracy = accuracy_score(y_test, y_pred)\n",
    "        mlflow.log_metric(\"accuracy\", accuracy)\n",
    "\n",
    "        # Log classification report\n",
    "        classification_rep = classification_report(y_test, y_pred, output_dict=True)\n",
    "        for label, metrics in classification_rep.items():\n",
    "            if isinstance(metrics, dict):\n",
    "                for metric, value in metrics.items():\n",
    "                    mlflow.log_metric(f\"{label}_{metric}\", value)\n",
    "\n",
    "        with open(f\"{model_name}_model\", \"wb\") as f:\n",
    "            pickle.dump(model, f)\n",
    "\n",
    "        with open(f\"{model_name}_model\", \"rb\") as f:\n",
    "            clf = pickle.load(f)\n",
    "\n",
    "        mlflow.log_artifact(f\"{model_name}_model\", \"model\")\n",
    "\n",
    "\n",
    "# Step 6: Optuna objective function for Multinomial Naive Bayes\n",
    "def objective_mnb(trial):\n",
    "    alpha = trial.suggest_float('alpha', 1e-4, 1.0, log=True)  # Tuning the smoothing parameter\n",
    "\n",
    "    # MultinomialNB model setup\n",
    "    model = MultinomialNB(alpha=alpha)\n",
    "    return accuracy_score(y_test, model.fit(X_train, y_train).predict(X_test))\n",
    "\n",
    "\n",
    "# Step 7: Run Optuna for Multinomial Naive Bayes, log the best model only\n",
    "def run_optuna_experiment():\n",
    "    study = optuna.create_study(direction=\"maximize\")\n",
    "    study.optimize(objective_mnb, n_trials=30)\n",
    "\n",
    "    # Get the best parameters and log only the best model\n",
    "    best_params = study.best_params\n",
    "    best_model = MultinomialNB(alpha=best_params['alpha'])\n",
    "\n",
    "    # Log the best model with MLflow, passing the algo_name as \"MultinomialNB\"\n",
    "    log_mlflow(\"MultinomialNB\", best_model, X_train, X_test, y_train, y_test)\n",
    "\n",
    "# Run the experiment for Multinomial Naive Bayes\n",
    "run_optuna_experiment()\n"
   ]
  },
  {
   "cell_type": "code",
   "execution_count": null,
   "id": "27dc8a5a",
   "metadata": {},
   "outputs": [],
   "source": []
  }
 ],
 "metadata": {
  "kernelspec": {
   "display_name": ".venv",
   "language": "python",
   "name": "python3"
  },
  "language_info": {
   "codemirror_mode": {
    "name": "ipython",
    "version": 3
   },
   "file_extension": ".py",
   "mimetype": "text/x-python",
   "name": "python",
   "nbconvert_exporter": "python",
   "pygments_lexer": "ipython3",
   "version": "3.11.3"
  }
 },
 "nbformat": 4,
 "nbformat_minor": 5
}
