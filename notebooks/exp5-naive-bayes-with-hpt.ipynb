{
 "cells": [
  {
   "cell_type": "code",
   "execution_count": 4,
   "id": "4ecb6689",
   "metadata": {},
   "outputs": [
    {
     "data": {
      "text/html": [
       "<pre style=\"white-space:pre;overflow-x:auto;line-height:normal;font-family:Menlo,'DejaVu Sans Mono',consolas,'Courier New',monospace\">Initialized MLflow to track repo <span style=\"color: #008000; text-decoration-color: #008000\">\"satyajeetrai007/Youtube-Comment-Sentiment-Analysis\"</span>\n",
       "</pre>\n"
      ],
      "text/plain": [
       "Initialized MLflow to track repo \u001b[32m\"satyajeetrai007/Youtube-Comment-Sentiment-Analysis\"\u001b[0m\n"
      ]
     },
     "metadata": {},
     "output_type": "display_data"
    },
    {
     "data": {
      "text/html": [
       "<pre style=\"white-space:pre;overflow-x:auto;line-height:normal;font-family:Menlo,'DejaVu Sans Mono',consolas,'Courier New',monospace\">Repository satyajeetrai007/Youtube-Comment-Sentiment-Analysis initialized!\n",
       "</pre>\n"
      ],
      "text/plain": [
       "Repository satyajeetrai007/Youtube-Comment-Sentiment-Analysis initialized!\n"
      ]
     },
     "metadata": {},
     "output_type": "display_data"
    },
    {
     "data": {
      "text/plain": [
       "(36243, 2)"
      ]
     },
     "execution_count": 4,
     "metadata": {},
     "output_type": "execute_result"
    }
   ],
   "source": [
    "import pandas as pd\n",
    "from sklearn.feature_extraction.text import TfidfVectorizer\n",
    "from sklearn.model_selection import train_test_split\n",
    "from sklearn.naive_bayes import MultinomialNB\n",
    "from sklearn.metrics import accuracy_score, classification_report\n",
    "from imblearn.over_sampling import SMOTE\n",
    "import mlflow\n",
    "import mlflow.sklearn\n",
    "\n",
    "import optuna\n",
    "import dagshub\n",
    "import pickle\n",
    "\n",
    "dagshub.init(repo_owner='satyajeetrai007', repo_name='Youtube-Comment-Sentiment-Analysis', mlflow=True)\n",
    "mlflow.set_experiment(\"Algorithms with HyperParameter tuning\")\n",
    "\n",
    "df = pd.read_csv('data_preprocessed.csv').dropna().drop_duplicates()\n",
    "df.shape"
   ]
  },
  {
   "cell_type": "code",
   "execution_count": 5,
   "id": "c086dbe0",
   "metadata": {},
   "outputs": [
    {
     "name": "stderr",
     "output_type": "stream",
     "text": [
      "[I 2025-08-27 20:21:43,124] A new study created in memory with name: no-name-c7d10bb7-5b31-4baf-90b8-7a53fe98d46e\n",
      "[I 2025-08-27 20:21:43,194] Trial 0 finished with value: 0.691129811008415 and parameters: {'alpha': 0.0021271211084827506}. Best is trial 0 with value: 0.691129811008415.\n",
      "[I 2025-08-27 20:21:43,212] Trial 1 finished with value: 0.6897503103876397 and parameters: {'alpha': 0.017909867279413672}. Best is trial 0 with value: 0.691129811008415.\n",
      "[I 2025-08-27 20:21:43,234] Trial 2 finished with value: 0.6846461580907711 and parameters: {'alpha': 0.34529574056364637}. Best is trial 0 with value: 0.691129811008415.\n",
      "[I 2025-08-27 20:21:43,252] Trial 3 finished with value: 0.69140571113257 and parameters: {'alpha': 0.00021485228542195272}. Best is trial 3 with value: 0.69140571113257.\n",
      "[I 2025-08-27 20:21:43,271] Trial 4 finished with value: 0.6897503103876397 and parameters: {'alpha': 0.014883348493884278}. Best is trial 3 with value: 0.69140571113257.\n",
      "[I 2025-08-27 20:21:43,291] Trial 5 finished with value: 0.6897503103876397 and parameters: {'alpha': 0.017480791014194242}. Best is trial 3 with value: 0.69140571113257.\n",
      "[I 2025-08-27 20:21:43,314] Trial 6 finished with value: 0.6909918609463375 and parameters: {'alpha': 0.0032084688947091656}. Best is trial 3 with value: 0.69140571113257.\n",
      "[I 2025-08-27 20:21:43,330] Trial 7 finished with value: 0.6904400606980273 and parameters: {'alpha': 0.008201368160560892}. Best is trial 3 with value: 0.69140571113257.\n",
      "[I 2025-08-27 20:21:43,358] Trial 8 finished with value: 0.6820251069112981 and parameters: {'alpha': 0.6973777143159704}. Best is trial 3 with value: 0.69140571113257.\n",
      "[I 2025-08-27 20:21:43,378] Trial 9 finished with value: 0.683818457718306 and parameters: {'alpha': 0.5001478268883619}. Best is trial 3 with value: 0.69140571113257.\n",
      "[I 2025-08-27 20:21:43,412] Trial 10 finished with value: 0.69140571113257 and parameters: {'alpha': 0.00014420515784417881}. Best is trial 3 with value: 0.69140571113257.\n",
      "[I 2025-08-27 20:21:43,435] Trial 11 finished with value: 0.69140571113257 and parameters: {'alpha': 0.0001381117485196332}. Best is trial 3 with value: 0.69140571113257.\n",
      "[I 2025-08-27 20:21:43,456] Trial 12 finished with value: 0.69140571113257 and parameters: {'alpha': 0.00010477324666814443}. Best is trial 3 with value: 0.69140571113257.\n",
      "[I 2025-08-27 20:21:43,477] Trial 13 finished with value: 0.6912677610704925 and parameters: {'alpha': 0.0006714204128787805}. Best is trial 3 with value: 0.69140571113257.\n",
      "[I 2025-08-27 20:21:43,507] Trial 14 finished with value: 0.69140571113257 and parameters: {'alpha': 0.000423401572558072}. Best is trial 3 with value: 0.69140571113257.\n",
      "[I 2025-08-27 20:21:43,540] Trial 15 finished with value: 0.69140571113257 and parameters: {'alpha': 0.0004184161008999205}. Best is trial 3 with value: 0.69140571113257.\n",
      "[I 2025-08-27 20:21:43,562] Trial 16 finished with value: 0.6912677610704925 and parameters: {'alpha': 0.001344387585581361}. Best is trial 3 with value: 0.69140571113257.\n",
      "[I 2025-08-27 20:21:43,602] Trial 17 finished with value: 0.69140571113257 and parameters: {'alpha': 0.00019748955293930068}. Best is trial 3 with value: 0.69140571113257.\n",
      "[I 2025-08-27 20:21:43,634] Trial 18 finished with value: 0.6885087598289419 and parameters: {'alpha': 0.13749280932100283}. Best is trial 3 with value: 0.69140571113257.\n",
      "[I 2025-08-27 20:21:43,655] Trial 19 finished with value: 0.6889226100151745 and parameters: {'alpha': 0.10435854266412485}. Best is trial 3 with value: 0.69140571113257.\n",
      "[I 2025-08-27 20:21:43,704] Trial 20 finished with value: 0.6905780107601048 and parameters: {'alpha': 0.00496117549296105}. Best is trial 3 with value: 0.69140571113257.\n",
      "[I 2025-08-27 20:21:43,736] Trial 21 finished with value: 0.69140571113257 and parameters: {'alpha': 0.0001037567127373371}. Best is trial 3 with value: 0.69140571113257.\n",
      "[I 2025-08-27 20:21:43,760] Trial 22 finished with value: 0.69140571113257 and parameters: {'alpha': 0.00024496767799866157}. Best is trial 3 with value: 0.69140571113257.\n",
      "[I 2025-08-27 20:21:43,805] Trial 23 finished with value: 0.69140571113257 and parameters: {'alpha': 0.0005493832768527985}. Best is trial 3 with value: 0.69140571113257.\n",
      "[I 2025-08-27 20:21:43,831] Trial 24 finished with value: 0.6912677610704925 and parameters: {'alpha': 0.0013057576623371982}. Best is trial 3 with value: 0.69140571113257.\n",
      "[I 2025-08-27 20:21:43,854] Trial 25 finished with value: 0.69140571113257 and parameters: {'alpha': 0.00025591575339571366}. Best is trial 3 with value: 0.69140571113257.\n",
      "[I 2025-08-27 20:21:43,920] Trial 26 finished with value: 0.69140571113257 and parameters: {'alpha': 0.0001635689314489054}. Best is trial 3 with value: 0.69140571113257.\n",
      "[I 2025-08-27 20:21:43,957] Trial 27 finished with value: 0.6912677610704925 and parameters: {'alpha': 0.0008665024862867305}. Best is trial 3 with value: 0.69140571113257.\n",
      "[I 2025-08-27 20:21:43,983] Trial 28 finished with value: 0.69140571113257 and parameters: {'alpha': 0.0003310947478086167}. Best is trial 3 with value: 0.69140571113257.\n",
      "[I 2025-08-27 20:21:44,040] Trial 29 finished with value: 0.691129811008415 and parameters: {'alpha': 0.001893795344847504}. Best is trial 3 with value: 0.69140571113257.\n"
     ]
    },
    {
     "name": "stdout",
     "output_type": "stream",
     "text": [
      "🏃 View run MultinomialNB_SMOTE_TFIDF_Trigrams_Corrected at: https://dagshub.com/satyajeetrai007/Youtube-Comment-Sentiment-Analysis.mlflow/#/experiments/6/runs/a08923686aac42b8afc2bec834311193\n",
      "🧪 View experiment at: https://dagshub.com/satyajeetrai007/Youtube-Comment-Sentiment-Analysis.mlflow/#/experiments/6\n"
     ]
    }
   ],
   "source": [
    "\n",
    "# Step 1: Clean and isolate features and target\n",
    "df = df.dropna(subset=['category'])\n",
    "X = df['clean_comment']\n",
    "y = df['category']\n",
    "\n",
    "# Step 2: Perform the train-test split FIRST to prevent data leakage 🧪\n",
    "# 'stratify=y' ensures the class distribution is preserved in both splits.\n",
    "X_train_text, X_test_text, y_train, y_test = train_test_split(X, y, test_size=0.2, random_state=42, stratify=y)\n",
    "\n",
    "# Step 3: Fit the TF-IDF vectorizer ONLY on the training data\n",
    "vectorizer = TfidfVectorizer(ngram_range=(1, 3), max_features=2000)\n",
    "X_train_vec = vectorizer.fit_transform(X_train_text)\n",
    "\n",
    "# Use the same fitted vectorizer to transform the test data\n",
    "X_test_vec = vectorizer.transform(X_test_text)\n",
    "\n",
    "# Step 4: Apply SMOTE to the TRAINING data ONLY to balance it\n",
    "smote = SMOTE(random_state=42)\n",
    "X_train_resampled, y_train_resampled = smote.fit_resample(X_train_vec, y_train)\n",
    "\n",
    "# The test data (X_test_vec, y_test) remains in its original, imbalanced state for a realistic evaluation.\n",
    "\n",
    "# --- MLflow and Optuna Functions (no changes needed) ---\n",
    "\n",
    "def log_mlflow(model_name, model, X_train, X_test, y_train, y_test):\n",
    "    with mlflow.start_run():\n",
    "        mlflow.set_tag(\"mlflow.runName\", f\"{model_name}_SMOTE_TFIDF_Trigrams_Corrected\")\n",
    "        mlflow.set_tag(\"experiment_type\", \"algorithm_comparison\")\n",
    "        mlflow.log_param(\"algo_name\", model_name)\n",
    "\n",
    "        model.fit(X_train, y_train)\n",
    "        y_pred = model.predict(X_test)\n",
    "\n",
    "        accuracy = accuracy_score(y_test, y_pred)\n",
    "        mlflow.log_metric(\"accuracy\", accuracy)\n",
    "\n",
    "        classification_rep = classification_report(y_test, y_pred, output_dict=True)\n",
    "        for label, metrics in classification_rep.items():\n",
    "            if isinstance(metrics, dict):\n",
    "                for metric, value in metrics.items():\n",
    "                    mlflow.log_metric(f\"{label}_{metric}\", value)\n",
    "\n",
    "        model_filename = f\"{model_name}_model.pkl\"\n",
    "        with open(model_filename, \"wb\") as f:\n",
    "            pickle.dump(model, f)\n",
    "        mlflow.log_artifact(model_filename, \"model\")\n",
    "\n",
    "# Step 5: Optuna objective function for Multinomial Naive Bayes\n",
    "def objective_mnb(trial):\n",
    "    alpha = trial.suggest_float('alpha', 1e-4, 1.0, log=True)\n",
    "    \n",
    "    model = MultinomialNB(alpha=alpha)\n",
    "    # Train on the resampled training data\n",
    "    model.fit(X_train_resampled, y_train_resampled)\n",
    "    \n",
    "    # Evaluate on the original, untouched test data\n",
    "    y_pred = model.predict(X_test_vec)\n",
    "    return accuracy_score(y_test, y_pred)\n",
    "\n",
    "# Step 6: Run Optuna for Multinomial Naive Bayes\n",
    "def run_optuna_experiment():\n",
    "    study = optuna.create_study(direction=\"maximize\")\n",
    "    study.optimize(objective_mnb, n_trials=30)\n",
    "\n",
    "    best_params = study.best_params\n",
    "    best_model = MultinomialNB(alpha=best_params['alpha'])\n",
    "    \n",
    "    # Log the best performing model with MLflow\n",
    "    log_mlflow(\"MultinomialNB\", best_model, X_train_resampled, X_test_vec, y_train_resampled, y_test)\n",
    "\n",
    "# Run the experiment\n",
    "run_optuna_experiment()"
   ]
  },
  {
   "cell_type": "code",
   "execution_count": null,
   "id": "27dc8a5a",
   "metadata": {},
   "outputs": [],
   "source": []
  }
 ],
 "metadata": {
  "kernelspec": {
   "display_name": ".venv",
   "language": "python",
   "name": "python3"
  },
  "language_info": {
   "codemirror_mode": {
    "name": "ipython",
    "version": 3
   },
   "file_extension": ".py",
   "mimetype": "text/x-python",
   "name": "python",
   "nbconvert_exporter": "python",
   "pygments_lexer": "ipython3",
   "version": "3.11.3"
  }
 },
 "nbformat": 4,
 "nbformat_minor": 5
}
