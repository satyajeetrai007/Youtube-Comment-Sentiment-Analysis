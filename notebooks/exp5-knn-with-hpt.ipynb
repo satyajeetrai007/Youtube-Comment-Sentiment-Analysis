{
 "cells": [
  {
   "cell_type": "code",
   "execution_count": 5,
   "id": "a28818cf",
   "metadata": {},
   "outputs": [
    {
     "data": {
      "text/html": [
       "<pre style=\"white-space:pre;overflow-x:auto;line-height:normal;font-family:Menlo,'DejaVu Sans Mono',consolas,'Courier New',monospace\">Initialized MLflow to track repo <span style=\"color: #008000; text-decoration-color: #008000\">\"satyajeetrai007/Youtube-Comment-Sentiment-Analysis\"</span>\n",
       "</pre>\n"
      ],
      "text/plain": [
       "Initialized MLflow to track repo \u001b[32m\"satyajeetrai007/Youtube-Comment-Sentiment-Analysis\"\u001b[0m\n"
      ]
     },
     "metadata": {},
     "output_type": "display_data"
    },
    {
     "data": {
      "text/html": [
       "<pre style=\"white-space:pre;overflow-x:auto;line-height:normal;font-family:Menlo,'DejaVu Sans Mono',consolas,'Courier New',monospace\">Repository satyajeetrai007/Youtube-Comment-Sentiment-Analysis initialized!\n",
       "</pre>\n"
      ],
      "text/plain": [
       "Repository satyajeetrai007/Youtube-Comment-Sentiment-Analysis initialized!\n"
      ]
     },
     "metadata": {},
     "output_type": "display_data"
    },
    {
     "data": {
      "text/plain": [
       "(36243, 2)"
      ]
     },
     "execution_count": 5,
     "metadata": {},
     "output_type": "execute_result"
    }
   ],
   "source": [
    "import pandas as pd\n",
    "from sklearn.feature_extraction.text import TfidfVectorizer\n",
    "from sklearn.model_selection import train_test_split\n",
    "from sklearn.neighbors import KNeighborsClassifier\n",
    "from sklearn.metrics import accuracy_score, classification_report\n",
    "from imblearn.over_sampling import SMOTE\n",
    "import mlflow\n",
    "import mlflow.sklearn\n",
    "import optuna\n",
    "import dagshub\n",
    "import pickle\n",
    "\n",
    "\n",
    "dagshub.init(repo_owner='satyajeetrai007', repo_name='Youtube-Comment-Sentiment-Analysis', mlflow=True)\n",
    "mlflow.set_experiment(\"Algorithms with HyperParameter tuning\")\n",
    "\n",
    "df = pd.read_csv('data_preprocessed.csv').dropna().drop_duplicates()\n",
    "df.shape"
   ]
  },
  {
   "cell_type": "code",
   "execution_count": 6,
   "id": "aa038700",
   "metadata": {},
   "outputs": [
    {
     "name": "stderr",
     "output_type": "stream",
     "text": [
      "[I 2025-08-26 20:54:54,472] A new study created in memory with name: no-name-50e8a5a9-dfd2-4509-8c35-bc9682bae600\n",
      "[I 2025-08-26 20:55:07,027] Trial 0 finished with value: 0.36606382978723406 and parameters: {'n_neighbors': 10, 'p': 1}. Best is trial 0 with value: 0.36606382978723406.\n",
      "[I 2025-08-26 20:55:11,431] Trial 1 finished with value: 0.36021276595744683 and parameters: {'n_neighbors': 15, 'p': 1}. Best is trial 0 with value: 0.36606382978723406.\n",
      "[I 2025-08-26 20:55:18,497] Trial 2 finished with value: 0.395531914893617 and parameters: {'n_neighbors': 3, 'p': 1}. Best is trial 2 with value: 0.395531914893617.\n",
      "[I 2025-08-26 20:55:24,930] Trial 3 finished with value: 0.3791489361702128 and parameters: {'n_neighbors': 5, 'p': 1}. Best is trial 2 with value: 0.395531914893617.\n",
      "[I 2025-08-26 20:55:29,171] Trial 4 finished with value: 0.3537234042553192 and parameters: {'n_neighbors': 21, 'p': 1}. Best is trial 2 with value: 0.395531914893617.\n",
      "[I 2025-08-26 20:55:33,379] Trial 5 finished with value: 0.36606382978723406 and parameters: {'n_neighbors': 10, 'p': 1}. Best is trial 2 with value: 0.395531914893617.\n",
      "[I 2025-08-26 20:55:37,781] Trial 6 finished with value: 0.35117021276595745 and parameters: {'n_neighbors': 25, 'p': 1}. Best is trial 2 with value: 0.395531914893617.\n",
      "[I 2025-08-26 20:55:47,985] Trial 7 finished with value: 0.517127659574468 and parameters: {'n_neighbors': 17, 'p': 2}. Best is trial 7 with value: 0.517127659574468.\n",
      "[I 2025-08-26 20:55:56,748] Trial 8 finished with value: 0.517127659574468 and parameters: {'n_neighbors': 17, 'p': 2}. Best is trial 7 with value: 0.517127659574468.\n",
      "[I 2025-08-26 20:56:01,976] Trial 9 finished with value: 0.3646808510638298 and parameters: {'n_neighbors': 11, 'p': 1}. Best is trial 7 with value: 0.517127659574468.\n",
      "[I 2025-08-26 20:56:09,436] Trial 10 finished with value: 0.47702127659574467 and parameters: {'n_neighbors': 30, 'p': 2}. Best is trial 7 with value: 0.517127659574468.\n",
      "[I 2025-08-26 20:56:17,120] Trial 11 finished with value: 0.5137234042553191 and parameters: {'n_neighbors': 18, 'p': 2}. Best is trial 7 with value: 0.517127659574468.\n",
      "[I 2025-08-26 20:56:24,574] Trial 12 finished with value: 0.5031914893617021 and parameters: {'n_neighbors': 21, 'p': 2}. Best is trial 7 with value: 0.517127659574468.\n",
      "[I 2025-08-26 20:56:35,889] Trial 13 finished with value: 0.5246808510638298 and parameters: {'n_neighbors': 15, 'p': 2}. Best is trial 13 with value: 0.5246808510638298.\n",
      "[I 2025-08-26 20:56:45,653] Trial 14 finished with value: 0.5275531914893618 and parameters: {'n_neighbors': 14, 'p': 2}. Best is trial 14 with value: 0.5275531914893618.\n",
      "[I 2025-08-26 20:56:53,255] Trial 15 finished with value: 0.5329787234042553 and parameters: {'n_neighbors': 12, 'p': 2}. Best is trial 15 with value: 0.5329787234042553.\n",
      "[I 2025-08-26 20:57:01,304] Trial 16 finished with value: 0.5548936170212766 and parameters: {'n_neighbors': 7, 'p': 2}. Best is trial 16 with value: 0.5548936170212766.\n",
      "[I 2025-08-26 20:57:14,282] Trial 17 finished with value: 0.5548936170212766 and parameters: {'n_neighbors': 7, 'p': 2}. Best is trial 16 with value: 0.5548936170212766.\n",
      "[I 2025-08-26 20:57:22,360] Trial 18 finished with value: 0.5548936170212766 and parameters: {'n_neighbors': 7, 'p': 2}. Best is trial 16 with value: 0.5548936170212766.\n",
      "[I 2025-08-26 20:57:29,772] Trial 19 finished with value: 0.5548936170212766 and parameters: {'n_neighbors': 7, 'p': 2}. Best is trial 16 with value: 0.5548936170212766.\n",
      "[I 2025-08-26 20:57:37,184] Trial 20 finished with value: 0.5804255319148937 and parameters: {'n_neighbors': 3, 'p': 2}. Best is trial 20 with value: 0.5804255319148937.\n",
      "[I 2025-08-26 20:57:44,689] Trial 21 finished with value: 0.5804255319148937 and parameters: {'n_neighbors': 3, 'p': 2}. Best is trial 20 with value: 0.5804255319148937.\n",
      "[I 2025-08-26 20:57:53,691] Trial 22 finished with value: 0.5804255319148937 and parameters: {'n_neighbors': 3, 'p': 2}. Best is trial 20 with value: 0.5804255319148937.\n",
      "[I 2025-08-26 20:58:12,007] Trial 23 finished with value: 0.5804255319148937 and parameters: {'n_neighbors': 3, 'p': 2}. Best is trial 20 with value: 0.5804255319148937.\n",
      "[I 2025-08-26 20:58:21,428] Trial 24 finished with value: 0.5804255319148937 and parameters: {'n_neighbors': 3, 'p': 2}. Best is trial 20 with value: 0.5804255319148937.\n",
      "[I 2025-08-26 20:58:39,565] Trial 25 finished with value: 0.5527659574468086 and parameters: {'n_neighbors': 6, 'p': 2}. Best is trial 20 with value: 0.5804255319148937.\n",
      "[I 2025-08-26 20:59:00,010] Trial 26 finished with value: 0.5630851063829787 and parameters: {'n_neighbors': 5, 'p': 2}. Best is trial 20 with value: 0.5804255319148937.\n",
      "[I 2025-08-26 20:59:24,885] Trial 27 finished with value: 0.5627659574468085 and parameters: {'n_neighbors': 4, 'p': 2}. Best is trial 20 with value: 0.5804255319148937.\n",
      "[I 2025-08-26 20:59:44,414] Trial 28 finished with value: 0.5451063829787234 and parameters: {'n_neighbors': 9, 'p': 2}. Best is trial 20 with value: 0.5804255319148937.\n",
      "[I 2025-08-26 21:00:23,398] Trial 29 finished with value: 0.5451063829787234 and parameters: {'n_neighbors': 9, 'p': 2}. Best is trial 20 with value: 0.5804255319148937.\n"
     ]
    },
    {
     "name": "stdout",
     "output_type": "stream",
     "text": [
      "🏃 View run KNN_SMOTE_TFIDF_Trigrams at: https://dagshub.com/satyajeetrai007/Youtube-Comment-Sentiment-Analysis.mlflow/#/experiments/6/runs/1a7028ae192148ad97948f3e36283eac\n",
      "🧪 View experiment at: https://dagshub.com/satyajeetrai007/Youtube-Comment-Sentiment-Analysis.mlflow/#/experiments/6\n"
     ]
    }
   ],
   "source": [
    "# Step 1: (Optional) Remapping - skipped since not strictly needed for KNN\n",
    "\n",
    "# Step 2: Remove rows where the target labels (category) are NaN\n",
    "df = df.dropna(subset=['category'])\n",
    "\n",
    "# Step 3: TF-IDF vectorizer setup\n",
    "ngram_range = (1, 3)  # Trigram\n",
    "max_features = 2000  # Set max_features to 1000\n",
    "vectorizer = TfidfVectorizer(ngram_range=ngram_range, max_features=max_features)\n",
    "X = vectorizer.fit_transform(df['clean_comment'])\n",
    "y = df['category']\n",
    "\n",
    "# Step 4: Apply SMOTE to handle class imbalance\n",
    "smote = SMOTE(random_state=42)\n",
    "X_resampled, y_resampled = smote.fit_resample(X, y)\n",
    "\n",
    "# Step 5: Train-test split\n",
    "X_train, X_test, y_train, y_test = train_test_split(X_resampled, y_resampled, test_size=0.2, random_state=42, stratify=y_resampled)\n",
    "\n",
    "# Function to log results in MLflow\n",
    "def log_mlflow(model_name, model, X_train, X_test, y_train, y_test):\n",
    "    with mlflow.start_run():\n",
    "        # Log model type\n",
    "        mlflow.set_tag(\"mlflow.runName\", f\"{model_name}_SMOTE_TFIDF_Trigrams\")\n",
    "        mlflow.set_tag(\"experiment_type\", \"algorithm_comparison\")\n",
    "\n",
    "        # Log algorithm name as a parameter\n",
    "        mlflow.log_param(\"algo_name\", model_name)\n",
    "\n",
    "        # Train model\n",
    "        model.fit(X_train, y_train)\n",
    "        y_pred = model.predict(X_test)\n",
    "\n",
    "        # Log accuracy\n",
    "        accuracy = accuracy_score(y_test, y_pred)\n",
    "        mlflow.log_metric(\"accuracy\", accuracy)\n",
    "\n",
    "        # Log classification report\n",
    "        classification_rep = classification_report(y_test, y_pred, output_dict=True)\n",
    "        for label, metrics in classification_rep.items():\n",
    "            if isinstance(metrics, dict):\n",
    "                for metric, value in metrics.items():\n",
    "                    mlflow.log_metric(f\"{label}_{metric}\", value)\n",
    "\n",
    "        # Log the model\n",
    "\n",
    "        with open(f\"{model_name}_model\", \"wb\") as f:\n",
    "            pickle.dump(model, f)\n",
    "\n",
    "        with open(f\"{model_name}_model\", \"rb\") as f:\n",
    "            clf = pickle.load(f)\n",
    "\n",
    "        mlflow.log_artifact(f\"{model_name}_model\", \"model\")\n",
    "        \n",
    "\n",
    "\n",
    "# Step 6: Optuna objective function for KNN\n",
    "def objective_knn(trial):\n",
    "    n_neighbors = trial.suggest_int('n_neighbors', 3, 30)  # Tuning the number of neighbors\n",
    "    p = trial.suggest_categorical('p', [1, 2])  # Tuning the distance metric (1 for Manhattan, 2 for Euclidean)\n",
    "\n",
    "    # KNeighborsClassifier setup\n",
    "    model = KNeighborsClassifier(n_neighbors=n_neighbors, p=p)\n",
    "    return accuracy_score(y_test, model.fit(X_train, y_train).predict(X_test))\n",
    "\n",
    "\n",
    "# Step 7: Run Optuna for KNN, log the best model only\n",
    "def run_optuna_experiment():\n",
    "    study = optuna.create_study(direction=\"maximize\")\n",
    "    study.optimize(objective_knn, n_trials=30)\n",
    "\n",
    "    # Get the best parameters and log only the best model\n",
    "    best_params = study.best_params\n",
    "    best_model = KNeighborsClassifier(n_neighbors=best_params['n_neighbors'], p=best_params['p'])\n",
    "\n",
    "    # Log the best model with MLflow, passing the algo_name as \"KNN\"\n",
    "    log_mlflow(\"KNN\", best_model, X_train, X_test, y_train, y_test)\n",
    "\n",
    "# Run the experiment for KNN\n",
    "run_optuna_experiment()"
   ]
  },
  {
   "cell_type": "code",
   "execution_count": null,
   "id": "6584465b",
   "metadata": {},
   "outputs": [],
   "source": []
  }
 ],
 "metadata": {
  "kernelspec": {
   "display_name": ".venv",
   "language": "python",
   "name": "python3"
  },
  "language_info": {
   "codemirror_mode": {
    "name": "ipython",
    "version": 3
   },
   "file_extension": ".py",
   "mimetype": "text/x-python",
   "name": "python",
   "nbconvert_exporter": "python",
   "pygments_lexer": "ipython3",
   "version": "3.11.3"
  }
 },
 "nbformat": 4,
 "nbformat_minor": 5
}
