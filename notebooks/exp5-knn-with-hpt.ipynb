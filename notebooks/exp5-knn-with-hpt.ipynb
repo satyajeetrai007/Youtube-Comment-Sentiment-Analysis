{
 "cells": [
  {
   "cell_type": "code",
   "execution_count": 1,
   "id": "a28818cf",
   "metadata": {},
   "outputs": [
    {
     "name": "stderr",
     "output_type": "stream",
     "text": [
      "c:\\Users\\satya\\OneDrive\\Desktop\\youtube-comment-senitment-analysis\\.venv\\Lib\\site-packages\\tqdm\\auto.py:21: TqdmWarning: IProgress not found. Please update jupyter and ipywidgets. See https://ipywidgets.readthedocs.io/en/stable/user_install.html\n",
      "  from .autonotebook import tqdm as notebook_tqdm\n"
     ]
    },
    {
     "data": {
      "text/html": [
       "<pre style=\"white-space:pre;overflow-x:auto;line-height:normal;font-family:Menlo,'DejaVu Sans Mono',consolas,'Courier New',monospace\">Accessing as satyajeetrai007\n",
       "</pre>\n"
      ],
      "text/plain": [
       "Accessing as satyajeetrai007\n"
      ]
     },
     "metadata": {},
     "output_type": "display_data"
    },
    {
     "data": {
      "text/html": [
       "<pre style=\"white-space:pre;overflow-x:auto;line-height:normal;font-family:Menlo,'DejaVu Sans Mono',consolas,'Courier New',monospace\">Initialized MLflow to track repo <span style=\"color: #008000; text-decoration-color: #008000\">\"satyajeetrai007/Youtube-Comment-Sentiment-Analysis\"</span>\n",
       "</pre>\n"
      ],
      "text/plain": [
       "Initialized MLflow to track repo \u001b[32m\"satyajeetrai007/Youtube-Comment-Sentiment-Analysis\"\u001b[0m\n"
      ]
     },
     "metadata": {},
     "output_type": "display_data"
    },
    {
     "data": {
      "text/html": [
       "<pre style=\"white-space:pre;overflow-x:auto;line-height:normal;font-family:Menlo,'DejaVu Sans Mono',consolas,'Courier New',monospace\">Repository satyajeetrai007/Youtube-Comment-Sentiment-Analysis initialized!\n",
       "</pre>\n"
      ],
      "text/plain": [
       "Repository satyajeetrai007/Youtube-Comment-Sentiment-Analysis initialized!\n"
      ]
     },
     "metadata": {},
     "output_type": "display_data"
    },
    {
     "data": {
      "text/plain": [
       "(36243, 2)"
      ]
     },
     "execution_count": 1,
     "metadata": {},
     "output_type": "execute_result"
    }
   ],
   "source": [
    "import pandas as pd\n",
    "from sklearn.feature_extraction.text import TfidfVectorizer\n",
    "from sklearn.model_selection import train_test_split\n",
    "from sklearn.neighbors import KNeighborsClassifier\n",
    "from sklearn.metrics import accuracy_score, classification_report\n",
    "from imblearn.over_sampling import SMOTE\n",
    "import mlflow\n",
    "import mlflow.sklearn\n",
    "import optuna\n",
    "import dagshub\n",
    "import pickle\n",
    "\n",
    "\n",
    "dagshub.init(repo_owner='satyajeetrai007', repo_name='Youtube-Comment-Sentiment-Analysis', mlflow=True)\n",
    "mlflow.set_experiment(\"Algorithms with HyperParameter tuning\")\n",
    "\n",
    "df = pd.read_csv('data_preprocessed.csv').dropna().drop_duplicates()\n",
    "df.shape"
   ]
  },
  {
   "cell_type": "code",
   "execution_count": 2,
   "id": "aa038700",
   "metadata": {},
   "outputs": [
    {
     "name": "stderr",
     "output_type": "stream",
     "text": [
      "[I 2025-08-27 20:18:47,700] A new study created in memory with name: no-name-49fe429d-32e2-4fe7-96f6-7f2c0b2abb0f\n",
      "[I 2025-08-27 20:19:20,141] Trial 0 finished with value: 0.3596358118361153 and parameters: {'n_neighbors': 29, 'p': 1}. Best is trial 0 with value: 0.3596358118361153.\n",
      "[I 2025-08-27 20:19:47,985] Trial 1 finished with value: 0.4373016967857635 and parameters: {'n_neighbors': 12, 'p': 2}. Best is trial 1 with value: 0.4373016967857635.\n",
      "[I 2025-08-27 20:20:07,724] Trial 2 finished with value: 0.4055731825079321 and parameters: {'n_neighbors': 23, 'p': 2}. Best is trial 1 with value: 0.4373016967857635.\n",
      "[I 2025-08-27 20:20:33,208] Trial 3 finished with value: 0.4055731825079321 and parameters: {'n_neighbors': 23, 'p': 2}. Best is trial 1 with value: 0.4373016967857635.\n",
      "[I 2025-08-27 20:21:08,996] Trial 4 finished with value: 0.4293005931852669 and parameters: {'n_neighbors': 14, 'p': 2}. Best is trial 1 with value: 0.4373016967857635.\n",
      "[I 2025-08-27 20:21:34,779] Trial 5 finished with value: 0.4373016967857635 and parameters: {'n_neighbors': 12, 'p': 2}. Best is trial 1 with value: 0.4373016967857635.\n",
      "[I 2025-08-27 20:21:42,524] Trial 6 finished with value: 0.3771554697199614 and parameters: {'n_neighbors': 12, 'p': 1}. Best is trial 1 with value: 0.4373016967857635.\n",
      "[I 2025-08-27 20:21:49,884] Trial 7 finished with value: 0.36653331493999175 and parameters: {'n_neighbors': 17, 'p': 1}. Best is trial 1 with value: 0.4373016967857635.\n",
      "[I 2025-08-27 20:21:57,308] Trial 8 finished with value: 0.38432887294799284 and parameters: {'n_neighbors': 9, 'p': 1}. Best is trial 1 with value: 0.4373016967857635.\n",
      "[I 2025-08-27 20:22:30,834] Trial 9 finished with value: 0.41274658573596357 and parameters: {'n_neighbors': 21, 'p': 2}. Best is trial 1 with value: 0.4373016967857635.\n",
      "[I 2025-08-27 20:23:01,767] Trial 10 finished with value: 0.45095875293143883 and parameters: {'n_neighbors': 6, 'p': 2}. Best is trial 10 with value: 0.45095875293143883.\n",
      "[I 2025-08-27 20:23:47,017] Trial 11 finished with value: 0.45095875293143883 and parameters: {'n_neighbors': 6, 'p': 2}. Best is trial 10 with value: 0.45095875293143883.\n",
      "[I 2025-08-27 20:24:20,780] Trial 12 finished with value: 0.41302248586011864 and parameters: {'n_neighbors': 4, 'p': 2}. Best is trial 10 with value: 0.45095875293143883.\n",
      "[I 2025-08-27 20:24:50,663] Trial 13 finished with value: 0.4655814595116568 and parameters: {'n_neighbors': 3, 'p': 2}. Best is trial 13 with value: 0.4655814595116568.\n",
      "[I 2025-08-27 20:25:50,971] Trial 14 finished with value: 0.4655814595116568 and parameters: {'n_neighbors': 3, 'p': 2}. Best is trial 13 with value: 0.4655814595116568.\n",
      "[I 2025-08-27 20:26:08,966] Trial 15 finished with value: 0.4655814595116568 and parameters: {'n_neighbors': 3, 'p': 2}. Best is trial 13 with value: 0.4655814595116568.\n",
      "[I 2025-08-27 20:26:26,351] Trial 16 finished with value: 0.4458546006345703 and parameters: {'n_neighbors': 8, 'p': 2}. Best is trial 13 with value: 0.4655814595116568.\n",
      "[I 2025-08-27 20:26:45,710] Trial 17 finished with value: 0.4655814595116568 and parameters: {'n_neighbors': 3, 'p': 2}. Best is trial 13 with value: 0.4655814595116568.\n",
      "[I 2025-08-27 20:26:55,415] Trial 18 finished with value: 0.38432887294799284 and parameters: {'n_neighbors': 9, 'p': 1}. Best is trial 13 with value: 0.4655814595116568.\n",
      "[I 2025-08-27 20:27:16,809] Trial 19 finished with value: 0.4171609877224445 and parameters: {'n_neighbors': 19, 'p': 2}. Best is trial 13 with value: 0.4655814595116568.\n",
      "[I 2025-08-27 20:28:16,210] Trial 20 finished with value: 0.3943992274796524 and parameters: {'n_neighbors': 29, 'p': 2}. Best is trial 13 with value: 0.4655814595116568.\n",
      "[I 2025-08-27 20:30:33,947] Trial 21 finished with value: 0.41302248586011864 and parameters: {'n_neighbors': 4, 'p': 2}. Best is trial 13 with value: 0.4655814595116568.\n",
      "[I 2025-08-27 20:32:02,927] Trial 22 finished with value: 0.45095875293143883 and parameters: {'n_neighbors': 6, 'p': 2}. Best is trial 13 with value: 0.4655814595116568.\n",
      "[I 2025-08-27 20:32:48,033] Trial 23 finished with value: 0.4655814595116568 and parameters: {'n_neighbors': 3, 'p': 2}. Best is trial 13 with value: 0.4655814595116568.\n",
      "[I 2025-08-27 20:33:43,539] Trial 24 finished with value: 0.4562008552903849 and parameters: {'n_neighbors': 7, 'p': 2}. Best is trial 13 with value: 0.4655814595116568.\n",
      "[I 2025-08-27 20:34:22,013] Trial 25 finished with value: 0.441854048834322 and parameters: {'n_neighbors': 10, 'p': 2}. Best is trial 13 with value: 0.4655814595116568.\n",
      "[I 2025-08-27 20:34:48,542] Trial 26 finished with value: 0.3990895295902883 and parameters: {'n_neighbors': 5, 'p': 1}. Best is trial 13 with value: 0.4655814595116568.\n",
      "[I 2025-08-27 20:35:58,407] Trial 27 finished with value: 0.4655814595116568 and parameters: {'n_neighbors': 3, 'p': 2}. Best is trial 13 with value: 0.4655814595116568.\n",
      "[I 2025-08-27 20:36:22,139] Trial 28 finished with value: 0.42902469306111185 and parameters: {'n_neighbors': 15, 'p': 2}. Best is trial 13 with value: 0.4655814595116568.\n",
      "[I 2025-08-27 20:36:30,685] Trial 29 finished with value: 0.3806042212718996 and parameters: {'n_neighbors': 10, 'p': 1}. Best is trial 13 with value: 0.4655814595116568.\n"
     ]
    },
    {
     "name": "stdout",
     "output_type": "stream",
     "text": [
      "🏃 View run KNN_SMOTE_TFIDF_Trigrams_Corrected at: https://dagshub.com/satyajeetrai007/Youtube-Comment-Sentiment-Analysis.mlflow/#/experiments/6/runs/58e8960122964774a2c3d79f65026252\n",
      "🧪 View experiment at: https://dagshub.com/satyajeetrai007/Youtube-Comment-Sentiment-Analysis.mlflow/#/experiments/6\n"
     ]
    }
   ],
   "source": [
    "df = df.dropna(subset=['category'])\n",
    "X = df['clean_comment']\n",
    "y = df['category']\n",
    "\n",
    "# Step 2: Perform the train-test split FIRST to prevent data leakage\n",
    "# We use stratify to maintain the original class distribution in both sets.\n",
    "X_train_text, X_test_text, y_train, y_test = train_test_split(X, y, test_size=0.2, random_state=42, stratify=y)\n",
    "\n",
    "# Step 3: TF-IDF vectorizer setup\n",
    "# Fit the vectorizer ONLY on the training data\n",
    "vectorizer = TfidfVectorizer(ngram_range=(1, 3), max_features=2000)\n",
    "X_train_vec = vectorizer.fit_transform(X_train_text)\n",
    "\n",
    "# Transform the test data using the already-fitted vectorizer\n",
    "X_test_vec = vectorizer.transform(X_test_text)\n",
    "\n",
    "# Step 4: Apply SMOTE to the TRAINING data ONLY\n",
    "smote = SMOTE(random_state=42)\n",
    "X_train_resampled, y_train_resampled = smote.fit_resample(X_train_vec, y_train)\n",
    "\n",
    "# --- The test sets (X_test_vec, y_test) remain untouched by SMOTE ---\n",
    "\n",
    "# Function to log results in MLflow (no changes needed here)\n",
    "def log_mlflow(model_name, model, X_train, X_test, y_train, y_test):\n",
    "    with mlflow.start_run():\n",
    "        # Log model type\n",
    "        mlflow.set_tag(\"mlflow.runName\", f\"{model_name}_SMOTE_TFIDF_Trigrams_Corrected\")\n",
    "        mlflow.set_tag(\"experiment_type\", \"algorithm_comparison\")\n",
    "\n",
    "        # Log algorithm name as a parameter\n",
    "        mlflow.log_param(\"algo_name\", model_name)\n",
    "\n",
    "        # Train model\n",
    "        model.fit(X_train, y_train)\n",
    "        y_pred = model.predict(X_test)\n",
    "\n",
    "        # Log accuracy\n",
    "        accuracy = accuracy_score(y_test, y_pred)\n",
    "        mlflow.log_metric(\"accuracy\", accuracy)\n",
    "\n",
    "        # Log classification report\n",
    "        classification_rep = classification_report(y_test, y_pred, output_dict=True)\n",
    "        for label, metrics in classification_rep.items():\n",
    "            if isinstance(metrics, dict):\n",
    "                for metric, value in metrics.items():\n",
    "                    mlflow.log_metric(f\"{label}_{metric}\", value)\n",
    "\n",
    "        # Log the model\n",
    "        model_filename = f\"{model_name}_model.pkl\"\n",
    "        with open(model_filename, \"wb\") as f:\n",
    "            pickle.dump(model, f)\n",
    "        mlflow.log_artifact(model_filename, \"model\")\n",
    "\n",
    "# Step 5: Optuna objective function for KNN\n",
    "# It will use the correctly processed data from the global scope\n",
    "def objective_knn(trial):\n",
    "    n_neighbors = trial.suggest_int('n_neighbors', 3, 30)\n",
    "    p = trial.suggest_categorical('p', [1, 2])\n",
    "\n",
    "    model = KNeighborsClassifier(n_neighbors=n_neighbors, p=p)\n",
    "    model.fit(X_train_resampled, y_train_resampled)\n",
    "    \n",
    "    # Evaluate on the original, unmodified test set\n",
    "    y_pred = model.predict(X_test_vec)\n",
    "    return accuracy_score(y_test, y_pred)\n",
    "\n",
    "# Step 6: Run Optuna for KNN, log the best model only\n",
    "def run_optuna_experiment():\n",
    "    study = optuna.create_study(direction=\"maximize\")\n",
    "    study.optimize(objective_knn, n_trials=30)\n",
    "\n",
    "    best_params = study.best_params\n",
    "    best_model = KNeighborsClassifier(n_neighbors=best_params['n_neighbors'], p=best_params['p'])\n",
    "\n",
    "    # Log the best model with MLflow, using the resampled training data\n",
    "    # and the original test data.\n",
    "    log_mlflow(\"KNN\", best_model, X_train_resampled, X_test_vec, y_train_resampled, y_test)\n",
    "\n",
    "# Run the experiment\n",
    "run_optuna_experiment()"
   ]
  },
  {
   "cell_type": "code",
   "execution_count": null,
   "id": "6584465b",
   "metadata": {},
   "outputs": [],
   "source": []
  }
 ],
 "metadata": {
  "kernelspec": {
   "display_name": ".venv",
   "language": "python",
   "name": "python3"
  },
  "language_info": {
   "codemirror_mode": {
    "name": "ipython",
    "version": 3
   },
   "file_extension": ".py",
   "mimetype": "text/x-python",
   "name": "python",
   "nbconvert_exporter": "python",
   "pygments_lexer": "ipython3",
   "version": "3.11.3"
  }
 },
 "nbformat": 4,
 "nbformat_minor": 5
}
