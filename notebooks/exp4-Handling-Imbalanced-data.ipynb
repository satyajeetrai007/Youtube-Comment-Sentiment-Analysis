{
 "cells": [
  {
   "cell_type": "code",
   "execution_count": 9,
   "id": "59d5b628",
   "metadata": {},
   "outputs": [],
   "source": [
    "from imblearn.over_sampling import SMOTE, ADASYN, BorderlineSMOTE, KMeansSMOTE, SVMSMOTE, RandomOverSampler\n",
    "from imblearn.under_sampling import RandomUnderSampler, ClusterCentroids, TomekLinks, EditedNearestNeighbours, RepeatedEditedNearestNeighbours, AllKNN, NearMiss, OneSidedSelection, CondensedNearestNeighbour\n",
    "from imblearn.combine import SMOTEENN, SMOTETomek\n",
    "\n",
    "from sklearn.feature_extraction.text import TfidfVectorizer\n",
    "from sklearn.ensemble import RandomForestClassifier\n",
    "from sklearn.model_selection import train_test_split\n",
    "from sklearn.metrics import accuracy_score, classification_report, confusion_matrix\n",
    "import mlflow\n",
    "import mlflow.sklearn\n",
    "import matplotlib.pyplot as plt\n",
    "import seaborn as sns\n",
    "import pandas as pd\n",
    "import os\n",
    "import dagshub\n",
    "import pickle"
   ]
  },
  {
   "cell_type": "code",
   "execution_count": 3,
   "id": "1eeab32a",
   "metadata": {},
   "outputs": [
    {
     "data": {
      "text/html": [
       "<pre style=\"white-space:pre;overflow-x:auto;line-height:normal;font-family:Menlo,'DejaVu Sans Mono',consolas,'Courier New',monospace\">Accessing as satyajeetrai007\n",
       "</pre>\n"
      ],
      "text/plain": [
       "Accessing as satyajeetrai007\n"
      ]
     },
     "metadata": {},
     "output_type": "display_data"
    },
    {
     "data": {
      "text/html": [
       "<pre style=\"white-space:pre;overflow-x:auto;line-height:normal;font-family:Menlo,'DejaVu Sans Mono',consolas,'Courier New',monospace\">Initialized MLflow to track repo <span style=\"color: #008000; text-decoration-color: #008000\">\"satyajeetrai007/Youtube-Comment-Sentiment-Analysis\"</span>\n",
       "</pre>\n"
      ],
      "text/plain": [
       "Initialized MLflow to track repo \u001b[32m\"satyajeetrai007/Youtube-Comment-Sentiment-Analysis\"\u001b[0m\n"
      ]
     },
     "metadata": {},
     "output_type": "display_data"
    },
    {
     "data": {
      "text/html": [
       "<pre style=\"white-space:pre;overflow-x:auto;line-height:normal;font-family:Menlo,'DejaVu Sans Mono',consolas,'Courier New',monospace\">Repository satyajeetrai007/Youtube-Comment-Sentiment-Analysis initialized!\n",
       "</pre>\n"
      ],
      "text/plain": [
       "Repository satyajeetrai007/Youtube-Comment-Sentiment-Analysis initialized!\n"
      ]
     },
     "metadata": {},
     "output_type": "display_data"
    },
    {
     "name": "stderr",
     "output_type": "stream",
     "text": [
      "2025/08/25 20:36:03 INFO mlflow.tracking.fluent: Experiment with name 'Handling Imbalanced Data' does not exist. Creating a new experiment.\n"
     ]
    },
    {
     "data": {
      "text/plain": [
       "<Experiment: artifact_location='mlflow-artifacts:/4957100cdb83401aa6db764ab63e1e32', creation_time=1756134365045, experiment_id='4', last_update_time=1756134365045, lifecycle_stage='active', name='Handling Imbalanced Data', tags={}>"
      ]
     },
     "execution_count": 3,
     "metadata": {},
     "output_type": "execute_result"
    }
   ],
   "source": [
    "dagshub.init(repo_owner='satyajeetrai007', repo_name='Youtube-Comment-Sentiment-Analysis', mlflow=True)\n",
    "mlflow.set_experiment(\"Handling Imbalanced Data\")"
   ]
  },
  {
   "cell_type": "code",
   "execution_count": 4,
   "id": "8c8e7a63",
   "metadata": {},
   "outputs": [
    {
     "data": {
      "text/plain": [
       "(36243, 2)"
      ]
     },
     "execution_count": 4,
     "metadata": {},
     "output_type": "execute_result"
    }
   ],
   "source": [
    "df = pd.read_csv('data_preprocessed.csv').dropna(subset=['clean_comment']).drop_duplicates()\n",
    "df.shape"
   ]
  },
  {
   "cell_type": "code",
   "execution_count": 10,
   "id": "2b36653e",
   "metadata": {},
   "outputs": [],
   "source": [
    "# Step 1: Function to run the experiment\n",
    "def run_imbalanced_experiment(imbalance_method):\n",
    "    ngram_range = (1, 3)  # Trigram setting\n",
    "    max_features = 2000   # Limit TF-IDF features\n",
    "\n",
    "    # Step 4: Train-test split before vectorization and resampling\n",
    "    X_train, X_test, y_train, y_test = train_test_split(\n",
    "        df['clean_comment'], df['category'],\n",
    "        test_size=0.2, random_state=42, stratify=df['category']\n",
    "    )\n",
    "\n",
    "    # Step 2: Vectorization using TF-IDF, fit on training data only\n",
    "    vectorizer = TfidfVectorizer(ngram_range=ngram_range, max_features=max_features)\n",
    "    X_train_vec = vectorizer.fit_transform(X_train)\n",
    "    X_test_vec = vectorizer.transform(X_test)\n",
    "\n",
    "    # Step 3: Handle class imbalance (training set only)\n",
    "    if imbalance_method == 'class_weights':\n",
    "        class_weight = 'balanced'\n",
    "    else:\n",
    "        class_weight = None\n",
    "\n",
    "        # Oversampling methods\n",
    "        if imbalance_method == 'random_oversampling':\n",
    "            ros = RandomOverSampler(random_state=42)\n",
    "            X_train_vec, y_train = ros.fit_resample(X_train_vec, y_train)\n",
    "        elif imbalance_method == 'smote':\n",
    "            smote = SMOTE(random_state=42)\n",
    "            X_train_vec, y_train = smote.fit_resample(X_train_vec, y_train)\n",
    "        elif imbalance_method == 'adasyn':\n",
    "            adasyn = ADASYN(random_state=42)\n",
    "            X_train_vec, y_train = adasyn.fit_resample(X_train_vec, y_train)\n",
    "        elif imbalance_method == 'borderline_smote':\n",
    "            blsm = BorderlineSMOTE(random_state=42, kind='borderline-1')\n",
    "            X_train_vec, y_train = blsm.fit_resample(X_train_vec, y_train)\n",
    "        elif imbalance_method == 'kmeans_smote':\n",
    "            kms = KMeansSMOTE(random_state=42)\n",
    "            X_train_vec, y_train = kms.fit_resample(X_train_vec, y_train)\n",
    "        elif imbalance_method == 'svm_smote':\n",
    "            svms = SVMSMOTE(random_state=42)\n",
    "            X_train_vec, y_train = svms.fit_resample(X_train_vec, y_train)\n",
    "\n",
    "        # Undersampling methods\n",
    "        elif imbalance_method == 'random_undersampling':\n",
    "            rus = RandomUnderSampler(random_state=42)\n",
    "            X_train_vec, y_train = rus.fit_resample(X_train_vec, y_train)\n",
    "        elif imbalance_method == 'cluster_centroids':\n",
    "            cc = ClusterCentroids(random_state=42)\n",
    "            X_train_vec, y_train = cc.fit_resample(X_train_vec, y_train)\n",
    "        elif imbalance_method == 'tomek_links':\n",
    "            tl = TomekLinks()\n",
    "            X_train_vec, y_train = tl.fit_resample(X_train_vec, y_train)\n",
    "        elif imbalance_method == 'enn':\n",
    "            enn = EditedNearestNeighbours()\n",
    "            X_train_vec, y_train = enn.fit_resample(X_train_vec, y_train)\n",
    "        elif imbalance_method == 'renn':\n",
    "            renn = RepeatedEditedNearestNeighbours()\n",
    "            X_train_vec, y_train = renn.fit_resample(X_train_vec, y_train)\n",
    "        elif imbalance_method == 'allknn':\n",
    "            allknn = AllKNN()\n",
    "            X_train_vec, y_train = allknn.fit_resample(X_train_vec, y_train)\n",
    "        elif imbalance_method == 'nearmiss':\n",
    "            nm = NearMiss()\n",
    "            X_train_vec, y_train = nm.fit_resample(X_train_vec, y_train)\n",
    "        elif imbalance_method == 'oss':\n",
    "            oss = OneSidedSelection(random_state=42)\n",
    "            X_train_vec, y_train = oss.fit_resample(X_train_vec, y_train)\n",
    "        elif imbalance_method == 'cnn':\n",
    "            cnn = CondensedNearestNeighbour(random_state=42)\n",
    "            X_train_vec, y_train = cnn.fit_resample(X_train_vec, y_train)\n",
    "\n",
    "        # Hybrid methods\n",
    "        elif imbalance_method == 'smote_enn':\n",
    "            smote_enn = SMOTEENN(random_state=42)\n",
    "            X_train_vec, y_train = smote_enn.fit_resample(X_train_vec, y_train)\n",
    "        elif imbalance_method == 'smote_tomek':\n",
    "            smt = SMOTETomek(random_state=42)\n",
    "            X_train_vec, y_train = smt.fit_resample(X_train_vec, y_train)\n",
    "\n",
    "    # Step 5: Train Random Forest model with MLflow logging\n",
    "    with mlflow.start_run() as run:\n",
    "        mlflow.set_tag(\"mlflow.runName\", f\"Imbalance_{imbalance_method}_RandomForest_TFIDF_Trigrams\")\n",
    "        mlflow.set_tag(\"experiment_type\", \"imbalance_handling\")\n",
    "        mlflow.set_tag(\"model_type\", \"RandomForestClassifier\")\n",
    "        mlflow.set_tag(\"description\", f\"RandomForest with TF-IDF Trigrams, imbalance={imbalance_method}\")\n",
    "\n",
    "        mlflow.log_param(\"vectorizer_type\", \"TF-IDF\")\n",
    "        mlflow.log_param(\"ngram_range\", ngram_range)\n",
    "        mlflow.log_param(\"vectorizer_max_features\", max_features)\n",
    "\n",
    "        n_estimators = 200\n",
    "        max_depth = 15\n",
    "        mlflow.log_param(\"n_estimators\", n_estimators)\n",
    "        mlflow.log_param(\"max_depth\", max_depth)\n",
    "        mlflow.log_param(\"imbalance_method\", imbalance_method)\n",
    "\n",
    "        model = RandomForestClassifier(\n",
    "            n_estimators=n_estimators,\n",
    "            max_depth=max_depth,\n",
    "            random_state=42,\n",
    "            class_weight=class_weight\n",
    "        )\n",
    "        model.fit(X_train_vec, y_train)\n",
    "\n",
    "        # Predictions + metrics\n",
    "        y_pred = model.predict(X_test_vec)\n",
    "        accuracy = accuracy_score(y_test, y_pred)\n",
    "        mlflow.log_metric(\"accuracy\", accuracy)\n",
    "\n",
    "        classification_rep = classification_report(y_test, y_pred, output_dict=True)\n",
    "        for label, metrics in classification_rep.items():\n",
    "            if isinstance(metrics, dict):\n",
    "                for metric, value in metrics.items():\n",
    "                    mlflow.log_metric(f\"{label}_{metric}\", value)\n",
    "\n",
    "        conf_matrix = confusion_matrix(y_test, y_pred)\n",
    "        plt.figure(figsize=(8, 6))\n",
    "        sns.heatmap(conf_matrix, annot=True, fmt=\"d\", cmap=\"Blues\")\n",
    "        plt.xlabel(\"Predicted\")\n",
    "        plt.ylabel(\"Actual\")\n",
    "        plt.title(f\"Confusion Matrix: Imbalance={imbalance_method}\")\n",
    "        cm_filename = f\"confusion_matrix_{imbalance_method}.png\"\n",
    "        plt.savefig(cm_filename)\n",
    "        mlflow.log_artifact(cm_filename)\n",
    "        plt.close()\n",
    "\n",
    "        with open( f\"rf_tfidf_trigrams_{imbalance_method}\", \"wb\") as f:\n",
    "            pickle.dump(model, f)\n",
    "\n",
    "        with open(f\"rf_tfidf_trigrams_{imbalance_method}\", \"rb\") as f:\n",
    "            clf = pickle.load(f)\n",
    "\n",
    "        mlflow.log_artifact(f\"rf_tfidf_trigrams_{imbalance_method}\", \"model\")\n"
   ]
  },
  {
   "cell_type": "code",
   "execution_count": 12,
   "id": "8b44a1d0",
   "metadata": {},
   "outputs": [
    {
     "name": "stdout",
     "output_type": "stream",
     "text": [
      "\n",
      "Running experiment with method: class_weights\n",
      "🏃 View run Imbalance_class_weights_RandomForest_TFIDF_Trigrams at: https://dagshub.com/satyajeetrai007/Youtube-Comment-Sentiment-Analysis.mlflow/#/experiments/4/runs/cab6f560a41c4c15aafd289a2d8231f0\n",
      "🧪 View experiment at: https://dagshub.com/satyajeetrai007/Youtube-Comment-Sentiment-Analysis.mlflow/#/experiments/4\n",
      "\n",
      "Running experiment with method: random_oversampling\n",
      "🏃 View run Imbalance_random_oversampling_RandomForest_TFIDF_Trigrams at: https://dagshub.com/satyajeetrai007/Youtube-Comment-Sentiment-Analysis.mlflow/#/experiments/4/runs/6eaea8fa1f6c4503acd37d2f27b71c69\n",
      "🧪 View experiment at: https://dagshub.com/satyajeetrai007/Youtube-Comment-Sentiment-Analysis.mlflow/#/experiments/4\n",
      "\n",
      "Running experiment with method: random_undersampling\n",
      "🏃 View run Imbalance_random_undersampling_RandomForest_TFIDF_Trigrams at: https://dagshub.com/satyajeetrai007/Youtube-Comment-Sentiment-Analysis.mlflow/#/experiments/4/runs/6e6a26758c7d421498818837b2e07b4e\n",
      "🧪 View experiment at: https://dagshub.com/satyajeetrai007/Youtube-Comment-Sentiment-Analysis.mlflow/#/experiments/4\n",
      "\n",
      "Running experiment with method: smote\n",
      "🏃 View run Imbalance_smote_RandomForest_TFIDF_Trigrams at: https://dagshub.com/satyajeetrai007/Youtube-Comment-Sentiment-Analysis.mlflow/#/experiments/4/runs/da0518493e8647cbb64279fa77cd450b\n",
      "🧪 View experiment at: https://dagshub.com/satyajeetrai007/Youtube-Comment-Sentiment-Analysis.mlflow/#/experiments/4\n",
      "\n",
      "Running experiment with method: borderline_smote\n",
      "🏃 View run Imbalance_borderline_smote_RandomForest_TFIDF_Trigrams at: https://dagshub.com/satyajeetrai007/Youtube-Comment-Sentiment-Analysis.mlflow/#/experiments/4/runs/b4883ff693974c3abe38df837815da1e\n",
      "🧪 View experiment at: https://dagshub.com/satyajeetrai007/Youtube-Comment-Sentiment-Analysis.mlflow/#/experiments/4\n",
      "\n",
      "Running experiment with method: svm_smote\n",
      "🏃 View run Imbalance_svm_smote_RandomForest_TFIDF_Trigrams at: https://dagshub.com/satyajeetrai007/Youtube-Comment-Sentiment-Analysis.mlflow/#/experiments/4/runs/5961c3599cad42e7bcd9d7d72eeb2800\n",
      "🧪 View experiment at: https://dagshub.com/satyajeetrai007/Youtube-Comment-Sentiment-Analysis.mlflow/#/experiments/4\n",
      "\n",
      "Running experiment with method: adasyn\n",
      "🏃 View run Imbalance_adasyn_RandomForest_TFIDF_Trigrams at: https://dagshub.com/satyajeetrai007/Youtube-Comment-Sentiment-Analysis.mlflow/#/experiments/4/runs/1b531f218037492d895902176f12ceea\n",
      "🧪 View experiment at: https://dagshub.com/satyajeetrai007/Youtube-Comment-Sentiment-Analysis.mlflow/#/experiments/4\n",
      "\n",
      "Running experiment with method: tomek_links\n",
      "🏃 View run Imbalance_tomek_links_RandomForest_TFIDF_Trigrams at: https://dagshub.com/satyajeetrai007/Youtube-Comment-Sentiment-Analysis.mlflow/#/experiments/4/runs/d7611f46e1df4d818f2c8f53fd91c98e\n",
      "🧪 View experiment at: https://dagshub.com/satyajeetrai007/Youtube-Comment-Sentiment-Analysis.mlflow/#/experiments/4\n",
      "\n",
      "Running experiment with method: enn\n",
      "🏃 View run Imbalance_enn_RandomForest_TFIDF_Trigrams at: https://dagshub.com/satyajeetrai007/Youtube-Comment-Sentiment-Analysis.mlflow/#/experiments/4/runs/d637bb95926841878988e5d8c93a9a9b\n",
      "🧪 View experiment at: https://dagshub.com/satyajeetrai007/Youtube-Comment-Sentiment-Analysis.mlflow/#/experiments/4\n",
      "\n",
      "Running experiment with method: rennall_knn\n",
      "🏃 View run Imbalance_rennall_knn_RandomForest_TFIDF_Trigrams at: https://dagshub.com/satyajeetrai007/Youtube-Comment-Sentiment-Analysis.mlflow/#/experiments/4/runs/002176a222df4aa3bccc198dad2a7856\n",
      "🧪 View experiment at: https://dagshub.com/satyajeetrai007/Youtube-Comment-Sentiment-Analysis.mlflow/#/experiments/4\n",
      "\n",
      "Running experiment with method: near_miss\n",
      "🏃 View run Imbalance_near_miss_RandomForest_TFIDF_Trigrams at: https://dagshub.com/satyajeetrai007/Youtube-Comment-Sentiment-Analysis.mlflow/#/experiments/4/runs/5c64a634ffec42f88c2d7a6007cf166b\n",
      "🧪 View experiment at: https://dagshub.com/satyajeetrai007/Youtube-Comment-Sentiment-Analysis.mlflow/#/experiments/4\n",
      "\n",
      "Running experiment with method: cnnoss\n",
      "🏃 View run Imbalance_cnnoss_RandomForest_TFIDF_Trigrams at: https://dagshub.com/satyajeetrai007/Youtube-Comment-Sentiment-Analysis.mlflow/#/experiments/4/runs/5a81a721150c450d8629b6d9e7ae9660\n",
      "🧪 View experiment at: https://dagshub.com/satyajeetrai007/Youtube-Comment-Sentiment-Analysis.mlflow/#/experiments/4\n",
      "\n",
      "Running experiment with method: cluster_centroids\n",
      "🏃 View run Imbalance_cluster_centroids_RandomForest_TFIDF_Trigrams at: https://dagshub.com/satyajeetrai007/Youtube-Comment-Sentiment-Analysis.mlflow/#/experiments/4/runs/3582f86953594526929ee79aeaa99e78\n",
      "🧪 View experiment at: https://dagshub.com/satyajeetrai007/Youtube-Comment-Sentiment-Analysis.mlflow/#/experiments/4\n",
      "\n",
      "Running experiment with method: smote_tomek\n",
      "🏃 View run Imbalance_smote_tomek_RandomForest_TFIDF_Trigrams at: https://dagshub.com/satyajeetrai007/Youtube-Comment-Sentiment-Analysis.mlflow/#/experiments/4/runs/5042265d1de54696b0ca3450359697ad\n",
      "🧪 View experiment at: https://dagshub.com/satyajeetrai007/Youtube-Comment-Sentiment-Analysis.mlflow/#/experiments/4\n",
      "\n",
      "Running experiment with method: smote_enn\n",
      "🏃 View run Imbalance_smote_enn_RandomForest_TFIDF_Trigrams at: https://dagshub.com/satyajeetrai007/Youtube-Comment-Sentiment-Analysis.mlflow/#/experiments/4/runs/27e09ae9e3ad4d90873fe1d8239bdbbf\n",
      "🧪 View experiment at: https://dagshub.com/satyajeetrai007/Youtube-Comment-Sentiment-Analysis.mlflow/#/experiments/4\n"
     ]
    }
   ],
   "source": [
    "# Step 7: Run experiments for different imbalance methods\n",
    "imbalance_methods = [\n",
    "    # Class weighting\n",
    "    \"class_weights\",\n",
    "\n",
    "    # Random resampling\n",
    "    \"random_oversampling\",\n",
    "    \"random_undersampling\",\n",
    "\n",
    "    # SMOTE family\n",
    "    \"smote\",\n",
    "    \"borderline_smote\",\n",
    "    \"svm_smote\",\n",
    "    \"adasyn\",\n",
    "\n",
    "    # Undersampling techniques\n",
    "    \"tomek_links\",\n",
    "    \"enn\",  \n",
    "    \"all_knn\",\n",
    "    \"near_miss\",\n",
    "    \"cnn\"\n",
    "\n",
    "    \"cluster_centroids\",\n",
    "\n",
    "    # Hybrid methods\n",
    "    \"smote_tomek\",\n",
    "    \"smote_enn\",\n",
    "]\n",
    "\n",
    "\n",
    "for method in imbalance_methods:\n",
    "    print(f\"\\nRunning experiment with method: {method}\")\n",
    "    run_imbalanced_experiment(method)\n"
   ]
  },
  {
   "cell_type": "code",
   "execution_count": null,
   "id": "179cf07d",
   "metadata": {},
   "outputs": [],
   "source": []
  }
 ],
 "metadata": {
  "kernelspec": {
   "display_name": ".venv",
   "language": "python",
   "name": "python3"
  },
  "language_info": {
   "codemirror_mode": {
    "name": "ipython",
    "version": 3
   },
   "file_extension": ".py",
   "mimetype": "text/x-python",
   "name": "python",
   "nbconvert_exporter": "python",
   "pygments_lexer": "ipython3",
   "version": "3.11.3"
  }
 },
 "nbformat": 4,
 "nbformat_minor": 5
}
