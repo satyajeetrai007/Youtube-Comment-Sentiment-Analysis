{
 "cells": [
  {
   "cell_type": "code",
   "execution_count": 1,
   "id": "d6f6f2f9",
   "metadata": {},
   "outputs": [
    {
     "name": "stderr",
     "output_type": "stream",
     "text": [
      "c:\\Users\\satya\\OneDrive\\Desktop\\youtube-comment-senitment-analysis\\.venv\\Lib\\site-packages\\tqdm\\auto.py:21: TqdmWarning: IProgress not found. Please update jupyter and ipywidgets. See https://ipywidgets.readthedocs.io/en/stable/user_install.html\n",
      "  from .autonotebook import tqdm as notebook_tqdm\n"
     ]
    },
    {
     "data": {
      "text/html": [
       "<pre style=\"white-space:pre;overflow-x:auto;line-height:normal;font-family:Menlo,'DejaVu Sans Mono',consolas,'Courier New',monospace\">Accessing as satyajeetrai007\n",
       "</pre>\n"
      ],
      "text/plain": [
       "Accessing as satyajeetrai007\n"
      ]
     },
     "metadata": {},
     "output_type": "display_data"
    },
    {
     "data": {
      "text/html": [
       "<pre style=\"white-space:pre;overflow-x:auto;line-height:normal;font-family:Menlo,'DejaVu Sans Mono',consolas,'Courier New',monospace\">Initialized MLflow to track repo <span style=\"color: #008000; text-decoration-color: #008000\">\"satyajeetrai007/Youtube-Comment-Sentiment-Analysis\"</span>\n",
       "</pre>\n"
      ],
      "text/plain": [
       "Initialized MLflow to track repo \u001b[32m\"satyajeetrai007/Youtube-Comment-Sentiment-Analysis\"\u001b[0m\n"
      ]
     },
     "metadata": {},
     "output_type": "display_data"
    },
    {
     "data": {
      "text/html": [
       "<pre style=\"white-space:pre;overflow-x:auto;line-height:normal;font-family:Menlo,'DejaVu Sans Mono',consolas,'Courier New',monospace\">Repository satyajeetrai007/Youtube-Comment-Sentiment-Analysis initialized!\n",
       "</pre>\n"
      ],
      "text/plain": [
       "Repository satyajeetrai007/Youtube-Comment-Sentiment-Analysis initialized!\n"
      ]
     },
     "metadata": {},
     "output_type": "display_data"
    },
    {
     "data": {
      "text/plain": [
       "(36243, 2)"
      ]
     },
     "execution_count": 1,
     "metadata": {},
     "output_type": "execute_result"
    }
   ],
   "source": [
    "import pandas as pd\n",
    "from sklearn.feature_extraction.text import TfidfVectorizer\n",
    "from sklearn.model_selection import train_test_split\n",
    "from sklearn.metrics import accuracy_score, classification_report\n",
    "from sklearn.svm import SVC\n",
    "from imblearn.over_sampling import SMOTE\n",
    "import mlflow\n",
    "import mlflow.sklearn\n",
    "import optuna\n",
    "import dagshub\n",
    "import pickle\n",
    "\n",
    "dagshub.init(repo_owner='satyajeetrai007', repo_name='Youtube-Comment-Sentiment-Analysis', mlflow=True)\n",
    "mlflow.set_experiment(\"Algorithms with HyperParameter tuning\")\n",
    "\n",
    "df = pd.read_csv('data_preprocessed.csv').dropna().drop_duplicates()\n",
    "df.shape"
   ]
  },
  {
   "cell_type": "code",
   "execution_count": 2,
   "id": "dcc2d0d0",
   "metadata": {},
   "outputs": [
    {
     "name": "stderr",
     "output_type": "stream",
     "text": [
      "[I 2025-08-27 20:25:44,750] A new study created in memory with name: no-name-c63f697d-bd65-4df4-b777-0ddbf6c1a3f3\n",
      "[I 2025-08-27 20:44:18,554] Trial 0 finished with value: 0.49703407366533314 and parameters: {'C': 0.0004423440906911965, 'kernel': 'linear'}. Best is trial 0 with value: 0.49703407366533314.\n",
      "[I 2025-08-27 21:14:12,122] Trial 1 finished with value: 0.7683818457718306 and parameters: {'C': 4.9131214507011105, 'kernel': 'rbf'}. Best is trial 1 with value: 0.7683818457718306.\n",
      "[I 2025-08-27 21:23:46,866] Trial 2 finished with value: 0.45095875293143883 and parameters: {'C': 0.0010483332479892429, 'kernel': 'poly'}. Best is trial 1 with value: 0.7683818457718306.\n",
      "[I 2025-08-27 21:30:09,557] Trial 3 finished with value: 0.772658297696234 and parameters: {'C': 0.27322010220616466, 'kernel': 'linear'}. Best is trial 3 with value: 0.772658297696234.\n",
      "[I 2025-08-27 21:39:16,566] Trial 4 finished with value: 0.4909642709339219 and parameters: {'C': 0.029443498149364988, 'kernel': 'rbf'}. Best is trial 3 with value: 0.772658297696234.\n",
      "[I 2025-08-27 21:48:48,573] Trial 5 finished with value: 0.5055869775141398 and parameters: {'C': 0.023436105665319878, 'kernel': 'poly'}. Best is trial 3 with value: 0.772658297696234.\n",
      "[I 2025-08-27 21:58:36,647] Trial 6 finished with value: 0.6118085253138363 and parameters: {'C': 0.00831089800540309, 'kernel': 'linear'}. Best is trial 3 with value: 0.772658297696234.\n",
      "[I 2025-08-27 22:08:31,020] Trial 7 finished with value: 0.45095875293143883 and parameters: {'C': 0.000968133118911841, 'kernel': 'poly'}. Best is trial 3 with value: 0.772658297696234.\n",
      "[I 2025-08-27 22:18:20,864] Trial 8 finished with value: 0.639674437853497 and parameters: {'C': 0.2447870180752955, 'kernel': 'poly'}. Best is trial 3 with value: 0.772658297696234.\n",
      "[I 2025-08-27 22:32:36,965] Trial 9 finished with value: 0.7663125948406677 and parameters: {'C': 8.581695329275322, 'kernel': 'rbf'}. Best is trial 3 with value: 0.772658297696234.\n",
      "[I 2025-08-27 22:36:23,801] Trial 10 finished with value: 0.7766588494964822 and parameters: {'C': 0.47897376929840985, 'kernel': 'linear'}. Best is trial 10 with value: 0.7766588494964822.\n",
      "[I 2025-08-27 22:40:19,708] Trial 11 finished with value: 0.7754172989377845 and parameters: {'C': 0.31326307222550975, 'kernel': 'linear'}. Best is trial 10 with value: 0.7766588494964822.\n",
      "[I 2025-08-27 22:44:08,993] Trial 12 finished with value: 0.7762449993102497 and parameters: {'C': 0.4350498675358998, 'kernel': 'linear'}. Best is trial 10 with value: 0.7766588494964822.\n",
      "[I 2025-08-27 22:48:03,892] Trial 13 finished with value: 0.7796937508621878 and parameters: {'C': 0.9272405999758239, 'kernel': 'linear'}. Best is trial 13 with value: 0.7796937508621878.\n",
      "[I 2025-08-27 22:51:10,357] Trial 14 finished with value: 0.7819009518554283 and parameters: {'C': 1.528213756007947, 'kernel': 'linear'}. Best is trial 14 with value: 0.7819009518554283.\n",
      "[I 2025-08-27 22:53:09,917] Trial 15 finished with value: 0.7838322527245137 and parameters: {'C': 2.067226277624609, 'kernel': 'linear'}. Best is trial 15 with value: 0.7838322527245137.\n",
      "[I 2025-08-27 22:56:29,787] Trial 16 finished with value: 0.7832804524762036 and parameters: {'C': 2.2842921792498285, 'kernel': 'linear'}. Best is trial 15 with value: 0.7838322527245137.\n",
      "[I 2025-08-27 23:00:41,388] Trial 17 finished with value: 0.7830045523520486 and parameters: {'C': 2.4471206778973893, 'kernel': 'linear'}. Best is trial 15 with value: 0.7838322527245137.\n",
      "[I 2025-08-27 23:03:18,849] Trial 18 finished with value: 0.7479652365843564 and parameters: {'C': 0.0680777823923849, 'kernel': 'linear'}. Best is trial 15 with value: 0.7838322527245137.\n",
      "[I 2025-08-27 23:06:15,903] Trial 19 finished with value: 0.7192716236722306 and parameters: {'C': 0.090435743358329, 'kernel': 'rbf'}. Best is trial 15 with value: 0.7838322527245137.\n",
      "[I 2025-08-27 23:13:03,828] Trial 20 finished with value: 0.7835563526003587 and parameters: {'C': 9.774087722128014, 'kernel': 'linear'}. Best is trial 15 with value: 0.7838322527245137.\n",
      "[I 2025-08-27 23:17:20,157] Trial 21 finished with value: 0.7838322527245137 and parameters: {'C': 3.7393908144288037, 'kernel': 'linear'}. Best is trial 15 with value: 0.7838322527245137.\n",
      "[I 2025-08-27 23:22:55,797] Trial 22 finished with value: 0.7853497034073665 and parameters: {'C': 7.219739191971431, 'kernel': 'linear'}. Best is trial 22 with value: 0.7853497034073665.\n",
      "[I 2025-08-27 23:27:23,269] Trial 23 finished with value: 0.7835563526003587 and parameters: {'C': 3.8701453015813425, 'kernel': 'linear'}. Best is trial 22 with value: 0.7853497034073665.\n",
      "[I 2025-08-27 23:30:21,232] Trial 24 finished with value: 0.7788660504897227 and parameters: {'C': 0.838102466172344, 'kernel': 'linear'}. Best is trial 22 with value: 0.7853497034073665.\n",
      "[I 2025-08-27 23:35:12,710] Trial 25 finished with value: 0.590288315629742 and parameters: {'C': 0.004741846305256904, 'kernel': 'linear'}. Best is trial 22 with value: 0.7853497034073665.\n",
      "[I 2025-08-27 23:40:25,906] Trial 26 finished with value: 0.7842461029107463 and parameters: {'C': 4.407684961457698, 'kernel': 'linear'}. Best is trial 22 with value: 0.7853497034073665.\n",
      "[I 2025-08-27 23:43:27,020] Trial 27 finished with value: 0.7810732514829631 and parameters: {'C': 1.2599028748802983, 'kernel': 'linear'}. Best is trial 22 with value: 0.7853497034073665.\n",
      "[I 2025-08-27 23:47:41,738] Trial 28 finished with value: 0.6251896813353566 and parameters: {'C': 0.12305098745820806, 'kernel': 'poly'}. Best is trial 22 with value: 0.7853497034073665.\n",
      "[I 2025-08-27 23:58:29,550] Trial 29 finished with value: 0.7665884949648227 and parameters: {'C': 8.735673008988407, 'kernel': 'rbf'}. Best is trial 22 with value: 0.7853497034073665.\n"
     ]
    },
    {
     "name": "stdout",
     "output_type": "stream",
     "text": [
      "🏃 View run SVM_SMOTE_TFIDF_Trigrams_Corrected at: https://dagshub.com/satyajeetrai007/Youtube-Comment-Sentiment-Analysis.mlflow/#/experiments/6/runs/d85512cf83354e58bed8f3253f5aab78\n",
      "🧪 View experiment at: https://dagshub.com/satyajeetrai007/Youtube-Comment-Sentiment-Analysis.mlflow/#/experiments/6\n"
     ]
    }
   ],
   "source": [
    "\n",
    "# Step 1: Clean and isolate features and target\n",
    "df = df.dropna(subset=['category'])\n",
    "X = df['clean_comment']\n",
    "y = df['category']\n",
    "\n",
    "# Step 2: Perform the train-test split FIRST to prevent data leakage 💧\n",
    "# 'stratify=y' ensures the original class proportions are maintained in both sets.\n",
    "X_train_text, X_test_text, y_train, y_test = train_test_split(X, y, test_size=0.2, random_state=42, stratify=y)\n",
    "\n",
    "# Step 3: Fit the TF-IDF vectorizer ONLY on the training data\n",
    "vectorizer = TfidfVectorizer(ngram_range=(1, 3), max_features=1000)\n",
    "X_train_vec = vectorizer.fit_transform(X_train_text)\n",
    "\n",
    "# Use the fitted vectorizer to transform the test data\n",
    "X_test_vec = vectorizer.transform(X_test_text)\n",
    "\n",
    "# Step 4: Apply SMOTE to the TRAINING data ONLY to handle class imbalance\n",
    "smote = SMOTE(random_state=42)\n",
    "X_train_resampled, y_train_resampled = smote.fit_resample(X_train_vec, y_train)\n",
    "\n",
    "# The test data (X_test_vec, y_test) remains untouched for a realistic evaluation.\n",
    "\n",
    "# --- MLflow and Optuna Functions (no changes needed) ---\n",
    "\n",
    "def log_mlflow(model_name, model, X_train, X_test, y_train, y_test):\n",
    "    with mlflow.start_run():\n",
    "        mlflow.set_tag(\"mlflow.runName\", f\"{model_name}_SMOTE_TFIDF_Trigrams_Corrected\")\n",
    "        mlflow.set_tag(\"experiment_type\", \"algorithm_comparison\")\n",
    "        mlflow.log_param(\"algo_name\", model_name)\n",
    "\n",
    "        model.fit(X_train, y_train)\n",
    "        y_pred = model.predict(X_test)\n",
    "\n",
    "        accuracy = accuracy_score(y_test, y_pred)\n",
    "        mlflow.log_metric(\"accuracy\", accuracy)\n",
    "\n",
    "        classification_rep = classification_report(y_test, y_pred, output_dict=True)\n",
    "        for label, metrics in classification_rep.items():\n",
    "            if isinstance(metrics, dict):\n",
    "                for metric, value in metrics.items():\n",
    "                    mlflow.log_metric(f\"{label}_{metric}\", value)\n",
    "\n",
    "        model_filename = f\"{model_name}_model.pkl\"\n",
    "        with open(model_filename, \"wb\") as f:\n",
    "            pickle.dump(model, f)\n",
    "        mlflow.log_artifact(model_filename, \"model\")\n",
    "\n",
    "# Step 5: Optuna objective function for SVM\n",
    "def objective_svm(trial):\n",
    "    C = trial.suggest_float('C', 1e-4, 10.0, log=True)\n",
    "    kernel = trial.suggest_categorical('kernel', ['linear', 'rbf', 'poly'])\n",
    "\n",
    "    model = SVC(C=C, kernel=kernel, random_state=42)\n",
    "    # Train on the resampled training data\n",
    "    model.fit(X_train_resampled, y_train_resampled)\n",
    "    \n",
    "    # Evaluate on the original, untouched test data\n",
    "    y_pred = model.predict(X_test_vec)\n",
    "    return accuracy_score(y_test, y_pred)\n",
    "\n",
    "# Step 6: Run Optuna for SVM\n",
    "def run_optuna_experiment():\n",
    "    study = optuna.create_study(direction=\"maximize\")\n",
    "    study.optimize(objective_svm, n_trials=30)\n",
    "\n",
    "    best_params = study.best_params\n",
    "    best_model = SVC(**best_params, random_state=42)\n",
    "    \n",
    "    # Log the best model using the correctly processed datasets\n",
    "    log_mlflow(\"SVM\", best_model, X_train_resampled, X_test_vec, y_train_resampled, y_test)\n",
    "\n",
    "# Run the experiment\n",
    "run_optuna_experiment()"
   ]
  },
  {
   "cell_type": "code",
   "execution_count": null,
   "id": "a4818b96",
   "metadata": {},
   "outputs": [],
   "source": []
  }
 ],
 "metadata": {
  "kernelspec": {
   "display_name": ".venv",
   "language": "python",
   "name": "python3"
  },
  "language_info": {
   "codemirror_mode": {
    "name": "ipython",
    "version": 3
   },
   "file_extension": ".py",
   "mimetype": "text/x-python",
   "name": "python",
   "nbconvert_exporter": "python",
   "pygments_lexer": "ipython3",
   "version": "3.11.3"
  }
 },
 "nbformat": 4,
 "nbformat_minor": 5
}
