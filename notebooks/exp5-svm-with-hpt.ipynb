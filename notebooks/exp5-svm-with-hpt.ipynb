{
 "cells": [
  {
   "cell_type": "code",
   "execution_count": 1,
   "id": "d6f6f2f9",
   "metadata": {},
   "outputs": [
    {
     "name": "stderr",
     "output_type": "stream",
     "text": [
      "c:\\Users\\satya\\OneDrive\\Desktop\\youtube-comment-senitment-analysis\\.venv\\Lib\\site-packages\\tqdm\\auto.py:21: TqdmWarning: IProgress not found. Please update jupyter and ipywidgets. See https://ipywidgets.readthedocs.io/en/stable/user_install.html\n",
      "  from .autonotebook import tqdm as notebook_tqdm\n"
     ]
    },
    {
     "data": {
      "text/html": [
       "<pre style=\"white-space:pre;overflow-x:auto;line-height:normal;font-family:Menlo,'DejaVu Sans Mono',consolas,'Courier New',monospace\">Accessing as satyajeetrai007\n",
       "</pre>\n"
      ],
      "text/plain": [
       "Accessing as satyajeetrai007\n"
      ]
     },
     "metadata": {},
     "output_type": "display_data"
    },
    {
     "data": {
      "text/html": [
       "<pre style=\"white-space:pre;overflow-x:auto;line-height:normal;font-family:Menlo,'DejaVu Sans Mono',consolas,'Courier New',monospace\">Initialized MLflow to track repo <span style=\"color: #008000; text-decoration-color: #008000\">\"satyajeetrai007/Youtube-Comment-Sentiment-Analysis\"</span>\n",
       "</pre>\n"
      ],
      "text/plain": [
       "Initialized MLflow to track repo \u001b[32m\"satyajeetrai007/Youtube-Comment-Sentiment-Analysis\"\u001b[0m\n"
      ]
     },
     "metadata": {},
     "output_type": "display_data"
    },
    {
     "data": {
      "text/html": [
       "<pre style=\"white-space:pre;overflow-x:auto;line-height:normal;font-family:Menlo,'DejaVu Sans Mono',consolas,'Courier New',monospace\">Repository satyajeetrai007/Youtube-Comment-Sentiment-Analysis initialized!\n",
       "</pre>\n"
      ],
      "text/plain": [
       "Repository satyajeetrai007/Youtube-Comment-Sentiment-Analysis initialized!\n"
      ]
     },
     "metadata": {},
     "output_type": "display_data"
    },
    {
     "data": {
      "text/plain": [
       "(36243, 2)"
      ]
     },
     "execution_count": 1,
     "metadata": {},
     "output_type": "execute_result"
    }
   ],
   "source": [
    "import pandas as pd\n",
    "from sklearn.feature_extraction.text import TfidfVectorizer\n",
    "from sklearn.model_selection import train_test_split\n",
    "from sklearn.metrics import accuracy_score, classification_report\n",
    "from sklearn.svm import SVC\n",
    "from imblearn.over_sampling import SMOTE\n",
    "import mlflow\n",
    "import mlflow.sklearn\n",
    "import optuna\n",
    "import dagshub\n",
    "import pickle\n",
    "\n",
    "dagshub.init(repo_owner='satyajeetrai007', repo_name='Youtube-Comment-Sentiment-Analysis', mlflow=True)\n",
    "mlflow.set_experiment(\"Algorithms with HyperParameter tuning\")\n",
    "\n",
    "df = pd.read_csv('data_preprocessed.csv').dropna().drop_duplicates()\n",
    "df.shape"
   ]
  },
  {
   "cell_type": "code",
   "execution_count": null,
   "id": "dcc2d0d0",
   "metadata": {},
   "outputs": [
    {
     "name": "stderr",
     "output_type": "stream",
     "text": [
      "[I 2025-08-26 21:08:18,657] A new study created in memory with name: no-name-1f6bb3ce-83d0-49b4-a596-69efcf634d94\n",
      "[I 2025-08-26 21:14:56,628] Trial 0 finished with value: 0.6932978723404255 and parameters: {'C': 0.14603752847012919, 'kernel': 'poly'}. Best is trial 0 with value: 0.6932978723404255.\n",
      "[I 2025-08-26 21:23:25,763] Trial 1 finished with value: 0.4053191489361702 and parameters: {'C': 0.0039607531940575634, 'kernel': 'rbf'}. Best is trial 0 with value: 0.6932978723404255.\n",
      "[I 2025-08-26 21:29:48,220] Trial 2 finished with value: 0.7662765957446809 and parameters: {'C': 0.2003970790104463, 'kernel': 'rbf'}. Best is trial 2 with value: 0.7662765957446809.\n",
      "[I 2025-08-26 21:36:08,244] Trial 3 finished with value: 0.7410638297872341 and parameters: {'C': 0.12732966998098744, 'kernel': 'rbf'}. Best is trial 2 with value: 0.7662765957446809.\n",
      "[I 2025-08-26 21:43:28,997] Trial 4 finished with value: 0.5569148936170213 and parameters: {'C': 0.0841578398191368, 'kernel': 'poly'}. Best is trial 2 with value: 0.7662765957446809.\n",
      "[I 2025-08-26 21:56:18,051] Trial 5 finished with value: 0.8309574468085107 and parameters: {'C': 6.1883661869836395, 'kernel': 'rbf'}. Best is trial 5 with value: 0.8309574468085107.\n",
      "[I 2025-08-26 21:58:21,824] Trial 6 finished with value: 0.7242553191489361 and parameters: {'C': 0.08635731093020711, 'kernel': 'linear'}. Best is trial 5 with value: 0.8309574468085107.\n",
      "[I 2025-08-26 22:01:16,973] Trial 7 finished with value: 0.7747872340425532 and parameters: {'C': 5.599079696431798, 'kernel': 'linear'}. Best is trial 5 with value: 0.8309574468085107.\n",
      "[I 2025-08-26 22:07:08,599] Trial 8 finished with value: 0.8315957446808511 and parameters: {'C': 2.487009019729937, 'kernel': 'rbf'}. Best is trial 8 with value: 0.8315957446808511.\n",
      "[I 2025-08-26 22:09:59,544] Trial 9 finished with value: 0.5591489361702128 and parameters: {'C': 0.0035341160117037173, 'kernel': 'linear'}. Best is trial 8 with value: 0.8315957446808511.\n",
      "[I 2025-08-26 22:13:05,190] Trial 10 finished with value: 0.49744680851063827 and parameters: {'C': 0.0001315147030359172, 'kernel': 'rbf'}. Best is trial 8 with value: 0.8315957446808511.\n",
      "[I 2025-08-26 22:24:18,132] Trial 11 finished with value: 0.8313829787234043 and parameters: {'C': 5.952955729294293, 'kernel': 'rbf'}. Best is trial 8 with value: 0.8315957446808511.\n",
      "[I 2025-08-26 22:31:48,889] Trial 12 finished with value: 0.8136170212765957 and parameters: {'C': 0.9071272128085851, 'kernel': 'rbf'}. Best is trial 8 with value: 0.8315957446808511.\n",
      "[I 2025-08-26 22:41:57,004] Trial 13 finished with value: 0.8223404255319149 and parameters: {'C': 1.360525070551064, 'kernel': 'rbf'}. Best is trial 8 with value: 0.8315957446808511.\n",
      "[I 2025-08-26 22:48:53,756] Trial 14 finished with value: 0.8211702127659575 and parameters: {'C': 1.2736596103184874, 'kernel': 'rbf'}. Best is trial 8 with value: 0.8315957446808511.\n",
      "[I 2025-08-26 23:05:12,258] Trial 15 finished with value: 0.7032978723404255 and parameters: {'C': 9.88427944020928, 'kernel': 'poly'}. Best is trial 8 with value: 0.8315957446808511.\n",
      "[I 2025-08-26 23:14:09,821] Trial 16 finished with value: 0.8021276595744681 and parameters: {'C': 0.623051203047295, 'kernel': 'rbf'}. Best is trial 8 with value: 0.8315957446808511.\n",
      "[I 2025-08-26 23:38:00,528] Trial 17 finished with value: 0.4309574468085106 and parameters: {'C': 0.009803281204765346, 'kernel': 'rbf'}. Best is trial 8 with value: 0.8315957446808511.\n"
     ]
    }
   ],
   "source": [
    "# Step 1: (Optional) Remapping - skipped since not strictly needed for SVM\n",
    "\n",
    "# Step 2: Remove rows where the target labels (category) are NaN\n",
    "df = df.dropna(subset=['category'])\n",
    "\n",
    "# Step 3: TF-IDF vectorizer setup\n",
    "ngram_range = (1, 3)  # Trigram\n",
    "max_features = 1000  # Set max_features to 1000\n",
    "vectorizer = TfidfVectorizer(ngram_range=ngram_range, max_features=max_features)\n",
    "X = vectorizer.fit_transform(df['clean_comment'])\n",
    "y = df['category']\n",
    "\n",
    "# Step 4: Apply SMOTE to handle class imbalance\n",
    "smote = SMOTE(random_state=42)\n",
    "X_resampled, y_resampled = smote.fit_resample(X, y)\n",
    "\n",
    "# Step 5: Train-test split\n",
    "X_train, X_test, y_train, y_test = train_test_split(X_resampled, y_resampled, test_size=0.2, random_state=42, stratify=y_resampled)\n",
    "\n",
    "# Function to log results in MLflow\n",
    "def log_mlflow(model_name, model, X_train, X_test, y_train, y_test):\n",
    "    with mlflow.start_run():\n",
    "        # Log model type\n",
    "        mlflow.set_tag(\"mlflow.runName\", f\"{model_name}_SMOTE_TFIDF_Trigrams\")\n",
    "        mlflow.set_tag(\"experiment_type\", \"algorithm_comparison\")\n",
    "\n",
    "        # Log algorithm name as a parameter\n",
    "        mlflow.log_param(\"algo_name\", model_name)\n",
    "\n",
    "        # Train model\n",
    "        model.fit(X_train, y_train)\n",
    "        y_pred = model.predict(X_test)\n",
    "\n",
    "        # Log accuracy\n",
    "        accuracy = accuracy_score(y_test, y_pred)\n",
    "        mlflow.log_metric(\"accuracy\", accuracy)\n",
    "\n",
    "        # Log classification report\n",
    "        classification_rep = classification_report(y_test, y_pred, output_dict=True)\n",
    "        for label, metrics in classification_rep.items():\n",
    "            if isinstance(metrics, dict):\n",
    "                for metric, value in metrics.items():\n",
    "                    mlflow.log_metric(f\"{label}_{metric}\", value)\n",
    "\n",
    "        with open(f\"{model_name}_model\", \"wb\") as f:\n",
    "            pickle.dump(model, f)\n",
    "\n",
    "        with open(f\"{model_name}_model\", \"rb\") as f:\n",
    "            clf = pickle.load(f)\n",
    "\n",
    "        mlflow.log_artifact(f\"{model_name}_model\", \"model\")\n",
    "\n",
    "\n",
    "# Step 6: Optuna objective function for SVM\n",
    "def objective_svm(trial):\n",
    "    C = trial.suggest_float('C', 1e-4, 10.0, log=True)\n",
    "    kernel = trial.suggest_categorical('kernel', ['linear', 'rbf', 'poly'])\n",
    "\n",
    "    model = SVC(C=C, kernel=kernel, random_state=42)\n",
    "    return accuracy_score(y_test, model.fit(X_train, y_train).predict(X_test))\n",
    "\n",
    "\n",
    "# Step 7: Run Optuna for SVM, log the best model only\n",
    "def run_optuna_experiment():\n",
    "    study = optuna.create_study(direction=\"maximize\")\n",
    "    study.optimize(objective_svm, n_trials=30)\n",
    "\n",
    "    # Get the best parameters and log only the best model\n",
    "    best_params = study.best_params\n",
    "    best_model = SVC(C=best_params['C'], kernel=best_params['kernel'], random_state=42)\n",
    "\n",
    "    # Log the best model with MLflow, passing the algo_name as \"SVM\"\n",
    "    log_mlflow(\"SVM\", best_model, X_train, X_test, y_train, y_test)\n",
    "\n",
    "# Run the experiment for SVM\n",
    "run_optuna_experiment()"
   ]
  },
  {
   "cell_type": "code",
   "execution_count": null,
   "id": "a4818b96",
   "metadata": {},
   "outputs": [],
   "source": []
  }
 ],
 "metadata": {
  "kernelspec": {
   "display_name": ".venv",
   "language": "python",
   "name": "python3"
  },
  "language_info": {
   "codemirror_mode": {
    "name": "ipython",
    "version": 3
   },
   "file_extension": ".py",
   "mimetype": "text/x-python",
   "name": "python",
   "nbconvert_exporter": "python",
   "pygments_lexer": "ipython3",
   "version": "3.11.3"
  }
 },
 "nbformat": 4,
 "nbformat_minor": 5
}
