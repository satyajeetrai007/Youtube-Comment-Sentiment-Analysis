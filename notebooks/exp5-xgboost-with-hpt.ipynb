{
 "cells": [
  {
   "cell_type": "code",
   "execution_count": 2,
   "id": "e2ce0982",
   "metadata": {},
   "outputs": [
    {
     "name": "stderr",
     "output_type": "stream",
     "text": [
      "c:\\Users\\satya\\OneDrive\\Desktop\\youtube-comment-senitment-analysis\\.venv\\Lib\\site-packages\\tqdm\\auto.py:21: TqdmWarning: IProgress not found. Please update jupyter and ipywidgets. See https://ipywidgets.readthedocs.io/en/stable/user_install.html\n",
      "  from .autonotebook import tqdm as notebook_tqdm\n"
     ]
    },
    {
     "data": {
      "text/html": [
       "<pre style=\"white-space:pre;overflow-x:auto;line-height:normal;font-family:Menlo,'DejaVu Sans Mono',consolas,'Courier New',monospace\">Accessing as satyajeetrai007\n",
       "</pre>\n"
      ],
      "text/plain": [
       "Accessing as satyajeetrai007\n"
      ]
     },
     "metadata": {},
     "output_type": "display_data"
    },
    {
     "data": {
      "text/html": [
       "<pre style=\"white-space:pre;overflow-x:auto;line-height:normal;font-family:Menlo,'DejaVu Sans Mono',consolas,'Courier New',monospace\">Initialized MLflow to track repo <span style=\"color: #008000; text-decoration-color: #008000\">\"satyajeetrai007/Youtube-Comment-Sentiment-Analysis\"</span>\n",
       "</pre>\n"
      ],
      "text/plain": [
       "Initialized MLflow to track repo \u001b[32m\"satyajeetrai007/Youtube-Comment-Sentiment-Analysis\"\u001b[0m\n"
      ]
     },
     "metadata": {},
     "output_type": "display_data"
    },
    {
     "data": {
      "text/html": [
       "<pre style=\"white-space:pre;overflow-x:auto;line-height:normal;font-family:Menlo,'DejaVu Sans Mono',consolas,'Courier New',monospace\">Repository satyajeetrai007/Youtube-Comment-Sentiment-Analysis initialized!\n",
       "</pre>\n"
      ],
      "text/plain": [
       "Repository satyajeetrai007/Youtube-Comment-Sentiment-Analysis initialized!\n"
      ]
     },
     "metadata": {},
     "output_type": "display_data"
    },
    {
     "data": {
      "text/plain": [
       "(36243, 2)"
      ]
     },
     "execution_count": 2,
     "metadata": {},
     "output_type": "execute_result"
    }
   ],
   "source": [
    "import dagshub\n",
    "import pickle\n",
    "import optuna\n",
    "import mlflow\n",
    "import mlflow.sklearn\n",
    "from sklearn.model_selection import train_test_split\n",
    "from sklearn.metrics import accuracy_score, classification_report\n",
    "from sklearn.feature_extraction.text import TfidfVectorizer\n",
    "from xgboost import XGBClassifier\n",
    "from imblearn.over_sampling import SMOTE\n",
    "import matplotlib.pyplot as plt\n",
    "import seaborn as sns\n",
    "import pandas as pd\n",
    "\n",
    "dagshub.init(repo_owner='satyajeetrai007', repo_name='Youtube-Comment-Sentiment-Analysis', mlflow=True)\n",
    "mlflow.set_experiment(\"Algorithms with HyperParameter tuning\")\n",
    "\n",
    "df = pd.read_csv('data_preprocessed.csv').dropna().drop_duplicates()\n",
    "df.shape"
   ]
  },
  {
   "cell_type": "code",
   "execution_count": 3,
   "id": "b892e094",
   "metadata": {},
   "outputs": [
    {
     "name": "stderr",
     "output_type": "stream",
     "text": [
      "[I 2025-08-27 20:29:10,124] A new study created in memory with name: no-name-979fe1a7-6ab2-4de8-a26e-c76eb791ceca\n",
      "[I 2025-08-27 20:33:45,628] Trial 0 finished with value: 0.7601048420471789 and parameters: {'n_estimators': 145, 'learning_rate': 0.06865261335635327, 'max_depth': 7}. Best is trial 0 with value: 0.7601048420471789.\n",
      "[I 2025-08-27 20:35:26,803] Trial 1 finished with value: 0.725617326527797 and parameters: {'n_estimators': 211, 'learning_rate': 0.06782344531024542, 'max_depth': 3}. Best is trial 0 with value: 0.7601048420471789.\n",
      "[I 2025-08-27 20:38:15,231] Trial 2 finished with value: 0.6494688922610015 and parameters: {'n_estimators': 92, 'learning_rate': 0.015247150548965813, 'max_depth': 8}. Best is trial 0 with value: 0.7601048420471789.\n",
      "[I 2025-08-27 20:45:01,056] Trial 3 finished with value: 0.5778728100427645 and parameters: {'n_estimators': 271, 'learning_rate': 0.0003421510997194263, 'max_depth': 8}. Best is trial 0 with value: 0.7601048420471789.\n",
      "[I 2025-08-27 20:51:27,537] Trial 4 finished with value: 0.6180162781073252 and parameters: {'n_estimators': 249, 'learning_rate': 0.0024998201692428396, 'max_depth': 8}. Best is trial 0 with value: 0.7601048420471789.\n",
      "[I 2025-08-27 20:55:28,377] Trial 5 finished with value: 0.6585735963581184 and parameters: {'n_estimators': 238, 'learning_rate': 0.008718806190446432, 'max_depth': 7}. Best is trial 0 with value: 0.7601048420471789.\n",
      "[I 2025-08-27 21:01:47,620] Trial 6 finished with value: 0.6531935439370947 and parameters: {'n_estimators': 144, 'learning_rate': 0.007403548258216957, 'max_depth': 10}. Best is trial 0 with value: 0.7601048420471789.\n",
      "[I 2025-08-27 21:07:06,823] Trial 7 finished with value: 0.7108566698855014 and parameters: {'n_estimators': 279, 'learning_rate': 0.015165138515425438, 'max_depth': 8}. Best is trial 0 with value: 0.7601048420471789.\n",
      "[I 2025-08-27 21:07:29,790] Trial 8 finished with value: 0.6796799558559802 and parameters: {'n_estimators': 72, 'learning_rate': 0.07708822596847265, 'max_depth': 4}. Best is trial 0 with value: 0.7601048420471789.\n",
      "[I 2025-08-27 21:08:24,020] Trial 9 finished with value: 0.5595254517864533 and parameters: {'n_estimators': 99, 'learning_rate': 0.0030406063505812107, 'max_depth': 5}. Best is trial 0 with value: 0.7601048420471789.\n",
      "[I 2025-08-27 21:10:17,908] Trial 10 finished with value: 0.5511104979997241 and parameters: {'n_estimators': 157, 'learning_rate': 0.000189320679225546, 'max_depth': 6}. Best is trial 0 with value: 0.7601048420471789.\n",
      "[I 2025-08-27 21:10:50,154] Trial 11 finished with value: 0.7325148296316734 and parameters: {'n_estimators': 200, 'learning_rate': 0.08136284470927685, 'max_depth': 3}. Best is trial 0 with value: 0.7601048420471789.\n",
      "[I 2025-08-27 21:11:19,331] Trial 12 finished with value: 0.7412056835425576 and parameters: {'n_estimators': 193, 'learning_rate': 0.09705672246403148, 'max_depth': 3}. Best is trial 0 with value: 0.7601048420471789.\n",
      "[I 2025-08-27 21:12:36,928] Trial 13 finished with value: 0.6784384052972824 and parameters: {'n_estimators': 136, 'learning_rate': 0.025872024067522318, 'max_depth': 6}. Best is trial 0 with value: 0.7601048420471789.\n",
      "[I 2025-08-27 21:17:16,715] Trial 14 finished with value: 0.6158090771140847 and parameters: {'n_estimators': 188, 'learning_rate': 0.000793170572900629, 'max_depth': 10}. Best is trial 0 with value: 0.7601048420471789.\n",
      "[I 2025-08-27 21:18:03,839] Trial 15 finished with value: 0.6726445026900262 and parameters: {'n_estimators': 121, 'learning_rate': 0.03232303271269997, 'max_depth': 5}. Best is trial 0 with value: 0.7601048420471789.\n",
      "[I 2025-08-27 21:19:04,973] Trial 16 finished with value: 0.7020278659125396 and parameters: {'n_estimators': 170, 'learning_rate': 0.03677340536840045, 'max_depth': 5}. Best is trial 0 with value: 0.7601048420471789.\n",
      "[I 2025-08-27 21:19:47,311] Trial 17 finished with value: 0.5599393019726859 and parameters: {'n_estimators': 54, 'learning_rate': 0.0009369849399510695, 'max_depth': 7}. Best is trial 0 with value: 0.7601048420471789.\n",
      "[I 2025-08-27 21:22:31,033] Trial 18 finished with value: 0.812387915574562 and parameters: {'n_estimators': 223, 'learning_rate': 0.0941413428574466, 'max_depth': 9}. Best is trial 18 with value: 0.812387915574562.\n",
      "[I 2025-08-27 21:27:13,287] Trial 19 finished with value: 0.6516760932542419 and parameters: {'n_estimators': 231, 'learning_rate': 0.005151897116862177, 'max_depth': 9}. Best is trial 18 with value: 0.812387915574562.\n",
      "[I 2025-08-27 21:31:33,584] Trial 20 finished with value: 0.7784522003034902 and parameters: {'n_estimators': 297, 'learning_rate': 0.03580538967405353, 'max_depth': 9}. Best is trial 18 with value: 0.812387915574562.\n",
      "[I 2025-08-27 21:35:43,767] Trial 21 finished with value: 0.789902055455925 and parameters: {'n_estimators': 299, 'learning_rate': 0.04314818181726302, 'max_depth': 9}. Best is trial 18 with value: 0.812387915574562.\n",
      "[I 2025-08-27 21:39:56,445] Trial 22 finished with value: 0.7795558008001103 and parameters: {'n_estimators': 291, 'learning_rate': 0.03738633494022439, 'max_depth': 9}. Best is trial 18 with value: 0.812387915574562.\n",
      "[I 2025-08-27 21:45:03,060] Trial 23 finished with value: 0.7369292316181543 and parameters: {'n_estimators': 299, 'learning_rate': 0.019484217930783514, 'max_depth': 9}. Best is trial 18 with value: 0.812387915574562.\n",
      "[I 2025-08-27 21:49:41,342] Trial 24 finished with value: 0.7845220030349014 and parameters: {'n_estimators': 267, 'learning_rate': 0.03977077348217261, 'max_depth': 10}. Best is trial 18 with value: 0.812387915574562.\n",
      "[I 2025-08-27 21:53:52,907] Trial 25 finished with value: 0.7921092564491654 and parameters: {'n_estimators': 251, 'learning_rate': 0.04849370399507691, 'max_depth': 10}. Best is trial 18 with value: 0.812387915574562.\n",
      "[I 2025-08-27 21:59:20,909] Trial 26 finished with value: 0.6898882604497172 and parameters: {'n_estimators': 221, 'learning_rate': 0.011165426068295353, 'max_depth': 10}. Best is trial 18 with value: 0.812387915574562.\n",
      "[I 2025-08-27 22:02:44,594] Trial 27 finished with value: 0.7867292040281418 and parameters: {'n_estimators': 241, 'learning_rate': 0.05123625976222758, 'max_depth': 9}. Best is trial 18 with value: 0.812387915574562.\n",
      "[I 2025-08-27 22:08:30,200] Trial 28 finished with value: 0.7268588770864947 and parameters: {'n_estimators': 264, 'learning_rate': 0.018197022738372964, 'max_depth': 10}. Best is trial 18 with value: 0.812387915574562.\n",
      "[I 2025-08-27 22:13:44,041] Trial 29 finished with value: 0.654297144433715 and parameters: {'n_estimators': 254, 'learning_rate': 0.00495244275241144, 'max_depth': 9}. Best is trial 18 with value: 0.812387915574562.\n"
     ]
    },
    {
     "name": "stdout",
     "output_type": "stream",
     "text": [
      "🏃 View run XGBoost_SMOTE_TFIDF_Trigrams at: https://dagshub.com/satyajeetrai007/Youtube-Comment-Sentiment-Analysis.mlflow/#/experiments/6/runs/91e79da879b54cae8b56cbf43aa975e8\n",
      "🧪 View experiment at: https://dagshub.com/satyajeetrai007/Youtube-Comment-Sentiment-Analysis.mlflow/#/experiments/6\n"
     ]
    }
   ],
   "source": [
    "# Step 1: Remap the class labels from [-1, 0, 1] to [2, 0, 1]\n",
    "df['category'] = df['category'].map({-1: 2, 0: 0, 1: 1})\n",
    "\n",
    "# Step 2: Remove rows where the target labels (category) are NaN\n",
    "df = df.dropna(subset=['category'])\n",
    "\n",
    "ngram_range = (1, 3)  # Trigram setting\n",
    "max_features = 2000  # Set max_features to 1000 for TF-IDF\n",
    "\n",
    "# Step 4: Train-test split before vectorization and resampling\n",
    "X_train, X_test, y_train, y_test = train_test_split(df['clean_comment'], df['category'], test_size=0.2, random_state=42, stratify=df['category'])\n",
    "\n",
    "# Step 2: Vectorization using TF-IDF, fit on training data only\n",
    "vectorizer = TfidfVectorizer(ngram_range=ngram_range, max_features=max_features)\n",
    "X_train_vec = vectorizer.fit_transform(X_train)  # Fit on training data\n",
    "X_test_vec = vectorizer.transform(X_test)  # Transform test data\n",
    "\n",
    "smote = SMOTE(random_state=42)\n",
    "X_train_vec, y_train = smote.fit_resample(X_train_vec, y_train)\n",
    "\n",
    "# Function to log results in MLflow\n",
    "def log_mlflow(model_name, model, X_train, X_test, y_train, y_test):\n",
    "    with mlflow.start_run():\n",
    "        # Log model type\n",
    "        mlflow.set_tag(\"mlflow.runName\", f\"{model_name}_SMOTE_TFIDF_Trigrams\")\n",
    "        mlflow.set_tag(\"experiment_type\", \"algorithm_comparison\")\n",
    "\n",
    "        # Log algorithm name as a parameter\n",
    "        mlflow.log_param(\"algo_name\", model_name)\n",
    "\n",
    "        # Train model\n",
    "        model.fit(X_train, y_train)\n",
    "        y_pred = model.predict(X_test)\n",
    "\n",
    "        # Log accuracy\n",
    "        accuracy = accuracy_score(y_test, y_pred)\n",
    "        mlflow.log_metric(\"accuracy\", accuracy)\n",
    "\n",
    "        # Log classification report\n",
    "        classification_rep = classification_report(y_test, y_pred, output_dict=True)\n",
    "        for label, metrics in classification_rep.items():\n",
    "            if isinstance(metrics, dict):\n",
    "                for metric, value in metrics.items():\n",
    "                    mlflow.log_metric(f\"{label}_{metric}\", value)\n",
    "\n",
    "        with open(f\"{model_name}_model\", \"wb\") as f:\n",
    "            pickle.dump(model, f)\n",
    "\n",
    "        with open(f\"{model_name}_model\", \"rb\") as f:\n",
    "            clf = pickle.load(f)\n",
    "\n",
    "        mlflow.log_artifact(f\"{model_name}_model\", \"model\")\n",
    "\n",
    "\n",
    "# Step 6: Optuna objective function for XGBoost\n",
    "def objective_xgboost(trial):\n",
    "    n_estimators = trial.suggest_int('n_estimators', 50, 300)\n",
    "    learning_rate = trial.suggest_float('learning_rate', 1e-4, 1e-1, log=True)\n",
    "    max_depth = trial.suggest_int('max_depth', 3, 10)\n",
    "\n",
    "    model = XGBClassifier(n_estimators=n_estimators, learning_rate=learning_rate, max_depth=max_depth, random_state=42)\n",
    "    return accuracy_score(y_test, model.fit(X_train_vec, y_train).predict(X_test_vec))\n",
    "\n",
    "\n",
    "# Step 7: Run Optuna for XGBoost, log the best model only\n",
    "def run_optuna_experiment():\n",
    "    study = optuna.create_study(direction=\"maximize\")\n",
    "    study.optimize(objective_xgboost, n_trials=30)\n",
    "\n",
    "    # Get the best parameters and log only the best model\n",
    "    best_params = study.best_params\n",
    "    best_model = XGBClassifier(n_estimators=best_params['n_estimators'], learning_rate=best_params['learning_rate'], max_depth=best_params['max_depth'], random_state=42)\n",
    "\n",
    "    # Log the best model with MLflow, passing the algo_name as \"xgboost\"\n",
    "    log_mlflow(\"XGBoost\", best_model, X_train_vec, X_test_vec, y_train, y_test)\n",
    "\n",
    "# Run the experiment for XGBoost\n",
    "run_optuna_experiment()"
   ]
  },
  {
   "cell_type": "code",
   "execution_count": null,
   "id": "532386ba",
   "metadata": {},
   "outputs": [],
   "source": []
  }
 ],
 "metadata": {
  "kernelspec": {
   "display_name": ".venv",
   "language": "python",
   "name": "python3"
  },
  "language_info": {
   "codemirror_mode": {
    "name": "ipython",
    "version": 3
   },
   "file_extension": ".py",
   "mimetype": "text/x-python",
   "name": "python",
   "nbconvert_exporter": "python",
   "pygments_lexer": "ipython3",
   "version": "3.11.3"
  }
 },
 "nbformat": 4,
 "nbformat_minor": 5
}
