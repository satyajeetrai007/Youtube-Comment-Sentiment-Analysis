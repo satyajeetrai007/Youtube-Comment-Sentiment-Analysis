{
 "cells": [
  {
   "cell_type": "code",
   "execution_count": 2,
   "id": "e2ce0982",
   "metadata": {},
   "outputs": [
    {
     "data": {
      "text/html": [
       "<pre style=\"white-space:pre;overflow-x:auto;line-height:normal;font-family:Menlo,'DejaVu Sans Mono',consolas,'Courier New',monospace\">Accessing as satyajeetrai007\n",
       "</pre>\n"
      ],
      "text/plain": [
       "Accessing as satyajeetrai007\n"
      ]
     },
     "metadata": {},
     "output_type": "display_data"
    },
    {
     "data": {
      "text/html": [
       "<pre style=\"white-space:pre;overflow-x:auto;line-height:normal;font-family:Menlo,'DejaVu Sans Mono',consolas,'Courier New',monospace\">Initialized MLflow to track repo <span style=\"color: #008000; text-decoration-color: #008000\">\"satyajeetrai007/Youtube-Comment-Sentiment-Analysis\"</span>\n",
       "</pre>\n"
      ],
      "text/plain": [
       "Initialized MLflow to track repo \u001b[32m\"satyajeetrai007/Youtube-Comment-Sentiment-Analysis\"\u001b[0m\n"
      ]
     },
     "metadata": {},
     "output_type": "display_data"
    },
    {
     "data": {
      "text/html": [
       "<pre style=\"white-space:pre;overflow-x:auto;line-height:normal;font-family:Menlo,'DejaVu Sans Mono',consolas,'Courier New',monospace\">Repository satyajeetrai007/Youtube-Comment-Sentiment-Analysis initialized!\n",
       "</pre>\n"
      ],
      "text/plain": [
       "Repository satyajeetrai007/Youtube-Comment-Sentiment-Analysis initialized!\n"
      ]
     },
     "metadata": {},
     "output_type": "display_data"
    },
    {
     "data": {
      "text/plain": [
       "(36243, 2)"
      ]
     },
     "execution_count": 2,
     "metadata": {},
     "output_type": "execute_result"
    }
   ],
   "source": [
    "import dagshub\n",
    "import pickle\n",
    "import optuna\n",
    "import mlflow\n",
    "import mlflow.sklearn\n",
    "from sklearn.model_selection import train_test_split\n",
    "from sklearn.metrics import accuracy_score, classification_report\n",
    "from sklearn.feature_extraction.text import TfidfVectorizer\n",
    "from sklearn.linear_model import LogisticRegression\n",
    "from sklearn.svm import SVC\n",
    "from xgboost import XGBClassifier\n",
    "from lightgbm import LGBMClassifier\n",
    "from sklearn.neighbors import KNeighborsClassifier\n",
    "from sklearn.naive_bayes import MultinomialNB\n",
    "from sklearn.ensemble import RandomForestClassifier\n",
    "from imblearn.over_sampling import SMOTE\n",
    "import matplotlib.pyplot as plt\n",
    "import seaborn as sns\n",
    "import pandas as pd\n",
    "\n",
    "dagshub.init(repo_owner='satyajeetrai007', repo_name='Youtube-Comment-Sentiment-Analysis', mlflow=True)\n",
    "mlflow.set_experiment(\"Algorithms with HyperParameter tuning\")\n",
    "\n",
    "df = pd.read_csv('data_preprocessed.csv').dropna().drop_duplicates()\n",
    "df.shape"
   ]
  },
  {
   "cell_type": "code",
   "execution_count": 3,
   "id": "b892e094",
   "metadata": {},
   "outputs": [
    {
     "name": "stderr",
     "output_type": "stream",
     "text": [
      "[I 2025-08-26 21:09:35,032] A new study created in memory with name: no-name-6c9ba282-4254-44bb-b60f-37ccbd97ba42\n",
      "[I 2025-08-26 21:10:47,690] Trial 0 finished with value: 0.5639398537729342 and parameters: {'n_estimators': 98, 'learning_rate': 0.00216448511263334, 'max_depth': 7}. Best is trial 0 with value: 0.5639398537729342.\n",
      "[I 2025-08-26 21:12:21,537] Trial 1 finished with value: 0.7316871292592082 and parameters: {'n_estimators': 112, 'learning_rate': 0.06166404402226733, 'max_depth': 7}. Best is trial 1 with value: 0.7316871292592082.\n",
      "[I 2025-08-26 21:17:13,551] Trial 2 finished with value: 0.5924955166229825 and parameters: {'n_estimators': 268, 'learning_rate': 0.0001199470405998528, 'max_depth': 9}. Best is trial 1 with value: 0.7316871292592082.\n",
      "[I 2025-08-26 21:19:24,781] Trial 3 finished with value: 0.6487791419506139 and parameters: {'n_estimators': 152, 'learning_rate': 0.009371008606765712, 'max_depth': 8}. Best is trial 1 with value: 0.7316871292592082.\n",
      "[I 2025-08-26 21:20:14,825] Trial 4 finished with value: 0.5599393019726859 and parameters: {'n_estimators': 76, 'learning_rate': 0.00032691175430456395, 'max_depth': 7}. Best is trial 1 with value: 0.7316871292592082.\n",
      "[I 2025-08-26 21:23:47,488] Trial 5 finished with value: 0.6032556214650296 and parameters: {'n_estimators': 168, 'learning_rate': 0.00011039989558695958, 'max_depth': 10}. Best is trial 1 with value: 0.7316871292592082.\n",
      "[I 2025-08-26 21:24:11,263] Trial 6 finished with value: 0.6897503103876397 and parameters: {'n_estimators': 75, 'learning_rate': 0.06834559180590054, 'max_depth': 5}. Best is trial 1 with value: 0.7316871292592082.\n",
      "[I 2025-08-26 21:24:30,443] Trial 7 finished with value: 0.5571803007311353 and parameters: {'n_estimators': 127, 'learning_rate': 0.005814138387927926, 'max_depth': 3}. Best is trial 1 with value: 0.7316871292592082.\n",
      "[I 2025-08-26 21:25:36,371] Trial 8 finished with value: 0.7798317009242655 and parameters: {'n_estimators': 192, 'learning_rate': 0.08299248043120971, 'max_depth': 6}. Best is trial 8 with value: 0.7798317009242655.\n",
      "[I 2025-08-26 21:28:14,465] Trial 9 finished with value: 0.6024279210925645 and parameters: {'n_estimators': 125, 'learning_rate': 0.0003531764472373058, 'max_depth': 10}. Best is trial 8 with value: 0.7798317009242655.\n",
      "[I 2025-08-26 21:29:26,265] Trial 10 finished with value: 0.6846461580907711 and parameters: {'n_estimators': 225, 'learning_rate': 0.02069392922215627, 'max_depth': 5}. Best is trial 8 with value: 0.7798317009242655.\n",
      "[I 2025-08-26 21:30:20,751] Trial 11 finished with value: 0.7536211891295351 and parameters: {'n_estimators': 204, 'learning_rate': 0.06464099286602863, 'max_depth': 5}. Best is trial 8 with value: 0.7798317009242655.\n",
      "[I 2025-08-26 21:31:15,775] Trial 12 finished with value: 0.7788660504897227 and parameters: {'n_estimators': 219, 'learning_rate': 0.08680632470702546, 'max_depth': 5}. Best is trial 8 with value: 0.7798317009242655.\n",
      "[I 2025-08-26 21:31:55,173] Trial 13 finished with value: 0.6660228997103048 and parameters: {'n_estimators': 293, 'learning_rate': 0.01909986015740586, 'max_depth': 3}. Best is trial 8 with value: 0.7798317009242655.\n",
      "[I 2025-08-26 21:32:33,426] Trial 14 finished with value: 0.772934197820389 and parameters: {'n_estimators': 220, 'learning_rate': 0.09857274041092269, 'max_depth': 4}. Best is trial 8 with value: 0.7798317009242655.\n",
      "[I 2025-08-26 21:34:30,834] Trial 15 finished with value: 0.5840805628362533 and parameters: {'n_estimators': 244, 'learning_rate': 0.0020778833981334893, 'max_depth': 6}. Best is trial 8 with value: 0.7798317009242655.\n",
      "[I 2025-08-26 21:35:54,858] Trial 16 finished with value: 0.6956821630569734 and parameters: {'n_estimators': 192, 'learning_rate': 0.02460453474322721, 'max_depth': 6}. Best is trial 8 with value: 0.7798317009242655.\n",
      "[I 2025-08-26 21:36:45,817] Trial 17 finished with value: 0.6994068147330667 and parameters: {'n_estimators': 253, 'learning_rate': 0.029808828693653002, 'max_depth': 4}. Best is trial 8 with value: 0.7798317009242655.\n",
      "[I 2025-08-26 21:39:05,449] Trial 18 finished with value: 0.6501586425713891 and parameters: {'n_estimators': 162, 'learning_rate': 0.008922561974525114, 'max_depth': 8}. Best is trial 8 with value: 0.7798317009242655.\n",
      "[I 2025-08-26 21:39:48,678] Trial 19 finished with value: 0.5446268450820803 and parameters: {'n_estimators': 189, 'learning_rate': 0.0011784974087544323, 'max_depth': 4}. Best is trial 8 with value: 0.7798317009242655.\n",
      "[I 2025-08-26 21:41:34,886] Trial 20 finished with value: 0.7692095461442958 and parameters: {'n_estimators': 297, 'learning_rate': 0.04639667062630803, 'max_depth': 6}. Best is trial 8 with value: 0.7798317009242655.\n",
      "[I 2025-08-26 21:42:12,483] Trial 21 finished with value: 0.7697613463926058 and parameters: {'n_estimators': 216, 'learning_rate': 0.09617033808315954, 'max_depth': 4}. Best is trial 8 with value: 0.7798317009242655.\n",
      "[I 2025-08-26 21:43:18,749] Trial 22 finished with value: 0.7265829769623396 and parameters: {'n_estimators': 234, 'learning_rate': 0.03858560375444459, 'max_depth': 5}. Best is trial 8 with value: 0.7798317009242655.\n",
      "[I 2025-08-26 21:44:05,777] Trial 23 finished with value: 0.7777624499931025 and parameters: {'n_estimators': 270, 'learning_rate': 0.08661062929046674, 'max_depth': 4}. Best is trial 8 with value: 0.7798317009242655.\n",
      "[I 2025-08-26 21:44:42,900] Trial 24 finished with value: 0.6356738860532487 and parameters: {'n_estimators': 266, 'learning_rate': 0.014330893808584846, 'max_depth': 3}. Best is trial 8 with value: 0.7798317009242655.\n",
      "[I 2025-08-26 21:46:28,786] Trial 25 finished with value: 0.7424472341012553 and parameters: {'n_estimators': 275, 'learning_rate': 0.03466703478050456, 'max_depth': 6}. Best is trial 8 with value: 0.7798317009242655.\n",
      "[I 2025-08-26 21:47:29,298] Trial 26 finished with value: 0.5971858187336184 and parameters: {'n_estimators': 180, 'learning_rate': 0.005139876669795491, 'max_depth': 5}. Best is trial 8 with value: 0.7798317009242655.\n",
      "[I 2025-08-26 21:47:56,247] Trial 27 finished with value: 0.74106773348048 and parameters: {'n_estimators': 145, 'learning_rate': 0.09902153043081509, 'max_depth': 4}. Best is trial 8 with value: 0.7798317009242655.\n",
      "[I 2025-08-26 21:50:02,598] Trial 28 finished with value: 0.7657607945923576 and parameters: {'n_estimators': 203, 'learning_rate': 0.048203887757662815, 'max_depth': 8}. Best is trial 8 with value: 0.7798317009242655.\n",
      "[I 2025-08-26 21:52:40,735] Trial 29 finished with value: 0.6118085253138363 and parameters: {'n_estimators': 248, 'learning_rate': 0.0027598592919756792, 'max_depth': 7}. Best is trial 8 with value: 0.7798317009242655.\n"
     ]
    },
    {
     "name": "stdout",
     "output_type": "stream",
     "text": [
      "🏃 View run XGBoost_SMOTE_TFIDF_Trigrams at: https://dagshub.com/satyajeetrai007/Youtube-Comment-Sentiment-Analysis.mlflow/#/experiments/6/runs/6071c57ede774b9b891cd47951f63594\n",
      "🧪 View experiment at: https://dagshub.com/satyajeetrai007/Youtube-Comment-Sentiment-Analysis.mlflow/#/experiments/6\n"
     ]
    }
   ],
   "source": [
    "# Step 1: Remap the class labels from [-1, 0, 1] to [2, 0, 1]\n",
    "df['category'] = df['category'].map({-1: 2, 0: 0, 1: 1})\n",
    "\n",
    "# Step 2: Remove rows where the target labels (category) are NaN\n",
    "df = df.dropna(subset=['category'])\n",
    "\n",
    "ngram_range = (1, 3)  # Trigram setting\n",
    "max_features = 2000  # Set max_features to 1000 for TF-IDF\n",
    "\n",
    "# Step 4: Train-test split before vectorization and resampling\n",
    "X_train, X_test, y_train, y_test = train_test_split(df['clean_comment'], df['category'], test_size=0.2, random_state=42, stratify=df['category'])\n",
    "\n",
    "# Step 2: Vectorization using TF-IDF, fit on training data only\n",
    "vectorizer = TfidfVectorizer(ngram_range=ngram_range, max_features=max_features)\n",
    "X_train_vec = vectorizer.fit_transform(X_train)  # Fit on training data\n",
    "X_test_vec = vectorizer.transform(X_test)  # Transform test data\n",
    "\n",
    "smote = SMOTE(random_state=42)\n",
    "X_train_vec, y_train = smote.fit_resample(X_train_vec, y_train)\n",
    "\n",
    "# Function to log results in MLflow\n",
    "def log_mlflow(model_name, model, X_train, X_test, y_train, y_test):\n",
    "    with mlflow.start_run():\n",
    "        # Log model type\n",
    "        mlflow.set_tag(\"mlflow.runName\", f\"{model_name}_SMOTE_TFIDF_Trigrams\")\n",
    "        mlflow.set_tag(\"experiment_type\", \"algorithm_comparison\")\n",
    "\n",
    "        # Log algorithm name as a parameter\n",
    "        mlflow.log_param(\"algo_name\", model_name)\n",
    "\n",
    "        # Train model\n",
    "        model.fit(X_train, y_train)\n",
    "        y_pred = model.predict(X_test)\n",
    "\n",
    "        # Log accuracy\n",
    "        accuracy = accuracy_score(y_test, y_pred)\n",
    "        mlflow.log_metric(\"accuracy\", accuracy)\n",
    "\n",
    "        # Log classification report\n",
    "        classification_rep = classification_report(y_test, y_pred, output_dict=True)\n",
    "        for label, metrics in classification_rep.items():\n",
    "            if isinstance(metrics, dict):\n",
    "                for metric, value in metrics.items():\n",
    "                    mlflow.log_metric(f\"{label}_{metric}\", value)\n",
    "\n",
    "        with open(f\"{model_name}_model\", \"wb\") as f:\n",
    "            pickle.dump(model, f)\n",
    "\n",
    "        with open(f\"{model_name}_model\", \"rb\") as f:\n",
    "            clf = pickle.load(f)\n",
    "\n",
    "        mlflow.log_artifact(f\"{model_name}_model\", \"model\")\n",
    "\n",
    "\n",
    "# Step 6: Optuna objective function for XGBoost\n",
    "def objective_xgboost(trial):\n",
    "    n_estimators = trial.suggest_int('n_estimators', 50, 300)\n",
    "    learning_rate = trial.suggest_float('learning_rate', 1e-4, 1e-1, log=True)\n",
    "    max_depth = trial.suggest_int('max_depth', 3, 10)\n",
    "\n",
    "    model = XGBClassifier(n_estimators=n_estimators, learning_rate=learning_rate, max_depth=max_depth, random_state=42)\n",
    "    return accuracy_score(y_test, model.fit(X_train_vec, y_train).predict(X_test_vec))\n",
    "\n",
    "\n",
    "# Step 7: Run Optuna for XGBoost, log the best model only\n",
    "def run_optuna_experiment():\n",
    "    study = optuna.create_study(direction=\"maximize\")\n",
    "    study.optimize(objective_xgboost, n_trials=30)\n",
    "\n",
    "    # Get the best parameters and log only the best model\n",
    "    best_params = study.best_params\n",
    "    best_model = XGBClassifier(n_estimators=best_params['n_estimators'], learning_rate=best_params['learning_rate'], max_depth=best_params['max_depth'], random_state=42)\n",
    "\n",
    "    # Log the best model with MLflow, passing the algo_name as \"xgboost\"\n",
    "    log_mlflow(\"XGBoost\", best_model, X_train_vec, X_test_vec, y_train, y_test)\n",
    "\n",
    "# Run the experiment for XGBoost\n",
    "run_optuna_experiment()"
   ]
  },
  {
   "cell_type": "code",
   "execution_count": null,
   "id": "532386ba",
   "metadata": {},
   "outputs": [],
   "source": []
  }
 ],
 "metadata": {
  "kernelspec": {
   "display_name": ".venv",
   "language": "python",
   "name": "python3"
  },
  "language_info": {
   "codemirror_mode": {
    "name": "ipython",
    "version": 3
   },
   "file_extension": ".py",
   "mimetype": "text/x-python",
   "name": "python",
   "nbconvert_exporter": "python",
   "pygments_lexer": "ipython3",
   "version": "3.11.3"
  }
 },
 "nbformat": 4,
 "nbformat_minor": 5
}
