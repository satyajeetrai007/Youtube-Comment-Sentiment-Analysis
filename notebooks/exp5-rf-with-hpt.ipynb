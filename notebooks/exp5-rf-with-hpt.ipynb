{
 "cells": [
  {
   "cell_type": "code",
   "execution_count": 2,
   "id": "9c29235b",
   "metadata": {},
   "outputs": [
    {
     "name": "stderr",
     "output_type": "stream",
     "text": [
      "c:\\Users\\satya\\OneDrive\\Desktop\\youtube-comment-senitment-analysis\\.venv\\Lib\\site-packages\\tqdm\\auto.py:21: TqdmWarning: IProgress not found. Please update jupyter and ipywidgets. See https://ipywidgets.readthedocs.io/en/stable/user_install.html\n",
      "  from .autonotebook import tqdm as notebook_tqdm\n"
     ]
    },
    {
     "data": {
      "text/html": [
       "<pre style=\"white-space:pre;overflow-x:auto;line-height:normal;font-family:Menlo,'DejaVu Sans Mono',consolas,'Courier New',monospace\">Accessing as satyajeetrai007\n",
       "</pre>\n"
      ],
      "text/plain": [
       "Accessing as satyajeetrai007\n"
      ]
     },
     "metadata": {},
     "output_type": "display_data"
    },
    {
     "data": {
      "text/html": [
       "<pre style=\"white-space:pre;overflow-x:auto;line-height:normal;font-family:Menlo,'DejaVu Sans Mono',consolas,'Courier New',monospace\">Initialized MLflow to track repo <span style=\"color: #008000; text-decoration-color: #008000\">\"satyajeetrai007/Youtube-Comment-Sentiment-Analysis\"</span>\n",
       "</pre>\n"
      ],
      "text/plain": [
       "Initialized MLflow to track repo \u001b[32m\"satyajeetrai007/Youtube-Comment-Sentiment-Analysis\"\u001b[0m\n"
      ]
     },
     "metadata": {},
     "output_type": "display_data"
    },
    {
     "data": {
      "text/html": [
       "<pre style=\"white-space:pre;overflow-x:auto;line-height:normal;font-family:Menlo,'DejaVu Sans Mono',consolas,'Courier New',monospace\">Repository satyajeetrai007/Youtube-Comment-Sentiment-Analysis initialized!\n",
       "</pre>\n"
      ],
      "text/plain": [
       "Repository satyajeetrai007/Youtube-Comment-Sentiment-Analysis initialized!\n"
      ]
     },
     "metadata": {},
     "output_type": "display_data"
    },
    {
     "data": {
      "text/plain": [
       "(36243, 2)"
      ]
     },
     "execution_count": 2,
     "metadata": {},
     "output_type": "execute_result"
    }
   ],
   "source": [
    "import pandas as pd\n",
    "from sklearn.feature_extraction.text import TfidfVectorizer\n",
    "from sklearn.model_selection import train_test_split\n",
    "from sklearn.ensemble import RandomForestClassifier\n",
    "from sklearn.metrics import accuracy_score, classification_report\n",
    "from imblearn.over_sampling import SMOTE\n",
    "import mlflow\n",
    "import mlflow.sklearn\n",
    "import optuna\n",
    "import dagshub\n",
    "import pickle\n",
    "\n",
    "dagshub.init(repo_owner='satyajeetrai007', repo_name='Youtube-Comment-Sentiment-Analysis', mlflow=True)\n",
    "mlflow.set_experiment(\"Algorithms with HyperParameter tuning\")\n",
    "\n",
    "df = pd.read_csv('data_preprocessed.csv').dropna().drop_duplicates()\n",
    "df.shape"
   ]
  },
  {
   "cell_type": "code",
   "execution_count": 3,
   "id": "e8b0692a",
   "metadata": {},
   "outputs": [
    {
     "name": "stderr",
     "output_type": "stream",
     "text": [
      "[I 2025-08-26 21:08:49,703] A new study created in memory with name: no-name-0e2558c5-1b4b-4800-8af9-ee7940342d77\n",
      "[I 2025-08-26 21:08:51,295] Trial 0 finished with value: 0.6590425531914894 and parameters: {'n_estimators': 91, 'max_depth': 10, 'min_samples_split': 20, 'min_samples_leaf': 9}. Best is trial 0 with value: 0.6590425531914894.\n",
      "[I 2025-08-26 21:08:53,532] Trial 1 finished with value: 0.6769148936170213 and parameters: {'n_estimators': 127, 'max_depth': 12, 'min_samples_split': 17, 'min_samples_leaf': 12}. Best is trial 1 with value: 0.6769148936170213.\n",
      "[I 2025-08-26 21:08:56,374] Trial 2 finished with value: 0.6678723404255319 and parameters: {'n_estimators': 157, 'max_depth': 10, 'min_samples_split': 4, 'min_samples_leaf': 5}. Best is trial 1 with value: 0.6769148936170213.\n",
      "[I 2025-08-26 21:09:00,759] Trial 3 finished with value: 0.7012765957446808 and parameters: {'n_estimators': 162, 'max_depth': 20, 'min_samples_split': 5, 'min_samples_leaf': 12}. Best is trial 3 with value: 0.7012765957446808.\n",
      "[I 2025-08-26 21:09:07,380] Trial 4 finished with value: 0.6917021276595745 and parameters: {'n_estimators': 297, 'max_depth': 16, 'min_samples_split': 2, 'min_samples_leaf': 13}. Best is trial 3 with value: 0.7012765957446808.\n",
      "[I 2025-08-26 21:09:11,141] Trial 5 finished with value: 0.6853191489361702 and parameters: {'n_estimators': 158, 'max_depth': 13, 'min_samples_split': 9, 'min_samples_leaf': 4}. Best is trial 3 with value: 0.7012765957446808.\n",
      "[I 2025-08-26 21:09:15,681] Trial 6 finished with value: 0.7020212765957446 and parameters: {'n_estimators': 168, 'max_depth': 19, 'min_samples_split': 19, 'min_samples_leaf': 11}. Best is trial 6 with value: 0.7020212765957446.\n",
      "[I 2025-08-26 21:09:21,393] Trial 7 finished with value: 0.7218085106382979 and parameters: {'n_estimators': 138, 'max_depth': 20, 'min_samples_split': 19, 'min_samples_leaf': 1}. Best is trial 7 with value: 0.7218085106382979.\n",
      "[I 2025-08-26 21:09:26,249] Trial 8 finished with value: 0.7061702127659575 and parameters: {'n_estimators': 135, 'max_depth': 18, 'min_samples_split': 9, 'min_samples_leaf': 3}. Best is trial 7 with value: 0.7218085106382979.\n",
      "[I 2025-08-26 21:09:29,117] Trial 9 finished with value: 0.6802127659574468 and parameters: {'n_estimators': 91, 'max_depth': 14, 'min_samples_split': 19, 'min_samples_leaf': 6}. Best is trial 7 with value: 0.7218085106382979.\n",
      "[I 2025-08-26 21:09:31,408] Trial 10 finished with value: 0.6264893617021277 and parameters: {'n_estimators': 236, 'max_depth': 4, 'min_samples_split': 14, 'min_samples_leaf': 20}. Best is trial 7 with value: 0.7218085106382979.\n",
      "[I 2025-08-26 21:09:46,957] Trial 11 finished with value: 0.7067021276595745 and parameters: {'n_estimators': 224, 'max_depth': 17, 'min_samples_split': 10, 'min_samples_leaf': 1}. Best is trial 7 with value: 0.7218085106382979.\n",
      "[I 2025-08-26 21:10:00,856] Trial 12 finished with value: 0.7038297872340425 and parameters: {'n_estimators': 207, 'max_depth': 16, 'min_samples_split': 13, 'min_samples_leaf': 1}. Best is trial 7 with value: 0.7218085106382979.\n",
      "[I 2025-08-26 21:10:16,899] Trial 13 finished with value: 0.7032978723404255 and parameters: {'n_estimators': 231, 'max_depth': 17, 'min_samples_split': 10, 'min_samples_leaf': 2}. Best is trial 7 with value: 0.7218085106382979.\n",
      "[I 2025-08-26 21:10:20,509] Trial 14 finished with value: 0.694468085106383 and parameters: {'n_estimators': 56, 'max_depth': 20, 'min_samples_split': 15, 'min_samples_leaf': 8}. Best is trial 7 with value: 0.7218085106382979.\n",
      "[I 2025-08-26 21:10:27,150] Trial 15 finished with value: 0.6527659574468085 and parameters: {'n_estimators': 270, 'max_depth': 7, 'min_samples_split': 12, 'min_samples_leaf': 19}. Best is trial 7 with value: 0.7218085106382979.\n",
      "[I 2025-08-26 21:10:35,402] Trial 16 finished with value: 0.6867021276595745 and parameters: {'n_estimators': 201, 'max_depth': 15, 'min_samples_split': 16, 'min_samples_leaf': 16}. Best is trial 7 with value: 0.7218085106382979.\n",
      "[I 2025-08-26 21:10:54,835] Trial 17 finished with value: 0.7125531914893617 and parameters: {'n_estimators': 209, 'max_depth': 18, 'min_samples_split': 7, 'min_samples_leaf': 1}. Best is trial 7 with value: 0.7218085106382979.\n",
      "[I 2025-08-26 21:11:12,321] Trial 18 finished with value: 0.7093617021276596 and parameters: {'n_estimators': 189, 'max_depth': 20, 'min_samples_split': 7, 'min_samples_leaf': 7}. Best is trial 7 with value: 0.7218085106382979.\n",
      "[I 2025-08-26 21:11:28,257] Trial 19 finished with value: 0.7045744680851064 and parameters: {'n_estimators': 120, 'max_depth': 18, 'min_samples_split': 7, 'min_samples_leaf': 4}. Best is trial 7 with value: 0.7218085106382979.\n",
      "[I 2025-08-26 21:11:40,506] Trial 20 finished with value: 0.6558510638297872 and parameters: {'n_estimators': 265, 'max_depth': 7, 'min_samples_split': 7, 'min_samples_leaf': 9}. Best is trial 7 with value: 0.7218085106382979.\n",
      "[I 2025-08-26 21:12:02,491] Trial 21 finished with value: 0.7092553191489361 and parameters: {'n_estimators': 193, 'max_depth': 20, 'min_samples_split': 7, 'min_samples_leaf': 7}. Best is trial 7 with value: 0.7218085106382979.\n",
      "[I 2025-08-26 21:12:18,183] Trial 22 finished with value: 0.7044680851063829 and parameters: {'n_estimators': 189, 'max_depth': 18, 'min_samples_split': 5, 'min_samples_leaf': 3}. Best is trial 7 with value: 0.7218085106382979.\n",
      "[I 2025-08-26 21:12:27,506] Trial 23 finished with value: 0.7087234042553191 and parameters: {'n_estimators': 141, 'max_depth': 20, 'min_samples_split': 3, 'min_samples_leaf': 6}. Best is trial 7 with value: 0.7218085106382979.\n",
      "[I 2025-08-26 21:12:38,817] Trial 24 finished with value: 0.6986170212765958 and parameters: {'n_estimators': 180, 'max_depth': 15, 'min_samples_split': 6, 'min_samples_leaf': 2}. Best is trial 7 with value: 0.7218085106382979.\n",
      "[I 2025-08-26 21:12:47,841] Trial 25 finished with value: 0.7079787234042553 and parameters: {'n_estimators': 111, 'max_depth': 18, 'min_samples_split': 8, 'min_samples_leaf': 1}. Best is trial 7 with value: 0.7218085106382979.\n",
      "[I 2025-08-26 21:13:00,063] Trial 26 finished with value: 0.6946808510638298 and parameters: {'n_estimators': 213, 'max_depth': 16, 'min_samples_split': 12, 'min_samples_leaf': 5}. Best is trial 7 with value: 0.7218085106382979.\n",
      "[I 2025-08-26 21:13:12,775] Trial 27 finished with value: 0.6991489361702128 and parameters: {'n_estimators': 255, 'max_depth': 19, 'min_samples_split': 10, 'min_samples_leaf': 16}. Best is trial 7 with value: 0.7218085106382979.\n",
      "[I 2025-08-26 21:13:20,177] Trial 28 finished with value: 0.7091489361702128 and parameters: {'n_estimators': 99, 'max_depth': 19, 'min_samples_split': 17, 'min_samples_leaf': 3}. Best is trial 7 with value: 0.7218085106382979.\n",
      "[I 2025-08-26 21:13:22,373] Trial 29 finished with value: 0.6503191489361703 and parameters: {'n_estimators': 66, 'max_depth': 9, 'min_samples_split': 20, 'min_samples_leaf': 9}. Best is trial 7 with value: 0.7218085106382979.\n"
     ]
    },
    {
     "name": "stdout",
     "output_type": "stream",
     "text": [
      "🏃 View run RandomForest_SMOTE_TFIDF_Trigrams at: https://dagshub.com/satyajeetrai007/Youtube-Comment-Sentiment-Analysis.mlflow/#/experiments/6/runs/d15552d95b3243f4b8d36b2395688d80\n",
      "🧪 View experiment at: https://dagshub.com/satyajeetrai007/Youtube-Comment-Sentiment-Analysis.mlflow/#/experiments/6\n"
     ]
    }
   ],
   "source": [
    "# Step 1: (Optional) Remapping - skipped since not strictly needed for Random Forest\n",
    "\n",
    "# Step 2: Remove rows where the target labels (category) are NaN\n",
    "df = df.dropna(subset=['category'])\n",
    "\n",
    "# Step 3: TF-IDF vectorizer setup\n",
    "ngram_range = (1, 3)  # Trigram\n",
    "max_features = 2000  # Set max_features to 1000\n",
    "vectorizer = TfidfVectorizer(ngram_range=ngram_range, max_features=max_features)\n",
    "X = vectorizer.fit_transform(df['clean_comment'])\n",
    "y = df['category']\n",
    "\n",
    "# Step 4: Apply SMOTE to handle class imbalance\n",
    "smote = SMOTE(random_state=42)\n",
    "X_resampled, y_resampled = smote.fit_resample(X, y)\n",
    "\n",
    "# Step 5: Train-test split\n",
    "X_train, X_test, y_train, y_test = train_test_split(X_resampled, y_resampled, test_size=0.2, random_state=42, stratify=y_resampled)\n",
    "\n",
    "# Function to log results in MLflow\n",
    "def log_mlflow(model_name, model, X_train, X_test, y_train, y_test):\n",
    "    with mlflow.start_run():\n",
    "        # Log model type\n",
    "        mlflow.set_tag(\"mlflow.runName\", f\"{model_name}_SMOTE_TFIDF_Trigrams\")\n",
    "        mlflow.set_tag(\"experiment_type\", \"algorithm_comparison\")\n",
    "\n",
    "        # Log algorithm name as a parameter\n",
    "        mlflow.log_param(\"algo_name\", model_name)\n",
    "\n",
    "        # Train model\n",
    "        model.fit(X_train, y_train)\n",
    "        y_pred = model.predict(X_test)\n",
    "\n",
    "        # Log accuracy\n",
    "        accuracy = accuracy_score(y_test, y_pred)\n",
    "        mlflow.log_metric(\"accuracy\", accuracy)\n",
    "\n",
    "        # Log classification report\n",
    "        classification_rep = classification_report(y_test, y_pred, output_dict=True)\n",
    "        for label, metrics in classification_rep.items():\n",
    "            if isinstance(metrics, dict):\n",
    "                for metric, value in metrics.items():\n",
    "                    mlflow.log_metric(f\"{label}_{metric}\", value)\n",
    "\n",
    "        with open(f\"{model_name}_model\", \"wb\") as f:\n",
    "            pickle.dump(model, f)\n",
    "\n",
    "        with open(f\"{model_name}_model\", \"rb\") as f:\n",
    "            clf = pickle.load(f)\n",
    "\n",
    "        mlflow.log_artifact(f\"{model_name}_model\", \"model\")\n",
    "\n",
    "\n",
    "# Step 6: Optuna objective function for Random Forest\n",
    "def objective_rf(trial):\n",
    "    n_estimators = trial.suggest_int('n_estimators', 50, 300)  # Number of trees in the forest\n",
    "    max_depth = trial.suggest_int('max_depth', 3, 20)  # Maximum depth of the tree\n",
    "    min_samples_split = trial.suggest_int('min_samples_split', 2, 20)  # Minimum samples required to split a node\n",
    "    min_samples_leaf = trial.suggest_int('min_samples_leaf', 1, 20)  # Minimum samples required at a leaf node\n",
    "\n",
    "    # RandomForestClassifier setup\n",
    "    model = RandomForestClassifier(n_estimators=n_estimators, max_depth=max_depth,\n",
    "                                   min_samples_split=min_samples_split, min_samples_leaf=min_samples_leaf,\n",
    "                                   random_state=42)\n",
    "    return accuracy_score(y_test, model.fit(X_train, y_train).predict(X_test))\n",
    "\n",
    "\n",
    "# Step 7: Run Optuna for Random Forest, log the best model only\n",
    "def run_optuna_experiment():\n",
    "    study = optuna.create_study(direction=\"maximize\")\n",
    "    study.optimize(objective_rf, n_trials=30)\n",
    "\n",
    "    # Get the best parameters and log only the best model\n",
    "    best_params = study.best_params\n",
    "    best_model = RandomForestClassifier(n_estimators=best_params['n_estimators'],\n",
    "                                        max_depth=best_params['max_depth'],\n",
    "                                        min_samples_split=best_params['min_samples_split'],\n",
    "                                        min_samples_leaf=best_params['min_samples_leaf'],\n",
    "                                        random_state=42)\n",
    "\n",
    "    # Log the best model with MLflow, passing the algo_name as \"RandomForest\"\n",
    "    log_mlflow(\"RandomForest\", best_model, X_train, X_test, y_train, y_test)\n",
    "\n",
    "# Run the experiment for Random Forest\n",
    "run_optuna_experiment()"
   ]
  },
  {
   "cell_type": "code",
   "execution_count": null,
   "id": "6b5422aa",
   "metadata": {},
   "outputs": [],
   "source": []
  }
 ],
 "metadata": {
  "kernelspec": {
   "display_name": ".venv",
   "language": "python",
   "name": "python3"
  },
  "language_info": {
   "codemirror_mode": {
    "name": "ipython",
    "version": 3
   },
   "file_extension": ".py",
   "mimetype": "text/x-python",
   "name": "python",
   "nbconvert_exporter": "python",
   "pygments_lexer": "ipython3",
   "version": "3.11.3"
  }
 },
 "nbformat": 4,
 "nbformat_minor": 5
}
