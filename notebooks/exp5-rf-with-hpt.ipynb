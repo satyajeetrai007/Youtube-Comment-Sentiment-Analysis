{
 "cells": [
  {
   "cell_type": "code",
   "execution_count": 1,
   "id": "9c29235b",
   "metadata": {},
   "outputs": [
    {
     "name": "stderr",
     "output_type": "stream",
     "text": [
      "c:\\Users\\satya\\OneDrive\\Desktop\\youtube-comment-senitment-analysis\\.venv\\Lib\\site-packages\\tqdm\\auto.py:21: TqdmWarning: IProgress not found. Please update jupyter and ipywidgets. See https://ipywidgets.readthedocs.io/en/stable/user_install.html\n",
      "  from .autonotebook import tqdm as notebook_tqdm\n"
     ]
    },
    {
     "data": {
      "text/html": [
       "<pre style=\"white-space:pre;overflow-x:auto;line-height:normal;font-family:Menlo,'DejaVu Sans Mono',consolas,'Courier New',monospace\">Accessing as satyajeetrai007\n",
       "</pre>\n"
      ],
      "text/plain": [
       "Accessing as satyajeetrai007\n"
      ]
     },
     "metadata": {},
     "output_type": "display_data"
    },
    {
     "data": {
      "text/html": [
       "<pre style=\"white-space:pre;overflow-x:auto;line-height:normal;font-family:Menlo,'DejaVu Sans Mono',consolas,'Courier New',monospace\">Initialized MLflow to track repo <span style=\"color: #008000; text-decoration-color: #008000\">\"satyajeetrai007/Youtube-Comment-Sentiment-Analysis\"</span>\n",
       "</pre>\n"
      ],
      "text/plain": [
       "Initialized MLflow to track repo \u001b[32m\"satyajeetrai007/Youtube-Comment-Sentiment-Analysis\"\u001b[0m\n"
      ]
     },
     "metadata": {},
     "output_type": "display_data"
    },
    {
     "data": {
      "text/html": [
       "<pre style=\"white-space:pre;overflow-x:auto;line-height:normal;font-family:Menlo,'DejaVu Sans Mono',consolas,'Courier New',monospace\">Repository satyajeetrai007/Youtube-Comment-Sentiment-Analysis initialized!\n",
       "</pre>\n"
      ],
      "text/plain": [
       "Repository satyajeetrai007/Youtube-Comment-Sentiment-Analysis initialized!\n"
      ]
     },
     "metadata": {},
     "output_type": "display_data"
    },
    {
     "data": {
      "text/plain": [
       "(36243, 2)"
      ]
     },
     "execution_count": 1,
     "metadata": {},
     "output_type": "execute_result"
    }
   ],
   "source": [
    "import pandas as pd\n",
    "from sklearn.feature_extraction.text import TfidfVectorizer\n",
    "from sklearn.model_selection import train_test_split\n",
    "from sklearn.ensemble import RandomForestClassifier\n",
    "from sklearn.metrics import accuracy_score, classification_report\n",
    "from imblearn.over_sampling import SMOTE\n",
    "import mlflow\n",
    "import mlflow.sklearn\n",
    "import optuna\n",
    "import dagshub\n",
    "import pickle\n",
    "\n",
    "dagshub.init(repo_owner='satyajeetrai007', repo_name='Youtube-Comment-Sentiment-Analysis', mlflow=True)\n",
    "mlflow.set_experiment(\"Algorithms with HyperParameter tuning\")\n",
    "\n",
    "df = pd.read_csv('data_preprocessed.csv').dropna().drop_duplicates()\n",
    "df.shape"
   ]
  },
  {
   "cell_type": "code",
   "execution_count": 2,
   "id": "e8b0692a",
   "metadata": {},
   "outputs": [
    {
     "name": "stderr",
     "output_type": "stream",
     "text": [
      "[I 2025-08-27 20:24:38,961] A new study created in memory with name: no-name-ace1a21b-3f3e-4646-9485-95928e486d46\n",
      "[I 2025-08-27 20:24:53,158] Trial 0 finished with value: 0.6842323079045386 and parameters: {'n_estimators': 150, 'max_depth': 14, 'min_samples_split': 4, 'min_samples_leaf': 4}. Best is trial 0 with value: 0.6842323079045386.\n",
      "[I 2025-08-27 20:24:59,251] Trial 1 finished with value: 0.6702993516347082 and parameters: {'n_estimators': 54, 'max_depth': 14, 'min_samples_split': 2, 'min_samples_leaf': 17}. Best is trial 0 with value: 0.6842323079045386.\n",
      "[I 2025-08-27 20:25:05,108] Trial 2 finished with value: 0.624775831149124 and parameters: {'n_estimators': 59, 'max_depth': 6, 'min_samples_split': 9, 'min_samples_leaf': 8}. Best is trial 0 with value: 0.6842323079045386.\n",
      "[I 2025-08-27 20:25:14,474] Trial 3 finished with value: 0.6865774589598566 and parameters: {'n_estimators': 79, 'max_depth': 16, 'min_samples_split': 20, 'min_samples_leaf': 1}. Best is trial 3 with value: 0.6865774589598566.\n",
      "[I 2025-08-27 20:25:24,108] Trial 4 finished with value: 0.6896123603255622 and parameters: {'n_estimators': 73, 'max_depth': 19, 'min_samples_split': 16, 'min_samples_leaf': 10}. Best is trial 4 with value: 0.6896123603255622.\n",
      "[I 2025-08-27 20:25:43,265] Trial 5 finished with value: 0.6799558559801352 and parameters: {'n_estimators': 148, 'max_depth': 15, 'min_samples_split': 17, 'min_samples_leaf': 12}. Best is trial 4 with value: 0.6896123603255622.\n",
      "[I 2025-08-27 20:25:53,684] Trial 6 finished with value: 0.6403641881638846 and parameters: {'n_estimators': 226, 'max_depth': 6, 'min_samples_split': 13, 'min_samples_leaf': 6}. Best is trial 4 with value: 0.6896123603255622.\n",
      "[I 2025-08-27 20:26:10,006] Trial 7 finished with value: 0.69140571113257 and parameters: {'n_estimators': 233, 'max_depth': 20, 'min_samples_split': 2, 'min_samples_leaf': 18}. Best is trial 7 with value: 0.69140571113257.\n",
      "[I 2025-08-27 20:26:32,258] Trial 8 finished with value: 0.6869913091460891 and parameters: {'n_estimators': 292, 'max_depth': 16, 'min_samples_split': 17, 'min_samples_leaf': 7}. Best is trial 7 with value: 0.69140571113257.\n",
      "[I 2025-08-27 20:26:50,420] Trial 9 finished with value: 0.6867154090219341 and parameters: {'n_estimators': 247, 'max_depth': 16, 'min_samples_split': 16, 'min_samples_leaf': 17}. Best is trial 7 with value: 0.69140571113257.\n",
      "[I 2025-08-27 20:27:00,370] Trial 10 finished with value: 0.6640915988412195 and parameters: {'n_estimators': 212, 'max_depth': 10, 'min_samples_split': 7, 'min_samples_leaf': 20}. Best is trial 7 with value: 0.69140571113257.\n",
      "[I 2025-08-27 20:27:11,262] Trial 11 finished with value: 0.689060560077252 and parameters: {'n_estimators': 119, 'max_depth': 20, 'min_samples_split': 12, 'min_samples_leaf': 12}. Best is trial 7 with value: 0.69140571113257.\n",
      "[I 2025-08-27 20:27:27,850] Trial 12 finished with value: 0.6929231618154228 and parameters: {'n_estimators': 194, 'max_depth': 20, 'min_samples_split': 7, 'min_samples_leaf': 14}. Best is trial 12 with value: 0.6929231618154228.\n",
      "[I 2025-08-27 20:27:52,279] Trial 13 finished with value: 0.6945785625603531 and parameters: {'n_estimators': 204, 'max_depth': 20, 'min_samples_split': 6, 'min_samples_leaf': 15}. Best is trial 13 with value: 0.6945785625603531.\n",
      "[I 2025-08-27 20:28:06,101] Trial 14 finished with value: 0.6742999034349565 and parameters: {'n_estimators': 189, 'max_depth': 11, 'min_samples_split': 6, 'min_samples_leaf': 14}. Best is trial 13 with value: 0.6945785625603531.\n",
      "[I 2025-08-27 20:28:14,452] Trial 15 finished with value: 0.6239481307766589 and parameters: {'n_estimators': 271, 'max_depth': 3, 'min_samples_split': 9, 'min_samples_leaf': 14}. Best is trial 13 with value: 0.6945785625603531.\n",
      "[I 2025-08-27 20:28:37,391] Trial 16 finished with value: 0.6944406124982756 and parameters: {'n_estimators': 184, 'max_depth': 18, 'min_samples_split': 6, 'min_samples_leaf': 15}. Best is trial 13 with value: 0.6945785625603531.\n",
      "[I 2025-08-27 20:28:52,605] Trial 17 finished with value: 0.6929231618154228 and parameters: {'n_estimators': 159, 'max_depth': 18, 'min_samples_split': 5, 'min_samples_leaf': 20}. Best is trial 13 with value: 0.6945785625603531.\n",
      "[I 2025-08-27 20:29:06,269] Trial 18 finished with value: 0.691129811008415 and parameters: {'n_estimators': 118, 'max_depth': 18, 'min_samples_split': 10, 'min_samples_leaf': 16}. Best is trial 13 with value: 0.6945785625603531.\n",
      "[I 2025-08-27 20:29:57,776] Trial 19 finished with value: 0.6816112567250655 and parameters: {'n_estimators': 174, 'max_depth': 13, 'min_samples_split': 4, 'min_samples_leaf': 10}. Best is trial 13 with value: 0.6945785625603531.\n",
      "[I 2025-08-27 20:30:53,041] Trial 20 finished with value: 0.6929231618154228 and parameters: {'n_estimators': 257, 'max_depth': 18, 'min_samples_split': 8, 'min_samples_leaf': 15}. Best is trial 13 with value: 0.6945785625603531.\n",
      "[I 2025-08-27 20:31:33,460] Trial 21 finished with value: 0.6938888122499655 and parameters: {'n_estimators': 201, 'max_depth': 20, 'min_samples_split': 7, 'min_samples_leaf': 13}. Best is trial 13 with value: 0.6945785625603531.\n",
      "[I 2025-08-27 20:32:10,894] Trial 22 finished with value: 0.6880949096427094 and parameters: {'n_estimators': 202, 'max_depth': 17, 'min_samples_split': 5, 'min_samples_leaf': 12}. Best is trial 13 with value: 0.6945785625603531.\n",
      "[I 2025-08-27 20:32:43,232] Trial 23 finished with value: 0.6955442129948959 and parameters: {'n_estimators': 174, 'max_depth': 20, 'min_samples_split': 12, 'min_samples_leaf': 18}. Best is trial 23 with value: 0.6955442129948959.\n",
      "[I 2025-08-27 20:33:03,659] Trial 24 finished with value: 0.6909918609463375 and parameters: {'n_estimators': 125, 'max_depth': 18, 'min_samples_split': 13, 'min_samples_leaf': 18}. Best is trial 23 with value: 0.6955442129948959.\n",
      "[I 2025-08-27 20:33:26,525] Trial 25 finished with value: 0.6776107049248172 and parameters: {'n_estimators': 171, 'max_depth': 12, 'min_samples_split': 11, 'min_samples_leaf': 19}. Best is trial 23 with value: 0.6955442129948959.\n",
      "[I 2025-08-27 20:33:47,009] Trial 26 finished with value: 0.6559525451786453 and parameters: {'n_estimators': 220, 'max_depth': 9, 'min_samples_split': 14, 'min_samples_leaf': 16}. Best is trial 23 with value: 0.6955442129948959.\n",
      "[I 2025-08-27 20:34:12,178] Trial 27 finished with value: 0.6879569595806319 and parameters: {'n_estimators': 144, 'max_depth': 19, 'min_samples_split': 10, 'min_samples_leaf': 16}. Best is trial 23 with value: 0.6955442129948959.\n",
      "[I 2025-08-27 20:34:45,876] Trial 28 finished with value: 0.6854738584632363 and parameters: {'n_estimators': 181, 'max_depth': 17, 'min_samples_split': 3, 'min_samples_leaf': 18}. Best is trial 23 with value: 0.6955442129948959.\n",
      "[I 2025-08-27 20:35:05,768] Trial 29 finished with value: 0.6843702579666161 and parameters: {'n_estimators': 133, 'max_depth': 15, 'min_samples_split': 4, 'min_samples_leaf': 9}. Best is trial 23 with value: 0.6955442129948959.\n"
     ]
    },
    {
     "name": "stdout",
     "output_type": "stream",
     "text": [
      "🏃 View run RandomForest_SMOTE_TFIDF_Trigrams_Corrected at: https://dagshub.com/satyajeetrai007/Youtube-Comment-Sentiment-Analysis.mlflow/#/experiments/6/runs/c507e5d5955440c48e9cacba043218c3\n",
      "🧪 View experiment at: https://dagshub.com/satyajeetrai007/Youtube-Comment-Sentiment-Analysis.mlflow/#/experiments/6\n"
     ]
    }
   ],
   "source": [
    "\n",
    "# Step 1: Clean and isolate features and target\n",
    "df = df.dropna(subset=['category'])\n",
    "X = df['clean_comment']\n",
    "y = df['category']\n",
    "\n",
    "# Step 2: Perform the train-test split FIRST to prevent data leakage 🛡️\n",
    "# 'stratify=y' keeps the same percentage of classes in train and test sets.\n",
    "X_train_text, X_test_text, y_train, y_test = train_test_split(X, y, test_size=0.2, random_state=42, stratify=y)\n",
    "\n",
    "# Step 3: Fit the TF-IDF vectorizer ONLY on the training data\n",
    "vectorizer = TfidfVectorizer(ngram_range=(1, 3), max_features=2000)\n",
    "X_train_vec = vectorizer.fit_transform(X_train_text)\n",
    "\n",
    "# Use the already-fitted vectorizer to transform the unseen test data\n",
    "X_test_vec = vectorizer.transform(X_test_text)\n",
    "\n",
    "# Step 4: Apply SMOTE to the TRAINING data ONLY to handle class imbalance\n",
    "smote = SMOTE(random_state=42)\n",
    "X_train_resampled, y_train_resampled = smote.fit_resample(X_train_vec, y_train)\n",
    "\n",
    "# The test data (X_test_vec, y_test) remains untouched for a valid evaluation.\n",
    "\n",
    "# --- MLflow and Optuna Functions (no changes needed) ---\n",
    "\n",
    "def log_mlflow(model_name, model, X_train, X_test, y_train, y_test):\n",
    "    with mlflow.start_run():\n",
    "        mlflow.set_tag(\"mlflow.runName\", f\"{model_name}_SMOTE_TFIDF_Trigrams_Corrected\")\n",
    "        mlflow.set_tag(\"experiment_type\", \"algorithm_comparison\")\n",
    "        mlflow.log_param(\"algo_name\", model_name)\n",
    "\n",
    "        model.fit(X_train, y_train)\n",
    "        y_pred = model.predict(X_test)\n",
    "\n",
    "        accuracy = accuracy_score(y_test, y_pred)\n",
    "        mlflow.log_metric(\"accuracy\", accuracy)\n",
    "\n",
    "        classification_rep = classification_report(y_test, y_pred, output_dict=True)\n",
    "        for label, metrics in classification_rep.items():\n",
    "            if isinstance(metrics, dict):\n",
    "                for metric, value in metrics.items():\n",
    "                    mlflow.log_metric(f\"{label}_{metric}\", value)\n",
    "\n",
    "        model_filename = f\"{model_name}_model.pkl\"\n",
    "        with open(model_filename, \"wb\") as f:\n",
    "            pickle.dump(model, f)\n",
    "        mlflow.log_artifact(model_filename, \"model\")\n",
    "\n",
    "# Step 5: Optuna objective function for Random Forest\n",
    "def objective_rf(trial):\n",
    "    n_estimators = trial.suggest_int('n_estimators', 50, 300)\n",
    "    max_depth = trial.suggest_int('max_depth', 3, 20)\n",
    "    min_samples_split = trial.suggest_int('min_samples_split', 2, 20)\n",
    "    min_samples_leaf = trial.suggest_int('min_samples_leaf', 1, 20)\n",
    "\n",
    "    model = RandomForestClassifier(\n",
    "        n_estimators=n_estimators,\n",
    "        max_depth=max_depth,\n",
    "        min_samples_split=min_samples_split,\n",
    "        min_samples_leaf=min_samples_leaf,\n",
    "        random_state=42\n",
    "    )\n",
    "    # Train on the resampled training data\n",
    "    model.fit(X_train_resampled, y_train_resampled)\n",
    "    \n",
    "    # Evaluate on the original, untouched test data\n",
    "    y_pred = model.predict(X_test_vec)\n",
    "    return accuracy_score(y_test, y_pred)\n",
    "\n",
    "# Step 6: Run Optuna for Random Forest\n",
    "def run_optuna_experiment():\n",
    "    study = optuna.create_study(direction=\"maximize\")\n",
    "    study.optimize(objective_rf, n_trials=30)\n",
    "\n",
    "    best_params = study.best_params\n",
    "    best_model = RandomForestClassifier(**best_params, random_state=42)\n",
    "    \n",
    "    # Log the best model using the correctly processed datasets\n",
    "    log_mlflow(\"RandomForest\", best_model, X_train_resampled, X_test_vec, y_train_resampled, y_test)\n",
    "\n",
    "# Run the experiment\n",
    "run_optuna_experiment()"
   ]
  },
  {
   "cell_type": "code",
   "execution_count": null,
   "id": "6b5422aa",
   "metadata": {},
   "outputs": [],
   "source": []
  }
 ],
 "metadata": {
  "kernelspec": {
   "display_name": ".venv",
   "language": "python",
   "name": "python3"
  },
  "language_info": {
   "codemirror_mode": {
    "name": "ipython",
    "version": 3
   },
   "file_extension": ".py",
   "mimetype": "text/x-python",
   "name": "python",
   "nbconvert_exporter": "python",
   "pygments_lexer": "ipython3",
   "version": "3.11.3"
  }
 },
 "nbformat": 4,
 "nbformat_minor": 5
}
